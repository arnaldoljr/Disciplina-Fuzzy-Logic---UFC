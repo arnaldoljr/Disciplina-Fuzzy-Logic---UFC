{
 "cells": [
  {
   "cell_type": "markdown",
   "metadata": {},
   "source": [
    "$$ {\\huge \\text{ Disciplina: Lógica Fuzzy }}\\\\  \\\\  \\text{ Cap 9 - Tomada de Decisão em Sistemas Fuzzy }\\\\\n",
    "\\ \\  \\ \\ \\ \\ \n",
    "\\\\\n",
    " { \\it  \\text{ Discente: Prof. Dr. João Fernando }  }\n",
    " \\\\\n",
    "\\text{ Monitor: Arnaldo Araújo} \\\\\n",
    "\\text{ Mestrado e Doutorado em Ciências da Computação - UFC }$$\n"
   ]
  },
  {
   "cell_type": "markdown",
   "metadata": {},
   "source": [
    "# Exemplo 9.1 - NOS LIVROS ANTIGOS É O CAPÍTULO 10"
   ]
  },
  {
   "cell_type": "markdown",
   "metadata": {},
   "source": [
    "<img src=\"Images/exem1011.png\">"
   ]
  },
  {
   "cell_type": "markdown",
   "metadata": {},
   "source": [
    "<img src=\"Images/exem1012.png\">"
   ]
  },
  {
   "cell_type": "code",
   "execution_count": 5,
   "metadata": {
    "collapsed": true
   },
   "outputs": [],
   "source": [
    "import numpy as np\n",
    "import skfuzzy as fuzz\n",
    "import skfuzzy.control as ctrl\n",
    "import matplotlib\n",
    "import matplotlib.pyplot as plt\n",
    "import matplotlib.lines as mlines\n",
    "from matplotlib.font_manager import FontProperties\n",
    "%matplotlib inline "
   ]
  },
  {
   "cell_type": "code",
   "execution_count": 8,
   "metadata": {},
   "outputs": [
    {
     "data": {
      "text/plain": [
       "array([ 0.4,  0.3,  0.2,  0.1])"
      ]
     },
     "execution_count": 8,
     "metadata": {},
     "output_type": "execute_result"
    }
   ],
   "source": [
    "# Score de 0.4 para performance, 0.3 para custo, 0.2 para disponibilidade, 0.1 para software\n",
    "w = np.array([0.4,0.3,0.2,0.1])\n",
    "w"
   ]
  },
  {
   "cell_type": "code",
   "execution_count": 10,
   "metadata": {},
   "outputs": [
    {
     "data": {
      "text/plain": [
       "array([[ 0.1,  0.3,  0.4,  0.2],\n",
       "       [ 0. ,  0.1,  0.8,  0.1],\n",
       "       [ 0.1,  0.6,  0.2,  0.1],\n",
       "       [ 0.1,  0.4,  0.3,  0.2]])"
      ]
     },
     "execution_count": 10,
     "metadata": {},
     "output_type": "execute_result"
    }
   ],
   "source": [
    "R = np.array([[0.1,0.3,0.4,0.2],[0.,0.1,0.8,0.1],[0.1,0.6,0.2,0.1],[0.1,0.4,0.3,0.2]])\n",
    "R"
   ]
  },
  {
   "cell_type": "code",
   "execution_count": 11,
   "metadata": {},
   "outputs": [
    {
     "data": {
      "text/plain": [
       "array([[ 0.1,  0.3,  0.4,  0.2]])"
      ]
     },
     "execution_count": 11,
     "metadata": {},
     "output_type": "execute_result"
    }
   ],
   "source": [
    "e = fuzz.maxmin_composition(w,R)\n",
    "e"
   ]
  },
  {
   "cell_type": "markdown",
   "metadata": {},
   "source": [
    "$$\\large{\\text{Logo, temos que o produto será enquadrado à categoria ADEQUADO }}$$"
   ]
  },
  {
   "cell_type": "markdown",
   "metadata": {},
   "source": [
    "# Exemplo 9.2"
   ]
  },
  {
   "cell_type": "markdown",
   "metadata": {},
   "source": [
    "<img src=\"Images/exem1021.png\">"
   ]
  },
  {
   "cell_type": "code",
   "execution_count": 13,
   "metadata": {
    "collapsed": true
   },
   "outputs": [],
   "source": [
    "I1 = np.array([1,0.8])# 3,7\n",
    "I2 = np.array([0.7,1.]) # 4,6\n",
    "I3 = np.array([0.8,1.,0.5]) # 2,4,8"
   ]
  },
  {
   "cell_type": "markdown",
   "metadata": {},
   "source": [
    "$$I1 \\geqslant\n",
    "I2 $$"
   ]
  },
  {
   "cell_type": "code",
   "execution_count": 22,
   "metadata": {},
   "outputs": [
    {
     "data": {
      "text/plain": [
       "0.80000000000000004"
      ]
     },
     "execution_count": 22,
     "metadata": {},
     "output_type": "execute_result"
    }
   ],
   "source": [
    "I1I2 = max(min(I1[1],I2[0]),min(I1[1],I2[1]))\n",
    "I1I2"
   ]
  },
  {
   "cell_type": "markdown",
   "metadata": {},
   "source": [
    "$$\\large{\\text{Similarmente para todas as combinações }}$$"
   ]
  },
  {
   "cell_type": "markdown",
   "metadata": {},
   "source": [
    "<img src=\"Images/exem1022.png\">"
   ]
  },
  {
   "cell_type": "markdown",
   "metadata": {},
   "source": [
    "$$\\large{\\text{Logo: }}$$"
   ]
  },
  {
   "cell_type": "markdown",
   "metadata": {},
   "source": [
    "<img src=\"Images/exem1023.png\">"
   ]
  },
  {
   "cell_type": "markdown",
   "metadata": {},
   "source": [
    "$$\\large{\\text{Deste modo:  } I2 \\geqslant\n",
    "I1  \\geqslant I3  }$$"
   ]
  },
  {
   "cell_type": "markdown",
   "metadata": {},
   "source": [
    "# Exemplo 9.3"
   ]
  },
  {
   "cell_type": "markdown",
   "metadata": {},
   "source": [
    "<img src=\"Images/exem1031.png\">"
   ]
  },
  {
   "cell_type": "markdown",
   "metadata": {},
   "source": [
    "<img src=\"Images/exem1032.png\">"
   ]
  },
  {
   "cell_type": "code",
   "execution_count": 25,
   "metadata": {},
   "outputs": [
    {
     "data": {
      "text/plain": [
       "array([[ 1. ,  0.5,  0.3,  0.2],\n",
       "       [ 0.7,  1. ,  0.8,  0.9],\n",
       "       [ 0.5,  0.3,  1. ,  0.7],\n",
       "       [ 0.3,  0.1,  0.3,  1. ]])"
      ]
     },
     "execution_count": 25,
     "metadata": {},
     "output_type": "execute_result"
    }
   ],
   "source": [
    "Mat = np.array([[1.,0.5,0.3,0.2],[0.7,1.,0.8,0.9],[0.5,0.3,1.,0.7],[0.3,0.1,0.3,1.]])\n"
   ]
  },
  {
   "cell_type": "code",
   "execution_count": 32,
   "metadata": {
    "collapsed": true
   },
   "outputs": [],
   "source": [
    "#Matriz Condicional\n",
    "def MaCcond(A):\n",
    "    n = A.shape[0]\n",
    "    C = np.zeros((n,n))\n",
    "    for i in range(n):\n",
    "        for j in range(n):\n",
    "            C[i,j] = A[j,i] / max(A[j,i],A[i,j])\n",
    "    return C\n",
    "\n",
    "#Vetor das ordens\n",
    "def V_Ordem(M):\n",
    "    n = M.shape[0]\n",
    "    v = np.zeros((n))\n",
    "    for i in range(n):\n",
    "        v[i] = min(M[i,:])\n",
    "    return v\n",
    "            "
   ]
  },
  {
   "cell_type": "code",
   "execution_count": 34,
   "metadata": {},
   "outputs": [
    {
     "data": {
      "text/plain": [
       "array([[ 1.        ,  1.        ,  1.        ,  1.        ],\n",
       "       [ 0.71428571,  1.        ,  0.375     ,  0.11111111],\n",
       "       [ 0.6       ,  1.        ,  1.        ,  0.42857143],\n",
       "       [ 0.66666667,  1.        ,  1.        ,  1.        ]])"
      ]
     },
     "execution_count": 34,
     "metadata": {},
     "output_type": "execute_result"
    }
   ],
   "source": [
    "Fcond = MaCcond(Mat)\n",
    "Fcond"
   ]
  },
  {
   "cell_type": "code",
   "execution_count": 36,
   "metadata": {},
   "outputs": [
    {
     "data": {
      "text/plain": [
       "array([ 1.        ,  0.11111111,  0.42857143,  0.66666667])"
      ]
     },
     "execution_count": 36,
     "metadata": {},
     "output_type": "execute_result"
    }
   ],
   "source": [
    "posicao = V_Ordem(Fcond)\n",
    "posicao"
   ]
  },
  {
   "cell_type": "markdown",
   "metadata": {},
   "source": [
    "Deste modo, temos que  X1 é o primeiro da ordem diantes do valor 1, \n",
    "X4 é o segundo com pontuação de 0.666, X3 o terceiro com pontuação de 0.428 e, por fim, X2 com pontuação de 0.111.\n"
   ]
  },
  {
   "cell_type": "markdown",
   "metadata": {},
   "source": [
    "$$\\Large{\\text{ X1 >\n",
    " X4 >\n",
    " X3 >\n",
    " X2  }}$$"
   ]
  },
  {
   "cell_type": "markdown",
   "metadata": {},
   "source": [
    "# Exemplo 9.5 - TOMADA DE DECISÃO MULTIOBJETIVO"
   ]
  },
  {
   "cell_type": "markdown",
   "metadata": {},
   "source": [
    "<img src=\"Images/exem1051.png\">"
   ]
  },
  {
   "cell_type": "markdown",
   "metadata": {},
   "source": [
    "<img src=\"Images/exem1052.png\">"
   ]
  },
  {
   "cell_type": "code",
   "execution_count": 47,
   "metadata": {
    "collapsed": true
   },
   "outputs": [],
   "source": [
    "O = np.array([[0.4,1.,0.1],[0.7,.8,0.4],[0.2,0.4,1],[1.0,0.5,0.5]])\n",
    "b = np.array([0.8,.9,0.7,0.5])\n",
    "b_barra =  1-b\n"
   ]
  },
  {
   "cell_type": "code",
   "execution_count": 50,
   "metadata": {},
   "outputs": [
    {
     "data": {
      "text/plain": [
       "0.5"
      ]
     },
     "execution_count": 50,
     "metadata": {},
     "output_type": "execute_result"
    }
   ],
   "source": [
    "min(b)"
   ]
  },
  {
   "cell_type": "code",
   "execution_count": 49,
   "metadata": {},
   "outputs": [
    {
     "data": {
      "text/plain": [
       "array([[ 0.4,  1. ,  0.1],\n",
       "       [ 0.7,  0.8,  0.4],\n",
       "       [ 0.2,  0.4,  1. ],\n",
       "       [ 1. ,  0.5,  0.5]])"
      ]
     },
     "execution_count": 49,
     "metadata": {},
     "output_type": "execute_result"
    }
   ],
   "source": [
    "O"
   ]
  },
  {
   "cell_type": "code",
   "execution_count": 87,
   "metadata": {},
   "outputs": [],
   "source": [
    "def Escolha(O,b_barra):\n",
    "    M = np.copy(O)\n",
    "    l,c = O.shape\n",
    "    v = np.zeros((c,1))\n",
    "    for j in range(c):\n",
    "        com1 = np.zeros((l,1))\n",
    "        for i in range(l):\n",
    "            com1[i] = max(M[i,j],b_barra[i])\n",
    "            menor = min(com1)\n",
    "        v[j] = menor\n",
    "    D = np.argmax(v)\n",
    "    return D+1,v\n",
    "            \n",
    "\n"
   ]
  },
  {
   "cell_type": "code",
   "execution_count": 88,
   "metadata": {},
   "outputs": [
    {
     "data": {
      "text/plain": [
       "2"
      ]
     },
     "execution_count": 88,
     "metadata": {},
     "output_type": "execute_result"
    }
   ],
   "source": [
    "Opcao,v = Escolha(O,b_barra)\n",
    "Opcao"
   ]
  },
  {
   "cell_type": "code",
   "execution_count": 89,
   "metadata": {},
   "outputs": [
    {
     "data": {
      "text/plain": [
       "array([[ 0.3],\n",
       "       [ 0.4],\n",
       "       [ 0.2]])"
      ]
     },
     "execution_count": 89,
     "metadata": {},
     "output_type": "execute_result"
    }
   ],
   "source": [
    "#Posição 1 do vetor.\n",
    "v"
   ]
  },
  {
   "cell_type": "markdown",
   "metadata": {},
   "source": [
    "$$\\large{\\text{Logo, a opção escolhida é a segunda (MURO DE CONCRETO)}}$$"
   ]
  },
  {
   "cell_type": "markdown",
   "metadata": {},
   "source": [
    "## CENÁRIO 2"
   ]
  },
  {
   "cell_type": "code",
   "execution_count": 97,
   "metadata": {},
   "outputs": [],
   "source": [
    "#NOVO B\n",
    "b2 =  np.array([0.5,0.7,0.8,0.7])\n",
    "b2_barra = 1-b2\n",
    "Opcao2,v2 = Escolha(O,b2_barra)\n"
   ]
  },
  {
   "cell_type": "code",
   "execution_count": 98,
   "metadata": {},
   "outputs": [
    {
     "data": {
      "text/plain": [
       "2"
      ]
     },
     "execution_count": 98,
     "metadata": {},
     "output_type": "execute_result"
    }
   ],
   "source": [
    "Opcao2"
   ]
  },
  {
   "cell_type": "markdown",
   "metadata": {},
   "source": [
    "$$\\large\\text{TEMOS UM EMPATE}$$"
   ]
  },
  {
   "cell_type": "code",
   "execution_count": 99,
   "metadata": {},
   "outputs": [
    {
     "data": {
      "text/plain": [
       "array([[ 0.2],\n",
       "       [ 0.4],\n",
       "       [ 0.4]])"
      ]
     },
     "execution_count": 99,
     "metadata": {},
     "output_type": "execute_result"
    }
   ],
   "source": [
    "v2"
   ]
  },
  {
   "cell_type": "markdown",
   "metadata": {},
   "source": [
    "$$\\large\\text{Você remove o fator que causou o empate}$$"
   ]
  },
  {
   "cell_type": "code",
   "execution_count": 101,
   "metadata": {},
   "outputs": [
    {
     "data": {
      "text/plain": [
       "0.5"
      ]
     },
     "execution_count": 101,
     "metadata": {},
     "output_type": "execute_result"
    }
   ],
   "source": [
    "Dc2 = min(max( 0.5, 1), max( 0.3, 0.8 ),max(0.3, 0.5))\n",
    "Dc2"
   ]
  },
  {
   "cell_type": "code",
   "execution_count": 103,
   "metadata": {},
   "outputs": [
    {
     "data": {
      "text/plain": [
       "0.5"
      ]
     },
     "execution_count": 103,
     "metadata": {},
     "output_type": "execute_result"
    }
   ],
   "source": [
    "Dc3 = min(max( 0.5, 0.1), max( 0.2, 1. ),max(0.3, 0.5))\n",
    "Dc3"
   ]
  },
  {
   "cell_type": "markdown",
   "metadata": {},
   "source": [
    "$$\\large\\text{Você remove novamente o fator que causou o empate}$$"
   ]
  },
  {
   "cell_type": "code",
   "execution_count": 105,
   "metadata": {},
   "outputs": [
    {
     "data": {
      "text/plain": [
       "0.8"
      ]
     },
     "execution_count": 105,
     "metadata": {},
     "output_type": "execute_result"
    }
   ],
   "source": [
    "DDc2= min(max( 0.5, 1), max( 0.3, 0.8 ))\n",
    "DDc2"
   ]
  },
  {
   "cell_type": "code",
   "execution_count": 108,
   "metadata": {},
   "outputs": [
    {
     "data": {
      "text/plain": [
       "1.0"
      ]
     },
     "execution_count": 108,
     "metadata": {},
     "output_type": "execute_result"
    }
   ],
   "source": [
    "DDc3 =  max( 0.2, 1. ) \n",
    "DDc3"
   ]
  },
  {
   "cell_type": "markdown",
   "metadata": {},
   "source": [
    "$$\\large\\text{Logo a opção 3 será a escolhida - GABION WALL}$$"
   ]
  },
  {
   "cell_type": "markdown",
   "metadata": {},
   "source": [
    "## Exercícios"
   ]
  },
  {
   "cell_type": "markdown",
   "metadata": {},
   "source": [
    "<img src=\"Images/exer92.png\">"
   ]
  },
  {
   "cell_type": "code",
   "execution_count": null,
   "metadata": {
    "collapsed": true
   },
   "outputs": [],
   "source": []
  },
  {
   "cell_type": "markdown",
   "metadata": {},
   "source": [
    "<img src=\"Images/exer93.png\">"
   ]
  },
  {
   "cell_type": "markdown",
   "metadata": {},
   "source": [
    "<img src=\"Images/exer932.png\">"
   ]
  },
  {
   "cell_type": "code",
   "execution_count": null,
   "metadata": {
    "collapsed": true
   },
   "outputs": [],
   "source": []
  },
  {
   "cell_type": "markdown",
   "metadata": {},
   "source": [
    "<img src=\"Images/exer97.png\">"
   ]
  },
  {
   "cell_type": "code",
   "execution_count": null,
   "metadata": {
    "collapsed": true
   },
   "outputs": [],
   "source": []
  }
 ],
 "metadata": {
  "kernelspec": {
   "display_name": "Python 3",
   "language": "python",
   "name": "python3"
  },
  "language_info": {
   "codemirror_mode": {
    "name": "ipython",
    "version": 3
   },
   "file_extension": ".py",
   "mimetype": "text/x-python",
   "name": "python",
   "nbconvert_exporter": "python",
   "pygments_lexer": "ipython3",
   "version": "3.6.2"
  }
 },
 "nbformat": 4,
 "nbformat_minor": 2
}
