{
 "cells": [
  {
   "cell_type": "markdown",
   "metadata": {},
   "source": [
    "$$ {\\huge \\text{ Disciplina: Lógica Fuzzy }}\\\\  \\\\  \\large{\\text{AULA 2.1 -  Composição Fuzzy }}\\\\\n",
    "\\ \\  \\ \\ \\ \\ \n",
    "\\\\\n",
    " { \\it  \\text{ Discente: Prof. Dr. João Fernando }  }\n",
    " \\\\\n",
    "\\text{ Monitor: Arnaldo Araújo} \\\\\n",
    "\\text{ Mestrado e Doutorado em Ciências da Computação - UFC }$$\n"
   ]
  },
  {
   "cell_type": "markdown",
   "metadata": {},
   "source": [
    "Exercícios Livro Texto da disciplina \n",
    "\n",
    "FUZZY LOGIC WITH ENGINEERING APPLICATIONS ( Timothy J. Ross )"
   ]
  },
  {
   "cell_type": "code",
   "execution_count": 1,
   "metadata": {
    "collapsed": true
   },
   "outputs": [],
   "source": [
    "#importar os pacotes necessários\n",
    "import numpy as np\n",
    "import skfuzzy as fuzz\n",
    "import matplotlib\n",
    "import matplotlib.pyplot as plt\n",
    "import matplotlib.lines as mlines\n",
    "from matplotlib.font_manager import FontProperties\n",
    "%matplotlib inline \n",
    "import matplotlib.pyplot as plt\n",
    "import matplotlib.image as mpimg\n"
   ]
  },
  {
   "cell_type": "markdown",
   "metadata": {},
   "source": [
    "## Exercício 3.11 "
   ]
  },
  {
   "cell_type": "markdown",
   "metadata": {},
   "source": [
    "<img src=\"Images/exer31.png\">"
   ]
  },
  {
   "cell_type": "code",
   "execution_count": 2,
   "metadata": {
    "collapsed": true
   },
   "outputs": [],
   "source": [
    "#definir o intervalo das variáveis Voltagem e Tempo\n",
    "voltagem = np.arange(2.98, 3.03, 0.01) #intervalo para a primeira rampa \n",
    "tempo= np.arange(0.05,0.11,0.01) #intervalo de tempo em segundos"
   ]
  },
  {
   "cell_type": "code",
   "execution_count": 3,
   "metadata": {},
   "outputs": [
    {
     "data": {
      "text/plain": [
       "array([ 2.98,  2.99,  3.  ,  3.01,  3.02])"
      ]
     },
     "execution_count": 3,
     "metadata": {},
     "output_type": "execute_result"
    }
   ],
   "source": [
    "voltagem"
   ]
  },
  {
   "cell_type": "code",
   "execution_count": 4,
   "metadata": {},
   "outputs": [
    {
     "data": {
      "text/plain": [
       "array([ 0.05,  0.06,  0.07,  0.08,  0.09,  0.1 ])"
      ]
     },
     "execution_count": 4,
     "metadata": {},
     "output_type": "execute_result"
    }
   ],
   "source": [
    "tempo"
   ]
  },
  {
   "cell_type": "code",
   "execution_count": 5,
   "metadata": {},
   "outputs": [
    {
     "data": {
      "text/plain": [
       "array([ 0.1,  0.3,  0.3,  0.4,  0.5,  1. ])"
      ]
     },
     "execution_count": 5,
     "metadata": {},
     "output_type": "execute_result"
    }
   ],
   "source": [
    "volt = np.array([0.1,0.3,0.3,0.4,0.5,1.0])\n",
    "volt"
   ]
  },
  {
   "cell_type": "code",
   "execution_count": 11,
   "metadata": {},
   "outputs": [
    {
     "data": {
      "text/plain": [
       "array([ 0.25,  0.5 ,  0.75,  1.  ,  0.5 ,  0.  ])"
      ]
     },
     "execution_count": 11,
     "metadata": {},
     "output_type": "execute_result"
    }
   ],
   "source": [
    "time"
   ]
  },
  {
   "cell_type": "code",
   "execution_count": 6,
   "metadata": {},
   "outputs": [
    {
     "data": {
      "text/plain": [
       "array([ 0.1,  0.3,  0.3,  0.4,  0.5,  1. ])"
      ]
     },
     "execution_count": 6,
     "metadata": {},
     "output_type": "execute_result"
    }
   ],
   "source": [
    "time = np.array([0.1,0.3,0.3,0.4,0.5,1.0])\n",
    "time"
   ]
  },
  {
   "cell_type": "code",
   "execution_count": 7,
   "metadata": {
    "collapsed": true
   },
   "outputs": [],
   "source": [
    "#relação voltagem  X tempo\n",
    "R = fuzz.cartprod(volt,time)"
   ]
  },
  {
   "cell_type": "code",
   "execution_count": 8,
   "metadata": {},
   "outputs": [
    {
     "data": {
      "text/plain": [
       "array([[ 0.1,  0.1,  0.1,  0.1,  0.1,  0.1],\n",
       "       [ 0.1,  0.3,  0.3,  0.3,  0.3,  0.3],\n",
       "       [ 0.1,  0.3,  0.3,  0.3,  0.3,  0.3],\n",
       "       [ 0.1,  0.3,  0.3,  0.4,  0.4,  0.4],\n",
       "       [ 0.1,  0.3,  0.3,  0.4,  0.5,  0.5],\n",
       "       [ 0.1,  0.3,  0.3,  0.4,  0.5,  1. ]])"
      ]
     },
     "execution_count": 8,
     "metadata": {},
     "output_type": "execute_result"
    }
   ],
   "source": [
    "R"
   ]
  },
  {
   "cell_type": "code",
   "execution_count": 9,
   "metadata": {
    "collapsed": true
   },
   "outputs": [],
   "source": [
    "#função que descreve a variável STOP ( tempo de parada para calibrar a luz\\sombra do flash)\n",
    "stop = np.arange(0, 1.1, 0.5)"
   ]
  },
  {
   "cell_type": "code",
   "execution_count": 10,
   "metadata": {},
   "outputs": [
    {
     "data": {
      "text/plain": [
       "array([ 0. ,  0.5,  1. ])"
      ]
     },
     "execution_count": 10,
     "metadata": {},
     "output_type": "execute_result"
    }
   ],
   "source": [
    "stop"
   ]
  },
  {
   "cell_type": "code",
   "execution_count": 11,
   "metadata": {},
   "outputs": [
    {
     "data": {
      "text/plain": [
       "array([ 0.1,  0.7,  0.3])"
      ]
     },
     "execution_count": 11,
     "metadata": {},
     "output_type": "execute_result"
    }
   ],
   "source": [
    "stop_f = np.array([0.1,0.7,0.3])\n",
    "stop_f"
   ]
  },
  {
   "cell_type": "code",
   "execution_count": 12,
   "metadata": {
    "collapsed": true
   },
   "outputs": [],
   "source": [
    "#solução item b - relacionamento tempo e métrica de parada.\n",
    "S = fuzz.cartprod(time,stop_f)"
   ]
  },
  {
   "cell_type": "code",
   "execution_count": 13,
   "metadata": {},
   "outputs": [
    {
     "data": {
      "text/plain": [
       "array([[ 0.1,  0.1,  0.1],\n",
       "       [ 0.1,  0.3,  0.3],\n",
       "       [ 0.1,  0.3,  0.3],\n",
       "       [ 0.1,  0.4,  0.3],\n",
       "       [ 0.1,  0.5,  0.3],\n",
       "       [ 0.1,  0.7,  0.3]])"
      ]
     },
     "execution_count": 13,
     "metadata": {},
     "output_type": "execute_result"
    }
   ],
   "source": [
    "\n",
    "S"
   ]
  },
  {
   "cell_type": "code",
   "execution_count": 14,
   "metadata": {
    "collapsed": true
   },
   "outputs": [],
   "source": [
    "C1 = fuzz.maxmin_composition(R,S)"
   ]
  },
  {
   "cell_type": "code",
   "execution_count": 15,
   "metadata": {},
   "outputs": [
    {
     "data": {
      "text/plain": [
       "array([[ 0.1,  0.1,  0.1],\n",
       "       [ 0.1,  0.3,  0.3],\n",
       "       [ 0.1,  0.3,  0.3],\n",
       "       [ 0.1,  0.4,  0.3],\n",
       "       [ 0.1,  0.5,  0.3],\n",
       "       [ 0.1,  0.7,  0.3]])"
      ]
     },
     "execution_count": 15,
     "metadata": {},
     "output_type": "execute_result"
    }
   ],
   "source": [
    "C1"
   ]
  },
  {
   "cell_type": "code",
   "execution_count": 16,
   "metadata": {
    "collapsed": true
   },
   "outputs": [],
   "source": [
    "C2 = fuzz.maxprod_composition(R,S)"
   ]
  },
  {
   "cell_type": "code",
   "execution_count": 17,
   "metadata": {},
   "outputs": [
    {
     "data": {
      "text/plain": [
       "array([[ 0.01,  0.07,  0.03],\n",
       "       [ 0.03,  0.21,  0.09],\n",
       "       [ 0.03,  0.21,  0.09],\n",
       "       [ 0.04,  0.28,  0.12],\n",
       "       [ 0.05,  0.35,  0.15],\n",
       "       [ 0.1 ,  0.7 ,  0.3 ]])"
      ]
     },
     "execution_count": 17,
     "metadata": {},
     "output_type": "execute_result"
    }
   ],
   "source": [
    "C2"
   ]
  },
  {
   "cell_type": "markdown",
   "metadata": {},
   "source": [
    "## Avaliar quão similares são os dois conjuntos."
   ]
  },
  {
   "cell_type": "code",
   "execution_count": 18,
   "metadata": {},
   "outputs": [
    {
     "data": {
      "text/plain": [
       "0.69999999999999996"
      ]
     },
     "execution_count": 18,
     "metadata": {},
     "output_type": "execute_result"
    }
   ],
   "source": [
    "#Pelo Método Mínino  - \n",
    "Sim = fuzz.fuzzy_similarity(C1,C2,'min')\n",
    "Sim"
   ]
  },
  {
   "cell_type": "code",
   "execution_count": 19,
   "metadata": {},
   "outputs": [
    {
     "data": {
      "text/plain": [
       "0.80000000000000004"
      ]
     },
     "execution_count": 19,
     "metadata": {},
     "output_type": "execute_result"
    }
   ],
   "source": [
    "Sim2 = fuzz.fuzzy_similarity(C1,C2,'avg')\n",
    "Sim2"
   ]
  },
  {
   "cell_type": "markdown",
   "metadata": {},
   "source": [
    "# Um pouco mais de composição fuzzy\n",
    "## Exemplo apresentado em sala de aula"
   ]
  },
  {
   "cell_type": "markdown",
   "metadata": {},
   "source": [
    "<img src=\"Images/EnunciadoExemplo.png\">"
   ]
  },
  {
   "cell_type": "markdown",
   "metadata": {},
   "source": [
    "## Vamos Definir os conjuntos fuzzy"
   ]
  },
  {
   "cell_type": "markdown",
   "metadata": {},
   "source": [
    "<img src=\"Images/exemplo.png\">"
   ]
  },
  {
   "cell_type": "markdown",
   "metadata": {},
   "source": [
    "<hr />\n",
    "\n",
    "<hr />\n",
    "### Pergunta: É possível inferir algo sobre os alunos diante das Disciplinas de Inteligência Artificial( Lógica Fuzzy, Controle Fuzzy, Redes Neurais, Sistemas Especialistas) ?  \n",
    "<hr />\n",
    "\n",
    "<hr />"
   ]
  },
  {
   "cell_type": "code",
   "execution_count": 2,
   "metadata": {},
   "outputs": [
    {
     "data": {
      "text/plain": [
       "array([[ 0.2,  1. ,  0.8,  0.1],\n",
       "       [ 1. ,  0.1,  0. ,  0.5],\n",
       "       [ 0.5,  0.9,  0.5,  1. ]])"
      ]
     },
     "execution_count": 2,
     "metadata": {},
     "output_type": "execute_result"
    }
   ],
   "source": [
    "P = np.array([[0.2,1,0.8,0.1],[1,0.1,0,0.5],[0.5,0.9,0.5,1]])\n",
    "P"
   ]
  },
  {
   "cell_type": "code",
   "execution_count": 3,
   "metadata": {},
   "outputs": [
    {
     "data": {
      "text/plain": [
       "array([[ 1. ,  0.5,  0.6,  0.1],\n",
       "       [ 0.2,  1. ,  0.8,  0.8],\n",
       "       [ 0. ,  0.3,  0.7,  0. ],\n",
       "       [ 0.1,  0.5,  0.8,  1. ]])"
      ]
     },
     "execution_count": 3,
     "metadata": {},
     "output_type": "execute_result"
    }
   ],
   "source": [
    "Q = np.array([[1.,0.5,0.6,0.1],[0.2,1.,0.8,0.8],[0,0.3,0.7,0],[0.1,0.5,0.8,1.]])\n",
    "Q"
   ]
  },
  {
   "cell_type": "code",
   "execution_count": 5,
   "metadata": {},
   "outputs": [
    {
     "data": {
      "text/plain": [
       "array([[ 0.2,  1. ,  0.8,  0.8],\n",
       "       [ 1. ,  0.5,  0.6,  0.5],\n",
       "       [ 0.5,  0.9,  0.8,  1. ]])"
      ]
     },
     "execution_count": 5,
     "metadata": {},
     "output_type": "execute_result"
    }
   ],
   "source": [
    "PoQ = fuzz.maxmin_composition(P,Q)\n",
    "PoQ"
   ]
  },
  {
   "cell_type": "code",
   "execution_count": 6,
   "metadata": {},
   "outputs": [
    {
     "data": {
      "text/plain": [
       "array([[ 0.2,  1. ,  0.8,  0.8],\n",
       "       [ 1. ,  0.5,  0.6,  0.5],\n",
       "       [ 0.5,  0.9,  0.8,  1. ]])"
      ]
     },
     "execution_count": 6,
     "metadata": {},
     "output_type": "execute_result"
    }
   ],
   "source": [
    "PoQprod = fuzz.maxprod_composition(P,Q)\n",
    "PoQprod"
   ]
  },
  {
   "cell_type": "code",
   "execution_count": null,
   "metadata": {
    "collapsed": true
   },
   "outputs": [],
   "source": []
  },
  {
   "cell_type": "markdown",
   "metadata": {},
   "source": [
    "# Defuzzificação \n"
   ]
  },
  {
   "cell_type": "markdown",
   "metadata": {},
   "source": [
    "### REVISÃO -  Funções de Pertinência"
   ]
  },
  {
   "cell_type": "code",
   "execution_count": 46,
   "metadata": {},
   "outputs": [
    {
     "name": "stderr",
     "output_type": "stream",
     "text": [
      "/usr/local/lib/python3.6/site-packages/skfuzzy/membership/generatemf.py:149: RuntimeWarning: overflow encountered in power\n",
      "  return 1. / (1. + np.abs((x - c) / a) ** (2 * b))\n",
      "/usr/local/lib/python3.6/site-packages/skfuzzy/membership/generatemf.py:340: RuntimeWarning: overflow encountered in exp\n",
      "  return 1. / (1. + np.exp(- c * (x - b)))\n"
     ]
    },
    {
     "data": {
      "image/png": "[encoded data removed]",
      "text/plain": [
       "<matplotlib.figure.Figure at 0x104acec88>"
      ]
     },
     "metadata": {},
     "output_type": "display_data"
    },
    {
     "data": {
      "image/png": "[encoded data removed]",
      "text/plain": [
       "<matplotlib.figure.Figure at 0x104e14a20>"
      ]
     },
     "metadata": {},
     "output_type": "display_data"
    }
   ],
   "source": [
    "#importar os pacotes necessários\n",
    "import numpy as np\n",
    "import skfuzzy as fuzz\n",
    "import matplotlib\n",
    "import matplotlib.pyplot as plt\n",
    "import matplotlib.lines as mlines\n",
    "from matplotlib.font_manager import FontProperties\n",
    "%matplotlib inline \n",
    "\n",
    "\n",
    "#funcoes de pertinencia para as pessoas\n",
    "valores = np.arange(0,401,1) #intervalo da variável pessoa\n",
    "v000 = fuzz.trimf(valores, [0, 0, 150]) #função Rampa Esquerda\n",
    "v00 = fuzz.trapmf(valores, [0,0, 140, 180]) #função SemiTrapezio Esquerdo\n",
    "v0 = fuzz.gaussmf(valores,250,50) #função Gaussiana\n",
    "v1 = fuzz.gbellmf(valores,50,200,70) #função Sino\n",
    "v2 = fuzz.sigmf(valores,220,20) #função Sigmoide\n",
    "v3 = fuzz.smf(valores,100,300) #Função S\n",
    "v4 = fuzz.trapmf(valores,[40,100,290,350])\n",
    "v5 = fuzz.trimf(valores,[50,150,250])\n",
    "v6 = fuzz.zmf(valores,30,330)#funcao z\n",
    "v8 = fuzz.trapmf(valores, [120, 160,400, 400])  #Semitrapezio Direito\n",
    "v7 = fuzz.trimf(valores, [150,400, 400])#rampa direita\n",
    "fig,ax = plt.subplots()\n",
    "ax.plot(valores,v000,'r--',linewidth=3,label='Rampa Esquerda')\n",
    "ax.plot(valores,v00,'g--',linewidth=3,label='SemiTrapezio Esquerdo')\n",
    "ax.plot(valores,v0,'b',linewidth=3,label='Gaussiana')\n",
    "ax.plot(valores,v1,'c',linewidth=3,label='Sino')\n",
    "ax.plot(valores,v2,'m',linewidth=3,label= 'Sigmoide')\n",
    "ax.set_ylabel('grau de pertinencia')\n",
    "ax.set_xlabel('Valores da Variavel de Entrada')\n",
    "ax.set_ylim(-0.05, 1.05);\n",
    "\n",
    "ax.legend(loc='upper right')\n",
    "ax.legend(bbox_to_anchor=(1.60, 1.15))\n",
    "plt.show()\n",
    "\n",
    "\n",
    "fig,ax = plt.subplots()\n",
    "#ax.plot(valores,v3,'y',linewidth=3,label='Funcao S')       \n",
    "ax.plot(valores,v4,'k',linewidth=3,label='Trapezio')\n",
    "ax.plot(valores,v5,'b',linewidth=3,label='Triangular')\n",
    "#ax.plot(valores,v6,'g',linewidth=3,label= 'Funcao Z')\n",
    "ax.plot(valores,v8,'r--',linewidth=3,label='Semitrapezio Direito')\n",
    "ax.plot(valores,v7,'m--',linewidth=3,label= 'Rampa direita')  \n",
    "       \n",
    "        \n",
    "ax.set_ylabel('grau de pertinencia')\n",
    "ax.set_xlabel('Valores da Variavel de Entrada')\n",
    "ax.set_ylim(-0.05, 1.05);\n",
    "\n",
    "ax.legend(loc='upper right')\n",
    "ax.legend(bbox_to_anchor=(1.60, 1.15))\n",
    "plt.show()\n",
    "\n"
   ]
  },
  {
   "cell_type": "code",
   "execution_count": 101,
   "metadata": {},
   "outputs": [
    {
     "name": "stderr",
     "output_type": "stream",
     "text": [
      "/usr/lib/pymodules/python2.7/matplotlib/collections.py:548: FutureWarning: elementwise comparison failed; returning scalar instead, but in the future will perform elementwise comparison\n",
      "  if self._edgecolors == 'face':\n"
     ]
    },
    {
     "data": {
      "image/png": "[encoded data removed]",
      "text/plain": [
       "<matplotlib.figure.Figure at 0xae4a7eec>"
      ]
     },
     "metadata": {},
     "output_type": "display_data"
    }
   ],
   "source": [
    "import numpy as np\n",
    "import matplotlib.pyplot as plt\n",
    "import skfuzzy as fuzz\n",
    "\n",
    "\n",
    "# Generate trapezoidal membership function on range [0, 1]\n",
    "x = np.arange(0, 5.05, 0.1)\n",
    "mfx = fuzz.trapmf(x, [2, 2.5, 3, 4.5])\n",
    "\n",
    "# Defuzzify this membership function five ways\n",
    "defuzz_centroid = fuzz.defuzz(x, mfx, 'centroid')  # Same as skfuzzy.centroid\n",
    "defuzz_bisector = fuzz.defuzz(x, mfx, 'bisector')\n",
    "defuzz_mom = fuzz.defuzz(x, mfx, 'mom')\n",
    "defuzz_som = fuzz.defuzz(x, mfx, 'som')\n",
    "defuzz_lom = fuzz.defuzz(x, mfx, 'lom')\n",
    "\n",
    "# Collect info for vertical lines\n",
    "labels = ['centroide', 'bissetriz', 'media dos maximos', 'minimo dos maximos',\n",
    "          'maximo dos maximos']\n",
    "xvals = [defuzz_centroid,\n",
    "         defuzz_bisector,\n",
    "         defuzz_mom,\n",
    "         defuzz_som,\n",
    "         defuzz_lom]\n",
    "colors = ['r', 'b', 'g', 'c', 'm']\n",
    "ymax = [fuzz.interp_membership(x, mfx, i) for i in xvals]\n",
    "\n",
    "# Display and compare defuzzification results against membership function\n",
    "plt.figure(figsize=(8, 5))\n",
    "\n",
    "plt.plot(x, mfx, 'k')\n",
    "for xv, y, label, color in zip(xvals, ymax, labels, colors):\n",
    "    plt.vlines(xv, 0, y, label=label, color=color)\n",
    "plt.ylabel('Fuzzy membership')\n",
    "plt.xlabel('Universe variable (arb)')\n",
    "plt.ylim(-0.1, 1.1)\n",
    "plt.legend(loc=2)\n",
    "\n",
    "plt.show()"
   ]
  },
  {
   "cell_type": "code",
   "execution_count": 102,
   "metadata": {},
   "outputs": [
    {
     "data": {
      "text/plain": [
       "array([ 0.        ,  0.        ,  0.        ,  0.        ,  0.        ,\n",
       "        0.        ,  0.        ,  0.        ,  0.        ,  0.        ,\n",
       "        0.        ,  0.        ,  0.        ,  0.        ,  0.        ,\n",
       "        0.        ,  0.        ,  0.        ,  0.        ,  0.        ,\n",
       "        0.        ,  0.2       ,  0.4       ,  0.6       ,  0.8       ,\n",
       "        1.        ,  1.        ,  1.        ,  1.        ,  1.        ,\n",
       "        1.        ,  0.93333333,  0.86666667,  0.8       ,  0.73333333,\n",
       "        0.66666667,  0.6       ,  0.53333333,  0.46666667,  0.4       ,\n",
       "        0.33333333,  0.26666667,  0.2       ,  0.13333333,  0.06666667,\n",
       "        0.        ,  0.        ,  0.        ,  0.        ,  0.        ,  0.        ])"
      ]
     },
     "execution_count": 102,
     "metadata": {},
     "output_type": "execute_result"
    }
   ],
   "source": [
    "mfx"
   ]
  },
  {
   "cell_type": "code",
   "execution_count": 103,
   "metadata": {},
   "outputs": [
    {
     "data": {
      "image/png": "[encoded data removed]",
      "text/plain": [
       "<matplotlib.figure.Figure at 0xae4a740c>"
      ]
     },
     "metadata": {},
     "output_type": "display_data"
    }
   ],
   "source": [
    "import numpy as np\n",
    "import matplotlib.pyplot as plt\n",
    "import skfuzzy as fuzz\n",
    "\n",
    "\n",
    "# Generate trapezoidal membership function on range [0, 1]\n",
    "x = np.arange(0, 5.05, 0.1)\n",
    "mfx = fuzz.trimf(x, [2, 3, 4.5])\n",
    "\n",
    "# Defuzzify this membership function five ways\n",
    "defuzz_centroid = fuzz.defuzz(x, mfx, 'centroid')  # Same as skfuzzy.centroid\n",
    "defuzz_bisector = fuzz.defuzz(x, mfx, 'bisector')\n",
    "defuzz_mom = fuzz.defuzz(x, mfx, 'mom')\n",
    "defuzz_som = fuzz.defuzz(x, mfx, 'som')\n",
    "defuzz_lom = fuzz.defuzz(x, mfx, 'lom')\n",
    "\n",
    "# Collect info for vertical lines\n",
    "labels = ['centroide', 'bissetriz', 'media dos maximos', 'minimo dos maximos',\n",
    "          'maximo dos maximos']\n",
    "xvals = [defuzz_centroid,\n",
    "         defuzz_bisector,\n",
    "         defuzz_mom,\n",
    "         defuzz_som,\n",
    "         defuzz_lom]\n",
    "colors = ['r', 'b', 'g', 'c', 'm']\n",
    "ymax = [fuzz.interp_membership(x, mfx, i) for i in xvals]\n",
    "\n",
    "# Display and compare defuzzification results against membership function\n",
    "plt.figure(figsize=(8, 5))\n",
    "\n",
    "plt.plot(x, mfx, 'k')\n",
    "for xv, y, label, color in zip(xvals, ymax, labels, colors):\n",
    "    plt.vlines(xv, 0, y, label=label, color=color)\n",
    "plt.ylabel('Fuzzy membership')\n",
    "plt.xlabel('Universe variable (arb)')\n",
    "\n",
    "plt.ylim(-0.1, 1.1)\n",
    "plt.legend(loc=2)\n",
    "\n",
    "plt.show()"
   ]
  },
  {
   "cell_type": "code",
   "execution_count": 104,
   "metadata": {},
   "outputs": [
    {
     "data": {
      "image/png": "[encoded data removed]",
      "text/plain": [
       "<matplotlib.figure.Figure at 0xae43398c>"
      ]
     },
     "metadata": {},
     "output_type": "display_data"
    }
   ],
   "source": [
    "import numpy as np\n",
    "import matplotlib.pyplot as plt\n",
    "import skfuzzy as fuzz\n",
    "\n",
    "\n",
    "# Generate trapezoidal membership function on range [0, 1]\n",
    "x = np.arange(0, 5.05, 0.1)\n",
    "mfx = fuzz.gaussmf(x, 2.5, 1)\n",
    "\n",
    "# Defuzzify this membership function five ways\n",
    "defuzz_centroid = fuzz.defuzz(x, mfx, 'centroid')  # Same as skfuzzy.centroid\n",
    "defuzz_bisector = fuzz.defuzz(x, mfx, 'bisector')\n",
    "defuzz_mom = fuzz.defuzz(x, mfx, 'mom')\n",
    "defuzz_som = fuzz.defuzz(x, mfx, 'som')\n",
    "defuzz_lom = fuzz.defuzz(x, mfx, 'lom')\n",
    "\n",
    "# Collect info for vertical lines\n",
    "labels = ['centroide', 'bissetriz', 'media dos maximos', 'minimo dos maximos',\n",
    "          'maximo dos maximos']\n",
    "xvals = [defuzz_centroid,\n",
    "         defuzz_bisector,\n",
    "         defuzz_mom,\n",
    "         defuzz_som,\n",
    "         defuzz_lom]\n",
    "colors = ['r', 'b', 'g', 'c', 'm']\n",
    "ymax = [fuzz.interp_membership(x, mfx, i) for i in xvals]\n",
    "\n",
    "# Display and compare defuzzification results against membership function\n",
    "plt.figure(figsize=(8, 5))\n",
    "\n",
    "plt.plot(x, mfx, 'k')\n",
    "for xv, y, label, color in zip(xvals, ymax, labels, colors):\n",
    "    plt.vlines(xv, 0, y, label=label, color=color)\n",
    "plt.ylabel('Fuzzy membership')\n",
    "plt.xlabel('Universe variable (arb)')\n",
    "plt.ylim(-0.1, 1.1)\n",
    "plt.legend(loc=2)\n",
    "\n",
    "plt.show()"
   ]
  },
  {
   "cell_type": "markdown",
   "metadata": {
    "collapsed": true
   },
   "source": [
    "# PARA PENSAR UM POUCO.........\n",
    "<hr/>\n",
    "## É póssivel pensar em casos onde é notório aplicar especificamente um destes métodos???"
   ]
  },
  {
   "cell_type": "code",
   "execution_count": null,
   "metadata": {
    "collapsed": true
   },
   "outputs": [],
   "source": []
  }
 ],
 "metadata": {
  "kernelspec": {
   "display_name": "Python 3",
   "language": "python",
   "name": "python3"
  },
  "language_info": {
   "codemirror_mode": {
    "name": "ipython",
    "version": 3
   },
   "file_extension": ".py",
   "mimetype": "text/x-python",
   "name": "python",
   "nbconvert_exporter": "python",
   "pygments_lexer": "ipython3",
   "version": "3.6.2"
  }
 },
 "nbformat": 4,
 "nbformat_minor": 1
}
