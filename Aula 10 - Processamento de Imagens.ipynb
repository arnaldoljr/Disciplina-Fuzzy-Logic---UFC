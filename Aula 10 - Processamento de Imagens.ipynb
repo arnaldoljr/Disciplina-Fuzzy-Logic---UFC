{
 "cells": [
  {
   "cell_type": "markdown",
   "metadata": {},
   "source": [
    "$$ {\\huge \\text{ Disciplina: Logica Fuzzy }}\\\\  \\\\  \\text{ Processamento de Imagens }\\\\\n",
    "\\ \\  \\ \\ \\ \\ \n",
    "\\\\\n",
    " { \\it  \\text{ Discente: Prof. Dr. João Fernando }  }\n",
    " \\\\\n",
    "\\text{ Monitor: Arnaldo Araújo} \\\\\n",
    "\\text{ Mestrado e Doutorado em Ciências da Computação - UFC }$$"
   ]
  },
  {
   "cell_type": "code",
   "execution_count": 7,
   "metadata": {},
   "outputs": [],
   "source": [
    "#importar os pacotes necessários\n",
    "import numpy as np\n",
    "import skfuzzy as fuzz\n",
    "import matplotlib\n",
    "import matplotlib.pyplot as plt\n",
    "import matplotlib.lines as mlines\n",
    "from skimage import data, io, filters\n",
    "from matplotlib.font_manager import FontProperties\n",
    "%matplotlib inline \n",
    "import numpy as np\n",
    "import math\n",
    "import scipy\n",
    "from sympy import *\n",
    "from numpy import *\n",
    "from IPython.display import Latex\n",
    "import skfuzzy as fuzz\n",
    "import matplotlib\n",
    "import matplotlib.pyplot as plt\n",
    "import matplotlib.lines as mlines\n",
    "from matplotlib.font_manager import FontProperties\n",
    "%matplotlib inline \n",
    "from __future__ import division\n",
    "import numpy as np\n",
    "import math\n",
    "import scipy\n",
    "from sympy import *\n",
    "from numpy import *\n",
    "from IPython.display import Latex\n",
    "import skfuzzy as fuzz\n",
    "import matplotlib\n",
    "import matplotlib.pyplot as plt\n",
    "import matplotlib.lines as mlines\n",
    "from matplotlib.font_manager import FontProperties\n",
    "%matplotlib inline \n",
    "from __future__ import division\n",
    "from skimage import img_as_float\n",
    "from PIL import Image\n",
    "import scipy.misc"
   ]
  },
  {
   "cell_type": "code",
   "execution_count": 10,
   "metadata": {},
   "outputs": [],
   "source": [
    "from scipy import misc\n",
    "import numpy as np\n",
    "#image2 = misc.imread('figura2.png')\n",
    "image = misc.imread('Images/figura.png')\n"
   ]
  },
  {
   "cell_type": "code",
   "execution_count": 99,
   "metadata": {},
   "outputs": [
    {
     "data": {
      "text/plain": [
       "array([143, 141, 141], dtype=uint8)"
      ]
     },
     "execution_count": 99,
     "metadata": {},
     "output_type": "execute_result"
    }
   ],
   "source": [
    "image1[13][13]"
   ]
  },
  {
   "cell_type": "code",
   "execution_count": 100,
   "metadata": {},
   "outputs": [
    {
     "data": {
      "text/plain": [
       "array([ 143.,  141.,  141.])"
      ]
     },
     "execution_count": 100,
     "metadata": {},
     "output_type": "execute_result"
    }
   ],
   "source": [
    "teste[0][0]"
   ]
  },
  {
   "cell_type": "code",
   "execution_count": 101,
   "metadata": {},
   "outputs": [],
   "source": [
    "teste = np.zeros((10, 10,3)) # init 2D numpy array\n",
    "for i in range(10):\n",
    "    a = 13+(26*(i))\n",
    "    for j in range(10):\n",
    "        b =  (13 + (26*j))\n",
    "        teste[i][j] = image1[a][b]"
   ]
  },
  {
   "cell_type": "code",
   "execution_count": 102,
   "metadata": {},
   "outputs": [
    {
     "data": {
      "text/plain": [
       "(10, 10, 3)"
      ]
     },
     "execution_count": 102,
     "metadata": {},
     "output_type": "execute_result"
    }
   ],
   "source": [
    "teste.shape"
   ]
  },
  {
   "cell_type": "code",
   "execution_count": 103,
   "metadata": {
    "scrolled": true
   },
   "outputs": [
    {
     "data": {
      "image/png": "[encoded data removed]",
      "text/plain": [
       "<matplotlib.figure.Figure at 0xa2aa178c>"
      ]
     },
     "metadata": {},
     "output_type": "display_data"
    }
   ],
   "source": [
    "import matplotlib.pyplot as plt # import\n",
    "plt.imshow(image1) #load\n",
    "plt.show()  #show the window"
   ]
  },
  {
   "cell_type": "code",
   "execution_count": 104,
   "metadata": {},
   "outputs": [
    {
     "data": {
      "image/png": "[encoded data removed]",
      "text/plain": [
       "<matplotlib.figure.Figure at 0xa8a5fb8c>"
      ]
     },
     "metadata": {},
     "output_type": "display_data"
    }
   ],
   "source": [
    "plt.imshow(teste) #load\n",
    "plt.show()"
   ]
  },
  {
   "cell_type": "code",
   "execution_count": 105,
   "metadata": {
    "collapsed": true
   },
   "outputs": [],
   "source": [
    "def funcao(teste):\n",
    "    teste2 = np.zeros((260, 260,3)) # init 2D numpy array\n",
    "    for i in range(260):\n",
    "        a = (int((i)/26))\n",
    "        for j in range(260):\n",
    "            b =  (int((j)/26))\n",
    "            teste2[i][j] = teste[a][b]\n",
    "    return teste2"
   ]
  },
  {
   "cell_type": "code",
   "execution_count": 106,
   "metadata": {
    "collapsed": true
   },
   "outputs": [],
   "source": [
    "teste3 = np.zeros((10,10,3))\n",
    "for i in range(10):\n",
    "    for j in range(10):\n",
    "        for k in range(3):\n",
    "            teste3[i][j][k] = 255 - teste[i][j][k] "
   ]
  },
  {
   "cell_type": "code",
   "execution_count": null,
   "metadata": {
    "collapsed": true
   },
   "outputs": [],
   "source": []
  },
  {
   "cell_type": "code",
   "execution_count": 107,
   "metadata": {},
   "outputs": [
    {
     "data": {
      "text/plain": [
       "(10, 10, 3)"
      ]
     },
     "execution_count": 107,
     "metadata": {},
     "output_type": "execute_result"
    }
   ],
   "source": [
    "teste3.shape"
   ]
  },
  {
   "cell_type": "code",
   "execution_count": 108,
   "metadata": {},
   "outputs": [
    {
     "data": {
      "text/plain": [
       "array([[[ 143.,  141.,  141.],\n",
       "        [ 143.,  141.,  141.],\n",
       "        [ 143.,  141.,  141.],\n",
       "        ..., \n",
       "        [  35.,   31.,   32.],\n",
       "        [  35.,   31.,   32.],\n",
       "        [  35.,   31.,   32.]],\n",
       "\n",
       "       [[ 143.,  141.,  141.],\n",
       "        [ 143.,  141.,  141.],\n",
       "        [ 143.,  141.,  141.],\n",
       "        ..., \n",
       "        [  35.,   31.,   32.],\n",
       "        [  35.,   31.,   32.],\n",
       "        [  35.,   31.,   32.]],\n",
       "\n",
       "       [[ 143.,  141.,  141.],\n",
       "        [ 143.,  141.,  141.],\n",
       "        [ 143.,  141.,  141.],\n",
       "        ..., \n",
       "        [  35.,   31.,   32.],\n",
       "        [  35.,   31.,   32.],\n",
       "        [  35.,   31.,   32.]],\n",
       "\n",
       "       ..., \n",
       "       [[ 143.,  141.,  141.],\n",
       "        [ 143.,  141.,  141.],\n",
       "        [ 143.,  141.,  141.],\n",
       "        ..., \n",
       "        [  35.,   31.,   32.],\n",
       "        [  35.,   31.,   32.],\n",
       "        [  35.,   31.,   32.]],\n",
       "\n",
       "       [[ 143.,  141.,  141.],\n",
       "        [ 143.,  141.,  141.],\n",
       "        [ 143.,  141.,  141.],\n",
       "        ..., \n",
       "        [  35.,   31.,   32.],\n",
       "        [  35.,   31.,   32.],\n",
       "        [  35.,   31.,   32.]],\n",
       "\n",
       "       [[ 143.,  141.,  141.],\n",
       "        [ 143.,  141.,  141.],\n",
       "        [ 143.,  141.,  141.],\n",
       "        ..., \n",
       "        [  35.,   31.,   32.],\n",
       "        [  35.,   31.,   32.],\n",
       "        [  35.,   31.,   32.]]])"
      ]
     },
     "execution_count": 108,
     "metadata": {},
     "output_type": "execute_result"
    }
   ],
   "source": [
    "teste2"
   ]
  },
  {
   "cell_type": "code",
   "execution_count": 109,
   "metadata": {},
   "outputs": [
    {
     "data": {
      "image/png": "[encoded data removed]",
      "text/plain": [
       "<matplotlib.figure.Figure at 0xa29ef90c>"
      ]
     },
     "metadata": {},
     "output_type": "display_data"
    }
   ],
   "source": [
    "plt.imshow(teste3) #load\n",
    "plt.show()"
   ]
  },
  {
   "cell_type": "code",
   "execution_count": 110,
   "metadata": {},
   "outputs": [],
   "source": [
    "grey = np.zeros((teste3.shape[0], teste3.shape[1])) # init 2D numpy array\n",
    "# get row number\n",
    "for rownum in range(len(teste3)):\n",
    "   for colnum in range(len(teste3[rownum])):\n",
    "      grey[rownum][colnum] = average(teste3[rownum][colnum])"
   ]
  },
  {
   "cell_type": "code",
   "execution_count": 111,
   "metadata": {},
   "outputs": [
    {
     "data": {
      "image/png": "[encoded data removed]",
      "text/plain": [
       "<matplotlib.figure.Figure at 0xa2a8c86c>"
      ]
     },
     "metadata": {},
     "output_type": "display_data"
    }
   ],
   "source": [
    "\n",
    "plt.imshow(funcao(grey)) #load\n",
    "plt.show()"
   ]
  },
  {
   "cell_type": "code",
   "execution_count": 112,
   "metadata": {},
   "outputs": [
    {
     "data": {
      "text/plain": [
       "(10, 10)"
      ]
     },
     "execution_count": 112,
     "metadata": {},
     "output_type": "execute_result"
    }
   ],
   "source": [
    "grey.shape"
   ]
  },
  {
   "cell_type": "code",
   "execution_count": 113,
   "metadata": {},
   "outputs": [
    {
     "data": {
      "image/png": "[encoded data removed]",
      "text/plain": [
       "<matplotlib.figure.Figure at 0xa2aac56c>"
      ]
     },
     "metadata": {},
     "output_type": "display_data"
    }
   ],
   "source": [
    "import matplotlib.cm as cm # \n",
    "\n",
    "plt.imshow(funcao(grey), cmap = matplotlib.cm.Greys_r)\n",
    "plt.show()"
   ]
  },
  {
   "cell_type": "code",
   "execution_count": 114,
   "metadata": {},
   "outputs": [
    {
     "data": {
      "text/plain": [
       "array([[[ 113.33333333,  113.33333333,  113.33333333],\n",
       "        [ 113.33333333,  113.33333333,  113.33333333],\n",
       "        [ 113.33333333,  113.33333333,  113.33333333],\n",
       "        ..., \n",
       "        [ 222.33333333,  222.33333333,  222.33333333],\n",
       "        [ 222.33333333,  222.33333333,  222.33333333],\n",
       "        [ 222.33333333,  222.33333333,  222.33333333]],\n",
       "\n",
       "       [[ 113.33333333,  113.33333333,  113.33333333],\n",
       "        [ 113.33333333,  113.33333333,  113.33333333],\n",
       "        [ 113.33333333,  113.33333333,  113.33333333],\n",
       "        ..., \n",
       "        [ 222.33333333,  222.33333333,  222.33333333],\n",
       "        [ 222.33333333,  222.33333333,  222.33333333],\n",
       "        [ 222.33333333,  222.33333333,  222.33333333]],\n",
       "\n",
       "       [[ 113.33333333,  113.33333333,  113.33333333],\n",
       "        [ 113.33333333,  113.33333333,  113.33333333],\n",
       "        [ 113.33333333,  113.33333333,  113.33333333],\n",
       "        ..., \n",
       "        [ 222.33333333,  222.33333333,  222.33333333],\n",
       "        [ 222.33333333,  222.33333333,  222.33333333],\n",
       "        [ 222.33333333,  222.33333333,  222.33333333]],\n",
       "\n",
       "       ..., \n",
       "       [[ 113.33333333,  113.33333333,  113.33333333],\n",
       "        [ 113.33333333,  113.33333333,  113.33333333],\n",
       "        [ 113.33333333,  113.33333333,  113.33333333],\n",
       "        ..., \n",
       "        [ 222.33333333,  222.33333333,  222.33333333],\n",
       "        [ 222.33333333,  222.33333333,  222.33333333],\n",
       "        [ 222.33333333,  222.33333333,  222.33333333]],\n",
       "\n",
       "       [[ 113.33333333,  113.33333333,  113.33333333],\n",
       "        [ 113.33333333,  113.33333333,  113.33333333],\n",
       "        [ 113.33333333,  113.33333333,  113.33333333],\n",
       "        ..., \n",
       "        [ 222.33333333,  222.33333333,  222.33333333],\n",
       "        [ 222.33333333,  222.33333333,  222.33333333],\n",
       "        [ 222.33333333,  222.33333333,  222.33333333]],\n",
       "\n",
       "       [[ 113.33333333,  113.33333333,  113.33333333],\n",
       "        [ 113.33333333,  113.33333333,  113.33333333],\n",
       "        [ 113.33333333,  113.33333333,  113.33333333],\n",
       "        ..., \n",
       "        [ 222.33333333,  222.33333333,  222.33333333],\n",
       "        [ 222.33333333,  222.33333333,  222.33333333],\n",
       "        [ 222.33333333,  222.33333333,  222.33333333]]])"
      ]
     },
     "execution_count": 114,
     "metadata": {},
     "output_type": "execute_result"
    }
   ],
   "source": [
    "funcao(grey)"
   ]
  },
  {
   "cell_type": "code",
   "execution_count": 115,
   "metadata": {
    "collapsed": true
   },
   "outputs": [],
   "source": [
    "mTeste = grey"
   ]
  },
  {
   "cell_type": "code",
   "execution_count": 116,
   "metadata": {},
   "outputs": [
    {
     "data": {
      "text/plain": [
       "(10, 10)"
      ]
     },
     "execution_count": 116,
     "metadata": {},
     "output_type": "execute_result"
    }
   ],
   "source": [
    "grey.shape"
   ]
  },
  {
   "cell_type": "code",
   "execution_count": 118,
   "metadata": {
    "collapsed": true
   },
   "outputs": [],
   "source": [
    "greyFuzzy = np.zeros((grey.shape[0], grey.shape[1])) # init 2D numpy array\n",
    "\n",
    "for i in range(grey.shape[0]):\n",
    "    for j in range(grey.shape[1]):\n",
    "        greyFuzzy[i][j] = (grey[i][j])/255"
   ]
  },
  {
   "cell_type": "code",
   "execution_count": 119,
   "metadata": {},
   "outputs": [
    {
     "data": {
      "text/plain": [
       "array([[ 0.44444444,  0.59346405,  0.59346405,  0.59346405,  0.59346405,\n",
       "         0.59346405,  0.44444444,  0.59346405,  0.59346405,  0.87189542],\n",
       "       [ 0.44444444,  0.44444444,  0.44444444,  0.44444444,  0.44444444,\n",
       "         0.44444444,  0.44444444,  0.44444444,  0.59346405,  0.87189542],\n",
       "       [ 0.44444444,  0.44444444,  0.29673203,  0.29673203,  0.44444444,\n",
       "         0.29673203,  0.29673203,  0.44444444,  0.59346405,  0.87189542],\n",
       "       [ 0.44444444,  0.44444444,  0.29673203,  0.44444444,  0.29673203,\n",
       "         0.29673203,  0.29673203,  0.44444444,  0.59346405,  0.87189542],\n",
       "       [ 0.44444444,  0.44444444,  0.29673203,  0.29673203,  0.29673203,\n",
       "         0.29673203,  0.29673203,  0.44444444,  0.59346405,  0.87189542],\n",
       "       [ 0.44444444,  0.44444444,  0.29673203,  0.29673203,  0.29673203,\n",
       "         0.29673203,  0.29673203,  0.44444444,  0.59346405,  0.87189542],\n",
       "       [ 0.44444444,  0.44444444,  0.44444444,  0.44444444,  0.44444444,\n",
       "         0.44444444,  0.44444444,  0.44444444,  0.59346405,  0.87189542],\n",
       "       [ 0.44444444,  0.44444444,  0.44444444,  0.44444444,  0.44444444,\n",
       "         0.44444444,  0.44444444,  0.44444444,  0.59346405,  0.87189542],\n",
       "       [ 0.44444444,  0.44444444,  0.59346405,  0.59346405,  0.59346405,\n",
       "         0.74248366,  0.59346405,  0.74248366,  0.74248366,  0.87189542],\n",
       "       [ 0.44444444,  0.74248366,  0.74248366,  0.74248366,  0.74248366,\n",
       "         0.74248366,  0.74248366,  0.74248366,  0.74248366,  0.87189542]])"
      ]
     },
     "execution_count": 119,
     "metadata": {},
     "output_type": "execute_result"
    }
   ],
   "source": [
    "greyFuzzy"
   ]
  },
  {
   "cell_type": "code",
   "execution_count": 68,
   "metadata": {},
   "outputs": [
    {
     "data": {
      "image/png": "[encoded data removed]",
      "text/plain": [
       "<matplotlib.figure.Figure at 0xb4b946ac>"
      ]
     },
     "metadata": {},
     "output_type": "display_data"
    }
   ],
   "source": [
    "plt.imshow(funcao(greyFuzzy))\n",
    "plt.show()"
   ]
  },
  {
   "cell_type": "code",
   "execution_count": 88,
   "metadata": {
    "collapsed": true
   },
   "outputs": [],
   "source": [
    "grey2 = np.zeros((grey.shape[0], grey.shape[1])) # init 2D numpy array\n",
    "def funcaoFuzzy(greyFuzzy):\n",
    "    novoFuzzy = np.zeros((greyFuzzy.shape[0], greyFuzzy.shape[1]))\n",
    "    for i in range(greyFuzzy.shape[0]):\n",
    "        for j in range(greyFuzzy.shape[1]):\n",
    "            if ((0 <= greyFuzzy[i][j]) and (greyFuzzy[i][j]<= 0.5)):\n",
    "                novoFuzzy[i][j] = (2*(greyFuzzy[i][j])**(2))\n",
    "            else:\n",
    "                novoFuzzy[i][j] = (1 - 2*(1-greyFuzzy[i][j])**(2))\n",
    "    return novoFuzzy"
   ]
  },
  {
   "cell_type": "code",
   "execution_count": 90,
   "metadata": {},
   "outputs": [
    {
     "data": {
      "text/plain": [
       "array([[ 0.31214754,  0.78148271,  0.78148271,  0.78148271,  0.78148271,\n",
       "         0.78148271,  0.31214754,  0.78148271,  0.78148271,  0.99784549],\n",
       "       [ 0.31214754,  0.31214754,  0.31214754,  0.31214754,  0.31214754,\n",
       "         0.31214754,  0.31214754,  0.31214754,  0.78148271,  0.99784549],\n",
       "       [ 0.31214754,  0.31214754,  0.06202227,  0.06202227,  0.31214754,\n",
       "         0.06202227,  0.06202227,  0.31214754,  0.78148271,  0.99784549],\n",
       "       [ 0.31214754,  0.31214754,  0.06202227,  0.31214754,  0.06202227,\n",
       "         0.06202227,  0.06202227,  0.31214754,  0.78148271,  0.99784549],\n",
       "       [ 0.31214754,  0.31214754,  0.06202227,  0.06202227,  0.06202227,\n",
       "         0.06202227,  0.06202227,  0.31214754,  0.78148271,  0.99784549],\n",
       "       [ 0.31214754,  0.31214754,  0.06202227,  0.06202227,  0.06202227,\n",
       "         0.06202227,  0.06202227,  0.31214754,  0.78148271,  0.99784549],\n",
       "       [ 0.31214754,  0.31214754,  0.31214754,  0.31214754,  0.31214754,\n",
       "         0.31214754,  0.31214754,  0.31214754,  0.78148271,  0.99784549],\n",
       "       [ 0.31214754,  0.31214754,  0.31214754,  0.31214754,  0.31214754,\n",
       "         0.31214754,  0.31214754,  0.31214754,  0.78148271,  0.99784549],\n",
       "       [ 0.31214754,  0.31214754,  0.78148271,  0.78148271,  0.78148271,\n",
       "         0.96481892,  0.78148271,  0.96481892,  0.96481892,  0.99784549],\n",
       "       [ 0.31214754,  0.96481892,  0.96481892,  0.96481892,  0.96481892,\n",
       "         0.96481892,  0.96481892,  0.96481892,  0.96481892,  0.99784549]])"
      ]
     },
     "execution_count": 90,
     "metadata": {},
     "output_type": "execute_result"
    }
   ],
   "source": [
    "funcaoFuzzy(greyFuzzy)"
   ]
  },
  {
   "cell_type": "code",
   "execution_count": 129,
   "metadata": {
    "collapsed": true
   },
   "outputs": [],
   "source": [
    "greyFuzzy2 = funcaoFuzzy(greyFuzzy)\n",
    "for k in range(4):\n",
    "    greyFuzzy2 = funcaoFuzzy(greyFuzzy2)"
   ]
  },
  {
   "cell_type": "code",
   "execution_count": 130,
   "metadata": {},
   "outputs": [
    {
     "data": {
      "image/png": "[encoded data removed]",
      "text/plain": [
       "<matplotlib.figure.Figure at 0xa42e99cc>"
      ]
     },
     "metadata": {},
     "output_type": "display_data"
    }
   ],
   "source": [
    "plt.imshow(funcao(funcao2(greyFuzzy2)), cmap = matplotlib.cm.Greys_r)\n",
    "plt.show()"
   ]
  },
  {
   "cell_type": "code",
   "execution_count": 84,
   "metadata": {},
   "outputs": [
    {
     "data": {
      "text/plain": [
       "array([[[ 100.74074074,  100.74074074,  100.74074074],\n",
       "        [ 100.74074074,  100.74074074,  100.74074074],\n",
       "        [ 100.74074074,  100.74074074,  100.74074074],\n",
       "        ..., \n",
       "        [ 246.63050109,  246.63050109,  246.63050109],\n",
       "        [ 246.63050109,  246.63050109,  246.63050109],\n",
       "        [ 246.63050109,  246.63050109,  246.63050109]],\n",
       "\n",
       "       [[ 100.74074074,  100.74074074,  100.74074074],\n",
       "        [ 100.74074074,  100.74074074,  100.74074074],\n",
       "        [ 100.74074074,  100.74074074,  100.74074074],\n",
       "        ..., \n",
       "        [ 246.63050109,  246.63050109,  246.63050109],\n",
       "        [ 246.63050109,  246.63050109,  246.63050109],\n",
       "        [ 246.63050109,  246.63050109,  246.63050109]],\n",
       "\n",
       "       [[ 100.74074074,  100.74074074,  100.74074074],\n",
       "        [ 100.74074074,  100.74074074,  100.74074074],\n",
       "        [ 100.74074074,  100.74074074,  100.74074074],\n",
       "        ..., \n",
       "        [ 246.63050109,  246.63050109,  246.63050109],\n",
       "        [ 246.63050109,  246.63050109,  246.63050109],\n",
       "        [ 246.63050109,  246.63050109,  246.63050109]],\n",
       "\n",
       "       ..., \n",
       "       [[ 100.74074074,  100.74074074,  100.74074074],\n",
       "        [ 100.74074074,  100.74074074,  100.74074074],\n",
       "        [ 100.74074074,  100.74074074,  100.74074074],\n",
       "        ..., \n",
       "        [ 246.63050109,  246.63050109,  246.63050109],\n",
       "        [ 246.63050109,  246.63050109,  246.63050109],\n",
       "        [ 246.63050109,  246.63050109,  246.63050109]],\n",
       "\n",
       "       [[ 100.74074074,  100.74074074,  100.74074074],\n",
       "        [ 100.74074074,  100.74074074,  100.74074074],\n",
       "        [ 100.74074074,  100.74074074,  100.74074074],\n",
       "        ..., \n",
       "        [ 246.63050109,  246.63050109,  246.63050109],\n",
       "        [ 246.63050109,  246.63050109,  246.63050109],\n",
       "        [ 246.63050109,  246.63050109,  246.63050109]],\n",
       "\n",
       "       [[ 100.74074074,  100.74074074,  100.74074074],\n",
       "        [ 100.74074074,  100.74074074,  100.74074074],\n",
       "        [ 100.74074074,  100.74074074,  100.74074074],\n",
       "        ..., \n",
       "        [ 246.63050109,  246.63050109,  246.63050109],\n",
       "        [ 246.63050109,  246.63050109,  246.63050109],\n",
       "        [ 246.63050109,  246.63050109,  246.63050109]]])"
      ]
     },
     "execution_count": 84,
     "metadata": {},
     "output_type": "execute_result"
    }
   ],
   "source": [
    "funcao(funcao2(greyFuzzy))"
   ]
  },
  {
   "cell_type": "code",
   "execution_count": 76,
   "metadata": {
    "collapsed": true
   },
   "outputs": [],
   "source": [
    "def funcao2(greyFuzzy):\n",
    "    grey2 = np.zeros((grey.shape[0], grey.shape[1],3)) # init 2D numpy array\n",
    "    for i in range(greyFuzzy.shape[0]):\n",
    "        for j in range(greyFuzzy.shape[1]):\n",
    "            for k in range(3):\n",
    "                grey2[i][j][k] = (greyFuzzy[i][j])*(255)\n",
    "    return grey2"
   ]
  },
  {
   "cell_type": "code",
   "execution_count": 86,
   "metadata": {},
   "outputs": [
    {
     "data": {
      "text/plain": [
       "array([[[ 25688.88888889,  25688.88888889,  25688.88888889],\n",
       "        [ 25688.88888889,  25688.88888889,  25688.88888889],\n",
       "        [ 25688.88888889,  25688.88888889,  25688.88888889],\n",
       "        ..., \n",
       "        [ 62890.77777778,  62890.77777778,  62890.77777778],\n",
       "        [ 62890.77777778,  62890.77777778,  62890.77777778],\n",
       "        [ 62890.77777778,  62890.77777778,  62890.77777778]],\n",
       "\n",
       "       [[ 25688.88888889,  25688.88888889,  25688.88888889],\n",
       "        [ 25688.88888889,  25688.88888889,  25688.88888889],\n",
       "        [ 25688.88888889,  25688.88888889,  25688.88888889],\n",
       "        ..., \n",
       "        [ 62890.77777778,  62890.77777778,  62890.77777778],\n",
       "        [ 62890.77777778,  62890.77777778,  62890.77777778],\n",
       "        [ 62890.77777778,  62890.77777778,  62890.77777778]],\n",
       "\n",
       "       [[ 25688.88888889,  25688.88888889,  25688.88888889],\n",
       "        [ 25688.88888889,  25688.88888889,  25688.88888889],\n",
       "        [ 25688.88888889,  25688.88888889,  25688.88888889],\n",
       "        ..., \n",
       "        [ 62890.77777778,  62890.77777778,  62890.77777778],\n",
       "        [ 62890.77777778,  62890.77777778,  62890.77777778],\n",
       "        [ 62890.77777778,  62890.77777778,  62890.77777778]],\n",
       "\n",
       "       ..., \n",
       "       [[ 25688.88888889,  25688.88888889,  25688.88888889],\n",
       "        [ 25688.88888889,  25688.88888889,  25688.88888889],\n",
       "        [ 25688.88888889,  25688.88888889,  25688.88888889],\n",
       "        ..., \n",
       "        [ 62890.77777778,  62890.77777778,  62890.77777778],\n",
       "        [ 62890.77777778,  62890.77777778,  62890.77777778],\n",
       "        [ 62890.77777778,  62890.77777778,  62890.77777778]],\n",
       "\n",
       "       [[ 25688.88888889,  25688.88888889,  25688.88888889],\n",
       "        [ 25688.88888889,  25688.88888889,  25688.88888889],\n",
       "        [ 25688.88888889,  25688.88888889,  25688.88888889],\n",
       "        ..., \n",
       "        [ 62890.77777778,  62890.77777778,  62890.77777778],\n",
       "        [ 62890.77777778,  62890.77777778,  62890.77777778],\n",
       "        [ 62890.77777778,  62890.77777778,  62890.77777778]],\n",
       "\n",
       "       [[ 25688.88888889,  25688.88888889,  25688.88888889],\n",
       "        [ 25688.88888889,  25688.88888889,  25688.88888889],\n",
       "        [ 25688.88888889,  25688.88888889,  25688.88888889],\n",
       "        ..., \n",
       "        [ 62890.77777778,  62890.77777778,  62890.77777778],\n",
       "        [ 62890.77777778,  62890.77777778,  62890.77777778],\n",
       "        [ 62890.77777778,  62890.77777778,  62890.77777778]]])"
      ]
     },
     "execution_count": 86,
     "metadata": {},
     "output_type": "execute_result"
    }
   ],
   "source": [
    "funcao(funcao2(grey2))"
   ]
  },
  {
   "cell_type": "code",
   "execution_count": 87,
   "metadata": {},
   "outputs": [
    {
     "data": {
      "image/png": "[encoded data removed]",
      "text/plain": [
       "<matplotlib.figure.Figure at 0xa9ded62c>"
      ]
     },
     "metadata": {},
     "output_type": "display_data"
    }
   ],
   "source": [
    "plt.imshow(funcao(funcao2(greyFuzzy)))\n",
    "plt.show()"
   ]
  },
  {
   "cell_type": "code",
   "execution_count": null,
   "metadata": {},
   "outputs": [],
   "source": [
    "fuzz1 = image1.astype(np.float)"
   ]
  },
  {
   "cell_type": "code",
   "execution_count": null,
   "metadata": {},
   "outputs": [],
   "source": [
    "print fuzz1"
   ]
  },
  {
   "cell_type": "code",
   "execution_count": null,
   "metadata": {},
   "outputs": [],
   "source": [
    "import matplotlib.pyplot as plt # import\n",
    "plt.imshow(fuzz1) #load\n",
    "plt.show()  #show the window"
   ]
  },
  {
   "cell_type": "code",
   "execution_count": null,
   "metadata": {},
   "outputs": [],
   "source": [
    "plt.imshow(fuzz1, cmap = matplotlib.cm.Greys_r)\n",
    "plt.show()"
   ]
  },
  {
   "cell_type": "code",
   "execution_count": null,
   "metadata": {
    "collapsed": true
   },
   "outputs": [],
   "source": [
    "for i in range(fuzz1.shape[0]):\n",
    "    for j in range(fuzz1.shape[1]):\n",
    "        for k in range(fuzz1.shape[2]):\n",
    "            fuzz1[i][j][k] = (fuzz1[i][j][k])/255\n",
    "                "
   ]
  },
  {
   "cell_type": "code",
   "execution_count": null,
   "metadata": {},
   "outputs": [],
   "source": [
    "fuzz1"
   ]
  },
  {
   "cell_type": "code",
   "execution_count": null,
   "metadata": {
    "collapsed": true
   },
   "outputs": [],
   "source": [
    "for i in range(fuzz1.shape[0]):\n",
    "    for j in range(fuzz1.shape[1]):\n",
    "        for k in range(fuzz1.shape[2]):\n",
    "            if ((0 <= fuzz1[i][j][k] ) and (fuzz1[i][j][k]<= 0.5)):\n",
    "                \n",
    "                fuzz1[i][j][k] = (2*(fuzz1[i][j][k])**(2))\n",
    "            else:\n",
    "                fuzz1[i][j][k] = (1 - 2*(1-fuzz1[i][j][k])**(2))"
   ]
  },
  {
   "cell_type": "code",
   "execution_count": null,
   "metadata": {},
   "outputs": [],
   "source": [
    "fuzz1"
   ]
  },
  {
   "cell_type": "code",
   "execution_count": null,
   "metadata": {
    "collapsed": true
   },
   "outputs": [],
   "source": [
    "for i in range(fuzz1.shape[0]):\n",
    "    for j in range(fuzz1.shape[1]):\n",
    "        for k in range(fuzz1.shape[2]):\n",
    "            fuzz1[i][j][k] = (fuzz1[i][j][k])*(255)"
   ]
  },
  {
   "cell_type": "code",
   "execution_count": null,
   "metadata": {},
   "outputs": [],
   "source": [
    "fuzz1"
   ]
  },
  {
   "cell_type": "code",
   "execution_count": null,
   "metadata": {},
   "outputs": [],
   "source": [
    "import matplotlib.pyplot as plt # import\n",
    "plt.imshow(fuzz1) #load\n",
    "plt.show()  #show"
   ]
  },
  {
   "cell_type": "code",
   "execution_count": null,
   "metadata": {},
   "outputs": [],
   "source": [
    "plt.imshow(fuzz1, cmap = matplotlib.cm.Greys_r)\n",
    "plt.show()"
   ]
  },
  {
   "cell_type": "code",
   "execution_count": null,
   "metadata": {},
   "outputs": [],
   "source": [
    "import matplotlib.pyplot as plt # import\n",
    "plt.imshow(image2) #load\n",
    "plt.show()  #show"
   ]
  },
  {
   "cell_type": "code",
   "execution_count": null,
   "metadata": {
    "collapsed": true
   },
   "outputs": [],
   "source": []
  },
  {
   "cell_type": "code",
   "execution_count": null,
   "metadata": {
    "collapsed": true
   },
   "outputs": [],
   "source": []
  },
  {
   "cell_type": "code",
   "execution_count": null,
   "metadata": {
    "collapsed": true
   },
   "outputs": [],
   "source": [
    "from scipy import misc\n",
    "import numpy as np\n",
    "image = misc.imread('figura.png')\n",
    "imageFuzzy = misc.imread('figura.png')\n",
    "im = Image.new(\"RGB\", (10, 10))\n",
    "im =  Image.open(\"figura.png\")"
   ]
  },
  {
   "cell_type": "code",
   "execution_count": null,
   "metadata": {},
   "outputs": [],
   "source": [
    "im.show"
   ]
  },
  {
   "cell_type": "code",
   "execution_count": null,
   "metadata": {},
   "outputs": [],
   "source": [
    " print image"
   ]
  },
  {
   "cell_type": "code",
   "execution_count": null,
   "metadata": {
    "scrolled": true
   },
   "outputs": [],
   "source": [
    "import matplotlib.pyplot as plt # import\n",
    "plt.imshow(image) #load\n",
    "plt.show()  #show the window"
   ]
  },
  {
   "cell_type": "code",
   "execution_count": null,
   "metadata": {},
   "outputs": [],
   "source": [
    "imageFuzzy = img_as_float(image)\n",
    "imageFuzzy"
   ]
  },
  {
   "cell_type": "code",
   "execution_count": null,
   "metadata": {},
   "outputs": [],
   "source": [
    "import matplotlib.pyplot as plt # import\n",
    "import matplotlib.pyplot as plt2 # import\n",
    "\n",
    "plt.imshow(imageFuzzy) #load\n",
    "plt.show()  #show the window"
   ]
  },
  {
   "cell_type": "code",
   "execution_count": null,
   "metadata": {},
   "outputs": [],
   "source": [
    "for i in range(imageFuzzy.shape[0]):\n",
    "    for j in range(imageFuzzy.shape[1]):\n",
    "        for k in range(imageFuzzy.shape[2]):\n",
    "            if ((0 <= imageFuzzy[i][j][k] ) and (imageFuzzy[i][j][k]<= 0.5)):\n",
    "                \n",
    "                imageFuzzy[i][j][k] = (2*(imageFuzzy[i][j][k])**(2))\n",
    "            else:\n",
    "                imageFuzzy[i][j][k] = (1 - 2*(1-imageFuzzy[i][j][k])**(2))"
   ]
  },
  {
   "cell_type": "code",
   "execution_count": null,
   "metadata": {},
   "outputs": [],
   "source": [
    "plt.imshow(imageFuzzy) #load\n",
    "plt.show()  #show the window\n"
   ]
  },
  {
   "cell_type": "code",
   "execution_count": null,
   "metadata": {
    "collapsed": true
   },
   "outputs": [],
   "source": []
  },
  {
   "cell_type": "code",
   "execution_count": null,
   "metadata": {
    "collapsed": true
   },
   "outputs": [],
   "source": []
  },
  {
   "cell_type": "code",
   "execution_count": null,
   "metadata": {
    "collapsed": true
   },
   "outputs": [],
   "source": []
  },
  {
   "cell_type": "code",
   "execution_count": null,
   "metadata": {
    "collapsed": true
   },
   "outputs": [],
   "source": []
  },
  {
   "cell_type": "code",
   "execution_count": null,
   "metadata": {
    "collapsed": true
   },
   "outputs": [],
   "source": []
  },
  {
   "cell_type": "code",
   "execution_count": null,
   "metadata": {
    "collapsed": true
   },
   "outputs": [],
   "source": []
  },
  {
   "cell_type": "code",
   "execution_count": null,
   "metadata": {
    "collapsed": true
   },
   "outputs": [],
   "source": []
  },
  {
   "cell_type": "code",
   "execution_count": null,
   "metadata": {
    "collapsed": true
   },
   "outputs": [],
   "source": []
  },
  {
   "cell_type": "code",
   "execution_count": null,
   "metadata": {
    "collapsed": true
   },
   "outputs": [],
   "source": []
  },
  {
   "cell_type": "code",
   "execution_count": null,
   "metadata": {
    "collapsed": true
   },
   "outputs": [],
   "source": []
  },
  {
   "cell_type": "code",
   "execution_count": null,
   "metadata": {
    "collapsed": true
   },
   "outputs": [],
   "source": []
  },
  {
   "cell_type": "code",
   "execution_count": null,
   "metadata": {},
   "outputs": [],
   "source": [
    "for i in range(novaImagem.shape[0]):\n",
    "    for j in range(novaImagem.shape[1]):\n",
    "        for k in range(novaImagem.shape[2]):\n",
    "            novaImagem[i][j][k] = (novaImagem[i][j][k])/256\n",
    "                "
   ]
  },
  {
   "cell_type": "code",
   "execution_count": null,
   "metadata": {},
   "outputs": [],
   "source": [
    "valor = 256 \n",
    "newimage = map(lambda x: x/256, image)\n",
    "plt.imshow(newimage)\n",
    "plt.show()"
   ]
  },
  {
   "cell_type": "code",
   "execution_count": null,
   "metadata": {},
   "outputs": [],
   "source": [
    "plt.imshow(novaImagem) #load\n",
    "plt.show()  #show the window"
   ]
  },
  {
   "cell_type": "code",
   "execution_count": null,
   "metadata": {},
   "outputs": [],
   "source": [
    "novaImagem.shape"
   ]
  },
  {
   "cell_type": "code",
   "execution_count": null,
   "metadata": {},
   "outputs": [],
   "source": [
    "novaImagem[0][0][0]"
   ]
  },
  {
   "cell_type": "code",
   "execution_count": null,
   "metadata": {},
   "outputs": [],
   "source": [
    "novaImagem.shape[0]"
   ]
  },
  {
   "cell_type": "code",
   "execution_count": null,
   "metadata": {
    "scrolled": true
   },
   "outputs": [],
   "source": [
    "plt.imshow(novaImagem) #load\n",
    "plt.show()  #show the window"
   ]
  },
  {
   "cell_type": "code",
   "execution_count": null,
   "metadata": {
    "collapsed": true
   },
   "outputs": [],
   "source": [
    "valor = 256 \n",
    "newimage = map(lambda x: x/256, image)"
   ]
  },
  {
   "cell_type": "code",
   "execution_count": null,
   "metadata": {},
   "outputs": [],
   "source": [
    "import matplotlib.pyplot as plt # import\n",
    "plt.imshow(image) #load\n",
    "plt.show()  #show the window"
   ]
  },
  {
   "cell_type": "code",
   "execution_count": null,
   "metadata": {},
   "outputs": [],
   "source": []
  },
  {
   "cell_type": "code",
   "execution_count": null,
   "metadata": {},
   "outputs": [],
   "source": [
    "newimage"
   ]
  },
  {
   "cell_type": "code",
   "execution_count": null,
   "metadata": {
    "collapsed": true
   },
   "outputs": [],
   "source": []
  }
 ],
 "metadata": {
  "kernelspec": {
   "display_name": "Python 3",
   "language": "python",
   "name": "python3"
  },
  "language_info": {
   "codemirror_mode": {
    "name": "ipython",
    "version": 3
   },
   "file_extension": ".py",
   "mimetype": "text/x-python",
   "name": "python",
   "nbconvert_exporter": "python",
   "pygments_lexer": "ipython3",
   "version": "3.5.2"
  }
 },
 "nbformat": 4,
 "nbformat_minor": 1
}
