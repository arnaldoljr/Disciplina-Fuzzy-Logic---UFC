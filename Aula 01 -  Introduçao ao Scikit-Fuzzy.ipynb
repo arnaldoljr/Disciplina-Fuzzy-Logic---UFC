{
 "cells": [
  {
   "cell_type": "markdown",
   "metadata": {},
   "source": [
    " $$ {\\huge \\text{ Disciplina: Lógica Fuzzy }\\\\  \\\\ }\\\\\n",
    "\\ \\  \\ \\ \\ \\ \n",
    "\\\\\n",
    " { \\it  \\text{ Discente: Prof. Dr. João Fernando }  }\n",
    " \\\\\n",
    "\\text{ Monitor: Arnaldo Araújo} \\\\\n",
    "\\text{ Mestrado e Doutorado em Ciências da Computação - UFC }$$\n"
   ]
  },
  {
   "cell_type": "markdown",
   "metadata": {},
   "source": [
    "\n",
    "# Passos para instalação\n",
    "* numpy\n",
    "* scikit-learing\n",
    "* matplotlib\n",
    "* matplotlib-py\n",
    "* scikit-fuzzy\n"
   ]
  },
  {
   "cell_type": "markdown",
   "metadata": {},
   "source": [
    "# Exemplo -  Expectativa de Público  \n",
    "- O gerente de um barco almeja prever o público para uma viagem de passeio. \n",
    "            - Temperatura do dia \n",
    "            - Quantidade de Pessoas Presentes no Passeio Anterior\n",
    "            - Variável de Saída ( Expectativa de Público )"
   ]
  },
  {
   "cell_type": "code",
   "execution_count": 1,
   "metadata": {
    "collapsed": true
   },
   "outputs": [],
   "source": [
    "#importar os pacotes necessários\n",
    "import numpy as np\n",
    "import skfuzzy as fuzz\n",
    "import matplotlib\n",
    "import matplotlib.pyplot as plt\n",
    "import matplotlib.lines as mlines\n",
    "from matplotlib.font_manager import FontProperties\n",
    "%matplotlib inline \n"
   ]
  },
  {
   "cell_type": "code",
   "execution_count": 2,
   "metadata": {
    "collapsed": true
   },
   "outputs": [],
   "source": [
    "temp = np.arange(0, 46, 1) #interlavo da variável temperatura\n",
    "pessoas = np.arange(0,101,1) #intervalo da variável pessoa\n"
   ]
  },
  {
   "cell_type": "code",
   "execution_count": 3,
   "metadata": {
    "scrolled": true
   },
   "outputs": [
    {
     "name": "stdout",
     "output_type": "stream",
     "text": [
      "[  0   1   2   3   4   5   6   7   8   9  10  11  12  13  14  15  16  17\n",
      "  18  19  20  21  22  23  24  25  26  27  28  29  30  31  32  33  34  35\n",
      "  36  37  38  39  40  41  42  43  44  45  46  47  48  49  50  51  52  53\n",
      "  54  55  56  57  58  59  60  61  62  63  64  65  66  67  68  69  70  71\n",
      "  72  73  74  75  76  77  78  79  80  81  82  83  84  85  86  87  88  89\n",
      "  90  91  92  93  94  95  96  97  98  99 100]\n"
     ]
    }
   ],
   "source": [
    "print(pessoas)"
   ]
  },
  {
   "cell_type": "code",
   "execution_count": 5,
   "metadata": {},
   "outputs": [
    {
     "name": "stdout",
     "output_type": "stream",
     "text": [
      "[ 0  1  2  3  4  5  6  7  8  9 10 11 12 13 14 15 16 17 18 19 20 21 22 23 24\n",
      " 25 26 27 28 29 30 31 32 33 34 35 36 37 38 39 40 41 42 43 44 45]\n"
     ]
    }
   ],
   "source": [
    "print(temp)"
   ]
  },
  {
   "cell_type": "code",
   "execution_count": 6,
   "metadata": {
    "collapsed": true
   },
   "outputs": [],
   "source": [
    " #funções de pertinência para temperatura \n",
    "t_quente = fuzz.trimf(temp,[34, 47, 47])\n",
    "t_moder =  fuzz.trapmf(temp,[10,21, 25, 36])\n",
    "t_frio  = fuzz.trimf(temp,[0, 0, 15])"
   ]
  },
  {
   "cell_type": "code",
   "execution_count": 8,
   "metadata": {},
   "outputs": [
    {
     "name": "stdout",
     "output_type": "stream",
     "text": [
      "[ 0.          0.          0.          0.          0.          0.          0.\n",
      "  0.          0.          0.          0.          0.          0.          0.\n",
      "  0.          0.          0.          0.          0.          0.          0.\n",
      "  0.          0.          0.          0.          0.          0.          0.\n",
      "  0.          0.          0.          0.          0.          0.          0.\n",
      "  0.07692308  0.15384615  0.23076923  0.30769231  0.38461538  0.46153846\n",
      "  0.53846154  0.61538462  0.69230769  0.76923077  0.84615385]\n"
     ]
    }
   ],
   "source": [
    "#Vamos ver o perfil deste vetor para uma variável fuzzy\n",
    "print(t_quente)"
   ]
  },
  {
   "cell_type": "code",
   "execution_count": 9,
   "metadata": {},
   "outputs": [
    {
     "data": {
      "text/plain": [
       "(46,)"
      ]
     },
     "execution_count": 9,
     "metadata": {},
     "output_type": "execute_result"
    }
   ],
   "source": [
    "t_quente.shape"
   ]
  },
  {
   "cell_type": "code",
   "execution_count": 10,
   "metadata": {
    "scrolled": true
   },
   "outputs": [
    {
     "data": {
      "image/png": "[encoded data removed]",
      "text/plain": [
       "<matplotlib.figure.Figure at 0x106cf4a90>"
      ]
     },
     "metadata": {},
     "output_type": "display_data"
    }
   ],
   "source": [
    "fig,ax = plt.subplots()\n",
    "ax.plot(temp,t_quente,'r--',linewidth=3,label='Temperatura Quente')\n",
    "ax.plot(temp,t_moder,'g--',linewidth=3,label='Temperatura Moderada')\n",
    "ax.plot(temp,t_frio,'b--',linewidth=3,label='Temperatura Fria')\n",
    "\n",
    "ax.set_ylabel('grau de pertinencia')\n",
    "ax.set_xlabel('Temperatura')\n",
    "ax.set_ylim(-0.05, 1.05);\n",
    "\n",
    "ax.legend(loc='upper right')\n",
    "ax.legend(bbox_to_anchor=(1.60, 1.15))\n",
    "plt.show()\n"
   ]
  },
  {
   "cell_type": "code",
   "execution_count": 11,
   "metadata": {
    "collapsed": true
   },
   "outputs": [],
   "source": [
    "#funções de pertinência para as pessoas\n",
    "p_cheio =  fuzz.trimf(pessoas,[60,100,100])\n",
    "p_moder =  fuzz.trapmf(pessoas,[20,40,60,80])\n",
    "p_vazio =  fuzz.trimf(pessoas,[0,0,40]) "
   ]
  },
  {
   "cell_type": "code",
   "execution_count": 12,
   "metadata": {},
   "outputs": [
    {
     "data": {
      "text/plain": [
       "array([ 0.   ,  0.   ,  0.   ,  0.   ,  0.   ,  0.   ,  0.   ,  0.   ,\n",
       "        0.   ,  0.   ,  0.   ,  0.   ,  0.   ,  0.   ,  0.   ,  0.   ,\n",
       "        0.   ,  0.   ,  0.   ,  0.   ,  0.   ,  0.   ,  0.   ,  0.   ,\n",
       "        0.   ,  0.   ,  0.   ,  0.   ,  0.   ,  0.   ,  0.   ,  0.   ,\n",
       "        0.   ,  0.   ,  0.   ,  0.   ,  0.   ,  0.   ,  0.   ,  0.   ,\n",
       "        0.   ,  0.   ,  0.   ,  0.   ,  0.   ,  0.   ,  0.   ,  0.   ,\n",
       "        0.   ,  0.   ,  0.   ,  0.   ,  0.   ,  0.   ,  0.   ,  0.   ,\n",
       "        0.   ,  0.   ,  0.   ,  0.   ,  0.   ,  0.025,  0.05 ,  0.075,\n",
       "        0.1  ,  0.125,  0.15 ,  0.175,  0.2  ,  0.225,  0.25 ,  0.275,\n",
       "        0.3  ,  0.325,  0.35 ,  0.375,  0.4  ,  0.425,  0.45 ,  0.475,\n",
       "        0.5  ,  0.525,  0.55 ,  0.575,  0.6  ,  0.625,  0.65 ,  0.675,\n",
       "        0.7  ,  0.725,  0.75 ,  0.775,  0.8  ,  0.825,  0.85 ,  0.875,\n",
       "        0.9  ,  0.925,  0.95 ,  0.975,  1.   ])"
      ]
     },
     "execution_count": 12,
     "metadata": {},
     "output_type": "execute_result"
    }
   ],
   "source": [
    "#Variável fuzzy\n",
    "p_cheio\n"
   ]
  },
  {
   "cell_type": "code",
   "execution_count": 13,
   "metadata": {},
   "outputs": [
    {
     "data": {
      "text/plain": [
       "(101,)"
      ]
     },
     "execution_count": 13,
     "metadata": {},
     "output_type": "execute_result"
    }
   ],
   "source": [
    "p_cheio.shape"
   ]
  },
  {
   "cell_type": "code",
   "execution_count": 14,
   "metadata": {},
   "outputs": [
    {
     "data": {
      "image/png": "[encoded data removed]",
      "text/plain": [
       "<matplotlib.figure.Figure at 0x106dd06a0>"
      ]
     },
     "metadata": {},
     "output_type": "display_data"
    }
   ],
   "source": [
    "fig,ax = plt.subplots()\n",
    "ax.plot(pessoas,p_vazio,'b--',linewidth=3,label='Fluxo Fraco')\n",
    "ax.plot(pessoas,p_moder,'g--',linewidth=3,label='Fluxo Moderado')\n",
    "ax.plot(pessoas,p_cheio,'r--',linewidth=3,label='Fluxo Alto')\n",
    "\n",
    "ax.set_ylabel('grau de pertinencia')\n",
    "ax.set_xlabel('Quantidade de Pessoas')\n",
    "ax.set_ylim(-0.05, 1.05);\n",
    "\n",
    "ax.legend(loc='upper right')\n",
    "ax.legend(bbox_to_anchor=(1.60, 1.15))\n",
    "plt.show()"
   ]
  },
  {
   "cell_type": "markdown",
   "metadata": {},
   "source": [
    "### Problemática I -  Necessidade de alocação de ventiladores \n",
    "* ** Somente não é necessário ventiladores nos dias frios**."
   ]
  },
  {
   "cell_type": "code",
   "execution_count": 15,
   "metadata": {
    "collapsed": true
   },
   "outputs": [],
   "source": [
    "#exemplo relação de união fuzzy MOTIVAÇÃO VENTILADORES\n",
    "R1 =  fuzz.fuzzy_or(temp, t_quente, temp, t_moder)"
   ]
  },
  {
   "cell_type": "code",
   "execution_count": 16,
   "metadata": {},
   "outputs": [
    {
     "name": "stdout",
     "output_type": "stream",
     "text": [
      "(array([ 0,  1,  2,  3,  4,  5,  6,  7,  8,  9, 10, 11, 12, 13, 14, 15, 16,\n",
      "       17, 18, 19, 20, 21, 22, 23, 24, 25, 26, 27, 28, 29, 30, 31, 32, 33,\n",
      "       34, 35, 36, 37, 38, 39, 40, 41, 42, 43, 44, 45]), array([ 0.        ,  0.        ,  0.        ,  0.        ,  0.        ,\n",
      "        0.        ,  0.        ,  0.        ,  0.        ,  0.        ,\n",
      "        0.        ,  0.09090909,  0.18181818,  0.27272727,  0.36363636,\n",
      "        0.45454545,  0.54545455,  0.63636364,  0.72727273,  0.81818182,\n",
      "        0.90909091,  1.        ,  1.        ,  1.        ,  1.        ,\n",
      "        1.        ,  0.90909091,  0.81818182,  0.72727273,  0.63636364,\n",
      "        0.54545455,  0.45454545,  0.36363636,  0.27272727,  0.18181818,\n",
      "        0.09090909,  0.15384615,  0.23076923,  0.30769231,  0.38461538,\n",
      "        0.46153846,  0.53846154,  0.61538462,  0.69230769,  0.76923077,\n",
      "        0.84615385]))\n"
     ]
    }
   ],
   "source": [
    "print(R1)\n"
   ]
  },
  {
   "cell_type": "markdown",
   "metadata": {},
   "source": [
    "### Problemática II -  Necessidade de Seguranças\n",
    "* ** Foi avaliado que quando o público está em um valor moderado ou cheio, deve-se alocar mais seguranças.   **"
   ]
  },
  {
   "cell_type": "code",
   "execution_count": 17,
   "metadata": {
    "collapsed": true
   },
   "outputs": [],
   "source": [
    "#exemplo relação de união fuzzy #MOTIVAÇÃO SEGURANÇAS \n",
    "R2 =  fuzz.fuzzy_or(pessoas, p_moder, pessoas, p_cheio)\n"
   ]
  },
  {
   "cell_type": "code",
   "execution_count": 18,
   "metadata": {},
   "outputs": [
    {
     "name": "stdout",
     "output_type": "stream",
     "text": [
      "(array([  0,   1,   2,   3,   4,   5,   6,   7,   8,   9,  10,  11,  12,\n",
      "        13,  14,  15,  16,  17,  18,  19,  20,  21,  22,  23,  24,  25,\n",
      "        26,  27,  28,  29,  30,  31,  32,  33,  34,  35,  36,  37,  38,\n",
      "        39,  40,  41,  42,  43,  44,  45,  46,  47,  48,  49,  50,  51,\n",
      "        52,  53,  54,  55,  56,  57,  58,  59,  60,  61,  62,  63,  64,\n",
      "        65,  66,  67,  68,  69,  70,  71,  72,  73,  74,  75,  76,  77,\n",
      "        78,  79,  80,  81,  82,  83,  84,  85,  86,  87,  88,  89,  90,\n",
      "        91,  92,  93,  94,  95,  96,  97,  98,  99, 100]), array([ 0.   ,  0.   ,  0.   ,  0.   ,  0.   ,  0.   ,  0.   ,  0.   ,\n",
      "        0.   ,  0.   ,  0.   ,  0.   ,  0.   ,  0.   ,  0.   ,  0.   ,\n",
      "        0.   ,  0.   ,  0.   ,  0.   ,  0.   ,  0.05 ,  0.1  ,  0.15 ,\n",
      "        0.2  ,  0.25 ,  0.3  ,  0.35 ,  0.4  ,  0.45 ,  0.5  ,  0.55 ,\n",
      "        0.6  ,  0.65 ,  0.7  ,  0.75 ,  0.8  ,  0.85 ,  0.9  ,  0.95 ,\n",
      "        1.   ,  1.   ,  1.   ,  1.   ,  1.   ,  1.   ,  1.   ,  1.   ,\n",
      "        1.   ,  1.   ,  1.   ,  1.   ,  1.   ,  1.   ,  1.   ,  1.   ,\n",
      "        1.   ,  1.   ,  1.   ,  1.   ,  1.   ,  0.95 ,  0.9  ,  0.85 ,\n",
      "        0.8  ,  0.75 ,  0.7  ,  0.65 ,  0.6  ,  0.55 ,  0.5  ,  0.45 ,\n",
      "        0.4  ,  0.35 ,  0.35 ,  0.375,  0.4  ,  0.425,  0.45 ,  0.475,\n",
      "        0.5  ,  0.525,  0.55 ,  0.575,  0.6  ,  0.625,  0.65 ,  0.675,\n",
      "        0.7  ,  0.725,  0.75 ,  0.775,  0.8  ,  0.825,  0.85 ,  0.875,\n",
      "        0.9  ,  0.925,  0.95 ,  0.975,  1.   ]))\n"
     ]
    }
   ],
   "source": [
    "print(R2)"
   ]
  },
  {
   "cell_type": "markdown",
   "metadata": {},
   "source": [
    "### Problemática III -  Necessidade de Um serviço de Buffet - drinks\n",
    "* ** Quando está muito cheio e a temperatura está alta, deve-se oferecer um serviço de distribuição de bebidas para tornar a viagem agradável **"
   ]
  },
  {
   "cell_type": "code",
   "execution_count": 19,
   "metadata": {
    "collapsed": true
   },
   "outputs": [],
   "source": [
    "#exemplo relação de união fuzzy MOTIVAçÃo Serviço de Buffet dinks\n",
    "R3 =  fuzz.fuzzy_or(pessoas, p_cheio, temp, t_quente)"
   ]
  },
  {
   "cell_type": "code",
   "execution_count": 21,
   "metadata": {
    "scrolled": true
   },
   "outputs": [
    {
     "name": "stdout",
     "output_type": "stream",
     "text": [
      "(array([ 0,  1,  2,  3,  4,  5,  6,  7,  8,  9, 10, 11, 12, 13, 14, 15, 16,\n",
      "       17, 18, 19, 20, 21, 22, 23, 24, 25, 26, 27, 28, 29, 30, 31, 32, 33,\n",
      "       34, 35, 36, 37, 38, 39, 40, 41, 42, 43, 44, 45, 46, 47, 48, 49, 50,\n",
      "       51, 52, 53, 54, 55, 56, 57, 58, 59, 60, 61, 62, 63, 64, 65, 66, 67,\n",
      "       68, 69, 70, 71, 72, 73, 74, 75, 76, 77, 78, 79, 80, 81, 82, 83, 84,\n",
      "       85, 86, 87, 88, 89, 90, 91, 92, 93, 94, 95, 96, 97, 98, 99]), array([ 0.        ,  0.        ,  0.        ,  0.        ,  0.        ,\n",
      "        0.        ,  0.        ,  0.        ,  0.        ,  0.        ,\n",
      "        0.        ,  0.        ,  0.        ,  0.        ,  0.        ,\n",
      "        0.        ,  0.        ,  0.        ,  0.        ,  0.        ,\n",
      "        0.        ,  0.        ,  0.        ,  0.        ,  0.        ,\n",
      "        0.        ,  0.        ,  0.        ,  0.        ,  0.        ,\n",
      "        0.        ,  0.        ,  0.        ,  0.        ,  0.        ,\n",
      "        0.07692308,  0.15384615,  0.23076923,  0.30769231,  0.38461538,\n",
      "        0.46153846,  0.53846154,  0.61538462,  0.69230769,  0.76923077,\n",
      "        0.84615385,  0.84615385,  0.84615385,  0.84615385,  0.84615385,\n",
      "        0.84615385,  0.84615385,  0.84615385,  0.84615385,  0.84615385,\n",
      "        0.84615385,  0.84615385,  0.84615385,  0.84615385,  0.84615385,\n",
      "        0.84615385,  0.84615385,  0.84615385,  0.84615385,  0.84615385,\n",
      "        0.84615385,  0.84615385,  0.84615385,  0.84615385,  0.84615385,\n",
      "        0.84615385,  0.84615385,  0.84615385,  0.84615385,  0.84615385,\n",
      "        0.84615385,  0.84615385,  0.84615385,  0.84615385,  0.84615385,\n",
      "        0.84615385,  0.84615385,  0.84615385,  0.84615385,  0.84615385,\n",
      "        0.84615385,  0.84615385,  0.84615385,  0.84615385,  0.84615385,\n",
      "        0.84615385,  0.84615385,  0.84615385,  0.84615385,  0.85      ,\n",
      "        0.875     ,  0.9       ,  0.925     ,  0.95      ,  0.975     ]))\n"
     ]
    }
   ],
   "source": [
    "print(R3)"
   ]
  },
  {
   "cell_type": "code",
   "execution_count": 22,
   "metadata": {
    "collapsed": true
   },
   "outputs": [],
   "source": [
    "\n",
    "R4 = fuzz.fuzzy_or(temp, t_quente,pessoas, p_cheio,)"
   ]
  },
  {
   "cell_type": "code",
   "execution_count": 23,
   "metadata": {},
   "outputs": [
    {
     "name": "stdout",
     "output_type": "stream",
     "text": [
      "(array([ 0,  1,  2,  3,  4,  5,  6,  7,  8,  9, 10, 11, 12, 13, 14, 15, 16,\n",
      "       17, 18, 19, 20, 21, 22, 23, 24, 25, 26, 27, 28, 29, 30, 31, 32, 33,\n",
      "       34, 35, 36, 37, 38, 39, 40, 41, 42, 43, 44, 45, 46, 47, 48, 49, 50,\n",
      "       51, 52, 53, 54, 55, 56, 57, 58, 59, 60, 61, 62, 63, 64, 65, 66, 67,\n",
      "       68, 69, 70, 71, 72, 73, 74, 75, 76, 77, 78, 79, 80, 81, 82, 83, 84,\n",
      "       85, 86, 87, 88, 89, 90, 91, 92, 93, 94, 95, 96, 97, 98, 99]), array([ 0.        ,  0.        ,  0.        ,  0.        ,  0.        ,\n",
      "        0.        ,  0.        ,  0.        ,  0.        ,  0.        ,\n",
      "        0.        ,  0.        ,  0.        ,  0.        ,  0.        ,\n",
      "        0.        ,  0.        ,  0.        ,  0.        ,  0.        ,\n",
      "        0.        ,  0.        ,  0.        ,  0.        ,  0.        ,\n",
      "        0.        ,  0.        ,  0.        ,  0.        ,  0.        ,\n",
      "        0.        ,  0.        ,  0.        ,  0.        ,  0.        ,\n",
      "        0.07692308,  0.15384615,  0.23076923,  0.30769231,  0.38461538,\n",
      "        0.46153846,  0.53846154,  0.61538462,  0.69230769,  0.76923077,\n",
      "        0.84615385,  0.84615385,  0.84615385,  0.84615385,  0.84615385,\n",
      "        0.84615385,  0.84615385,  0.84615385,  0.84615385,  0.84615385,\n",
      "        0.84615385,  0.84615385,  0.84615385,  0.84615385,  0.84615385,\n",
      "        0.84615385,  0.84615385,  0.84615385,  0.84615385,  0.84615385,\n",
      "        0.84615385,  0.84615385,  0.84615385,  0.84615385,  0.84615385,\n",
      "        0.84615385,  0.84615385,  0.84615385,  0.84615385,  0.84615385,\n",
      "        0.84615385,  0.84615385,  0.84615385,  0.84615385,  0.84615385,\n",
      "        0.84615385,  0.84615385,  0.84615385,  0.84615385,  0.84615385,\n",
      "        0.84615385,  0.84615385,  0.84615385,  0.84615385,  0.84615385,\n",
      "        0.84615385,  0.84615385,  0.84615385,  0.84615385,  0.85      ,\n",
      "        0.875     ,  0.9       ,  0.925     ,  0.95      ,  0.975     ]))\n"
     ]
    }
   ],
   "source": [
    "print(R4)"
   ]
  },
  {
   "cell_type": "markdown",
   "metadata": {},
   "source": [
    "## Um pouco mais de precisão sobre os dados\n",
    "* **Uma medida exata para requerer os ventiladores**\n",
    "* **Uma temperatura que seja necessariamente quente dentro do contexto \"moderado\"**"
   ]
  },
  {
   "cell_type": "code",
   "execution_count": 24,
   "metadata": {
    "collapsed": true
   },
   "outputs": [],
   "source": [
    "#interseção entre dois conjuntos fuzzy MOTIVAÇÃO - \n",
    "R5 =  fuzz.fuzzy_and(temp, t_quente, temp, t_moder)"
   ]
  },
  {
   "cell_type": "code",
   "execution_count": 25,
   "metadata": {},
   "outputs": [
    {
     "name": "stdout",
     "output_type": "stream",
     "text": [
      "(array([ 0,  1,  2,  3,  4,  5,  6,  7,  8,  9, 10, 11, 12, 13, 14, 15, 16,\n",
      "       17, 18, 19, 20, 21, 22, 23, 24, 25, 26, 27, 28, 29, 30, 31, 32, 33,\n",
      "       34, 35, 36, 37, 38, 39, 40, 41, 42, 43, 44, 45]), array([ 0.        ,  0.        ,  0.        ,  0.        ,  0.        ,\n",
      "        0.        ,  0.        ,  0.        ,  0.        ,  0.        ,\n",
      "        0.        ,  0.        ,  0.        ,  0.        ,  0.        ,\n",
      "        0.        ,  0.        ,  0.        ,  0.        ,  0.        ,\n",
      "        0.        ,  0.        ,  0.        ,  0.        ,  0.        ,\n",
      "        0.        ,  0.        ,  0.        ,  0.        ,  0.        ,\n",
      "        0.        ,  0.        ,  0.        ,  0.        ,  0.        ,\n",
      "        0.07692308,  0.        ,  0.        ,  0.        ,  0.        ,\n",
      "        0.        ,  0.        ,  0.        ,  0.        ,  0.        ,  0.        ]))\n"
     ]
    }
   ],
   "source": [
    "print(R5)"
   ]
  },
  {
   "cell_type": "code",
   "execution_count": 26,
   "metadata": {},
   "outputs": [
    {
     "data": {
      "text/plain": [
       "array([ 0,  1,  2,  3,  4,  5,  6,  7,  8,  9, 10, 11, 12, 13, 14, 15, 16,\n",
       "       17, 18, 19, 20, 21, 22, 23, 24, 25, 26, 27, 28, 29, 30, 31, 32, 33,\n",
       "       34, 35, 36, 37, 38, 39, 40, 41, 42, 43, 44, 45])"
      ]
     },
     "execution_count": 26,
     "metadata": {},
     "output_type": "execute_result"
    }
   ],
   "source": [
    "R5[0]"
   ]
  },
  {
   "cell_type": "code",
   "execution_count": 27,
   "metadata": {},
   "outputs": [
    {
     "data": {
      "text/plain": [
       "(46,)"
      ]
     },
     "execution_count": 27,
     "metadata": {},
     "output_type": "execute_result"
    }
   ],
   "source": [
    "R5[0].shape"
   ]
  },
  {
   "cell_type": "code",
   "execution_count": 28,
   "metadata": {},
   "outputs": [
    {
     "data": {
      "text/plain": [
       "array([ 0.        ,  0.        ,  0.        ,  0.        ,  0.        ,\n",
       "        0.        ,  0.        ,  0.        ,  0.        ,  0.        ,\n",
       "        0.        ,  0.        ,  0.        ,  0.        ,  0.        ,\n",
       "        0.        ,  0.        ,  0.        ,  0.        ,  0.        ,\n",
       "        0.        ,  0.        ,  0.        ,  0.        ,  0.        ,\n",
       "        0.        ,  0.        ,  0.        ,  0.        ,  0.        ,\n",
       "        0.        ,  0.        ,  0.        ,  0.        ,  0.        ,\n",
       "        0.07692308,  0.        ,  0.        ,  0.        ,  0.        ,\n",
       "        0.        ,  0.        ,  0.        ,  0.        ,  0.        ,  0.        ])"
      ]
     },
     "execution_count": 28,
     "metadata": {},
     "output_type": "execute_result"
    }
   ],
   "source": [
    "R5[1]\n"
   ]
  },
  {
   "cell_type": "code",
   "execution_count": 29,
   "metadata": {},
   "outputs": [
    {
     "data": {
      "text/plain": [
       "(46,)"
      ]
     },
     "execution_count": 29,
     "metadata": {},
     "output_type": "execute_result"
    }
   ],
   "source": [
    "R5[1].shape"
   ]
  },
  {
   "cell_type": "code",
   "execution_count": 33,
   "metadata": {},
   "outputs": [
    {
     "data": {
      "text/plain": [
       "35"
      ]
     },
     "execution_count": 33,
     "metadata": {},
     "output_type": "execute_result"
    }
   ],
   "source": [
    "#descobrir quem é o bonitão\n",
    "\n",
    "indM = np.argmax(R5[1])\n",
    "indM"
   ]
  },
  {
   "cell_type": "markdown",
   "metadata": {},
   "source": [
    "### Pode-se afirmar então que 35 graus já é uma temperatura não muito confortável"
   ]
  },
  {
   "cell_type": "code",
   "execution_count": 30,
   "metadata": {},
   "outputs": [
    {
     "data": {
      "text/plain": [
       "0.076923076923076927"
      ]
     },
     "execution_count": 30,
     "metadata": {},
     "output_type": "execute_result"
    }
   ],
   "source": [
    "R5[1][35]"
   ]
  },
  {
   "cell_type": "code",
   "execution_count": 31,
   "metadata": {},
   "outputs": [
    {
     "data": {
      "text/plain": [
       "35"
      ]
     },
     "execution_count": 31,
     "metadata": {},
     "output_type": "execute_result"
    }
   ],
   "source": [
    "#tanto a indexação do vetor como os valores começam do ZERO\n",
    "R5[0][35]"
   ]
  },
  {
   "cell_type": "markdown",
   "metadata": {},
   "source": [
    "## Relacionando duas variáveis Fuzzy de diferentes intervalos."
   ]
  },
  {
   "cell_type": "code",
   "execution_count": 32,
   "metadata": {
    "collapsed": true
   },
   "outputs": [],
   "source": [
    "R7 = fuzz.fuzzy_and(temp, t_quente,pessoas, p_cheio)"
   ]
  },
  {
   "cell_type": "code",
   "execution_count": 33,
   "metadata": {},
   "outputs": [
    {
     "name": "stdout",
     "output_type": "stream",
     "text": [
      "(array([ 0,  1,  2,  3,  4,  5,  6,  7,  8,  9, 10, 11, 12, 13, 14, 15, 16,\n",
      "       17, 18, 19, 20, 21, 22, 23, 24, 25, 26, 27, 28, 29, 30, 31, 32, 33,\n",
      "       34, 35, 36, 37, 38, 39, 40, 41, 42, 43, 44, 45, 46, 47, 48, 49, 50,\n",
      "       51, 52, 53, 54, 55, 56, 57, 58, 59, 60, 61, 62, 63, 64, 65, 66, 67,\n",
      "       68, 69, 70, 71, 72, 73, 74, 75, 76, 77, 78, 79, 80, 81, 82, 83, 84,\n",
      "       85, 86, 87, 88, 89, 90, 91, 92, 93, 94, 95, 96, 97, 98, 99]), array([ 0.        ,  0.        ,  0.        ,  0.        ,  0.        ,\n",
      "        0.        ,  0.        ,  0.        ,  0.        ,  0.        ,\n",
      "        0.        ,  0.        ,  0.        ,  0.        ,  0.        ,\n",
      "        0.        ,  0.        ,  0.        ,  0.        ,  0.        ,\n",
      "        0.        ,  0.        ,  0.        ,  0.        ,  0.        ,\n",
      "        0.        ,  0.        ,  0.        ,  0.        ,  0.        ,\n",
      "        0.        ,  0.        ,  0.        ,  0.        ,  0.        ,\n",
      "        0.        ,  0.        ,  0.        ,  0.        ,  0.        ,\n",
      "        0.        ,  0.        ,  0.        ,  0.        ,  0.        ,\n",
      "        0.        ,  0.        ,  0.        ,  0.        ,  0.        ,\n",
      "        0.        ,  0.        ,  0.        ,  0.        ,  0.        ,\n",
      "        0.        ,  0.        ,  0.        ,  0.        ,  0.        ,\n",
      "        0.        ,  0.025     ,  0.05      ,  0.075     ,  0.1       ,\n",
      "        0.125     ,  0.15      ,  0.175     ,  0.2       ,  0.225     ,\n",
      "        0.25      ,  0.275     ,  0.3       ,  0.325     ,  0.35      ,\n",
      "        0.375     ,  0.4       ,  0.425     ,  0.45      ,  0.475     ,\n",
      "        0.5       ,  0.525     ,  0.55      ,  0.575     ,  0.6       ,\n",
      "        0.625     ,  0.65      ,  0.675     ,  0.7       ,  0.725     ,\n",
      "        0.75      ,  0.775     ,  0.8       ,  0.825     ,  0.84615385,\n",
      "        0.84615385,  0.84615385,  0.84615385,  0.84615385,  0.84615385]))\n"
     ]
    }
   ],
   "source": [
    "print(R7)"
   ]
  },
  {
   "cell_type": "markdown",
   "metadata": {},
   "source": [
    "### COMPLEMENTO DE UM CONJUNTO"
   ]
  },
  {
   "cell_type": "code",
   "execution_count": 34,
   "metadata": {
    "collapsed": true
   },
   "outputs": [],
   "source": [
    "#Complemento de um conjunto Fuzzy\n",
    "R8 =  fuzz.fuzzy_not(t_quente)"
   ]
  },
  {
   "cell_type": "code",
   "execution_count": 35,
   "metadata": {},
   "outputs": [
    {
     "name": "stdout",
     "output_type": "stream",
     "text": [
      "[ 1.          1.          1.          1.          1.          1.          1.\n",
      "  1.          1.          1.          1.          1.          1.          1.\n",
      "  1.          1.          1.          1.          1.          1.          1.\n",
      "  1.          1.          1.          1.          1.          1.          1.\n",
      "  1.          1.          1.          1.          1.          1.          1.\n",
      "  0.92307692  0.84615385  0.76923077  0.69230769  0.61538462  0.53846154\n",
      "  0.46153846  0.38461538  0.30769231  0.23076923  0.15384615]\n"
     ]
    }
   ],
   "source": [
    "print(R8)"
   ]
  },
  {
   "cell_type": "code",
   "execution_count": 36,
   "metadata": {},
   "outputs": [
    {
     "data": {
      "text/plain": [
       "array([ 0,  1,  2,  3,  4,  5,  6,  7,  8,  9, 10, 11, 12, 13, 14, 15, 16,\n",
       "       17, 18, 19, 20, 21, 22, 23, 24, 25, 26, 27, 28, 29, 30, 31, 32, 33,\n",
       "       34, 35, 36, 37, 38, 39, 40, 41, 42, 43, 44, 45])"
      ]
     },
     "execution_count": 36,
     "metadata": {},
     "output_type": "execute_result"
    }
   ],
   "source": [
    "temp"
   ]
  },
  {
   "cell_type": "markdown",
   "metadata": {},
   "source": [
    "### Produto Cartesiano de dois conjuntos Fuzzy"
   ]
  },
  {
   "cell_type": "code",
   "execution_count": 38,
   "metadata": {
    "collapsed": true
   },
   "outputs": [],
   "source": [
    "#Produto Cartesiano entre dois conjuntos fuzzy   #Prejuízo  -  Custo adicional de ventilação(aquecedor) Temperatura fria e Poucas pessoas tendem a aparecerem\n",
    "P1 = fuzz.cartprod(p_vazio, t_frio)"
   ]
  },
  {
   "cell_type": "code",
   "execution_count": 39,
   "metadata": {},
   "outputs": [
    {
     "name": "stdout",
     "output_type": "stream",
     "text": [
      "[[ 1.          0.93333333  0.86666667 ...,  0.          0.          0.        ]\n",
      " [ 0.975       0.93333333  0.86666667 ...,  0.          0.          0.        ]\n",
      " [ 0.95        0.93333333  0.86666667 ...,  0.          0.          0.        ]\n",
      " ..., \n",
      " [ 0.          0.          0.         ...,  0.          0.          0.        ]\n",
      " [ 0.          0.          0.         ...,  0.          0.          0.        ]\n",
      " [ 0.          0.          0.         ...,  0.          0.          0.        ]]\n"
     ]
    }
   ],
   "source": [
    "print(P1)"
   ]
  },
  {
   "cell_type": "code",
   "execution_count": 40,
   "metadata": {},
   "outputs": [
    {
     "data": {
      "text/plain": [
       "(46,)"
      ]
     },
     "execution_count": 40,
     "metadata": {},
     "output_type": "execute_result"
    }
   ],
   "source": [
    "P1[1].shape\n",
    "\n"
   ]
  },
  {
   "cell_type": "code",
   "execution_count": 41,
   "metadata": {},
   "outputs": [
    {
     "data": {
      "text/plain": [
       "(101, 46)"
      ]
     },
     "execution_count": 41,
     "metadata": {},
     "output_type": "execute_result"
    }
   ],
   "source": [
    "P1.shape"
   ]
  },
  {
   "cell_type": "code",
   "execution_count": 42,
   "metadata": {},
   "outputs": [
    {
     "data": {
      "text/plain": [
       "array([ 1.   ,  0.975,  0.95 ,  0.925,  0.9  ,  0.875,  0.85 ,  0.825,\n",
       "        0.8  ,  0.775,  0.75 ,  0.725,  0.7  ,  0.675,  0.65 ,  0.625,\n",
       "        0.6  ,  0.575,  0.55 ,  0.525,  0.5  ,  0.475,  0.45 ,  0.425,\n",
       "        0.4  ,  0.375,  0.35 ,  0.325,  0.3  ,  0.275,  0.25 ,  0.225,\n",
       "        0.2  ,  0.175,  0.15 ,  0.125,  0.1  ,  0.075,  0.05 ,  0.025,\n",
       "        0.   ,  0.   ,  0.   ,  0.   ,  0.   ,  0.   ,  0.   ,  0.   ,\n",
       "        0.   ,  0.   ,  0.   ,  0.   ,  0.   ,  0.   ,  0.   ,  0.   ,\n",
       "        0.   ,  0.   ,  0.   ,  0.   ,  0.   ,  0.   ,  0.   ,  0.   ,\n",
       "        0.   ,  0.   ,  0.   ,  0.   ,  0.   ,  0.   ,  0.   ,  0.   ,\n",
       "        0.   ,  0.   ,  0.   ,  0.   ,  0.   ,  0.   ,  0.   ,  0.   ,\n",
       "        0.   ,  0.   ,  0.   ,  0.   ,  0.   ,  0.   ,  0.   ,  0.   ,\n",
       "        0.   ,  0.   ,  0.   ,  0.   ,  0.   ,  0.   ,  0.   ,  0.   ,\n",
       "        0.   ,  0.   ,  0.   ,  0.   ,  0.   ])"
      ]
     },
     "execution_count": 42,
     "metadata": {},
     "output_type": "execute_result"
    }
   ],
   "source": [
    "p_vazio"
   ]
  },
  {
   "cell_type": "code",
   "execution_count": 43,
   "metadata": {},
   "outputs": [
    {
     "data": {
      "text/plain": [
       "(101,)"
      ]
     },
     "execution_count": 43,
     "metadata": {},
     "output_type": "execute_result"
    }
   ],
   "source": [
    "p_vazio.shape"
   ]
  },
  {
   "cell_type": "code",
   "execution_count": 44,
   "metadata": {},
   "outputs": [
    {
     "data": {
      "text/plain": [
       "(46,)"
      ]
     },
     "execution_count": 44,
     "metadata": {},
     "output_type": "execute_result"
    }
   ],
   "source": [
    "t_frio.shape"
   ]
  },
  {
   "cell_type": "markdown",
   "metadata": {},
   "source": [
    "### Esse conjunto expressa valores que indicam uma expectativa de público ruim\n"
   ]
  },
  {
   "cell_type": "code",
   "execution_count": 46,
   "metadata": {},
   "outputs": [
    {
     "data": {
      "text/plain": [
       "0.20000000000000001"
      ]
     },
     "execution_count": 46,
     "metadata": {},
     "output_type": "execute_result"
    }
   ],
   "source": [
    "# um dia com temperatura 20 graus e com um público 12 pessoas. \n",
    "P1[20][12]"
   ]
  },
  {
   "cell_type": "code",
   "execution_count": 47,
   "metadata": {},
   "outputs": [
    {
     "data": {
      "text/plain": [
       "array([[ 1.        ,  0.93333333,  0.86666667, ...,  0.        ,\n",
       "         0.        ,  0.        ],\n",
       "       [ 0.975     ,  0.93333333,  0.86666667, ...,  0.        ,\n",
       "         0.        ,  0.        ],\n",
       "       [ 0.95      ,  0.93333333,  0.86666667, ...,  0.        ,\n",
       "         0.        ,  0.        ],\n",
       "       ..., \n",
       "       [ 0.        ,  0.        ,  0.        , ...,  0.        ,\n",
       "         0.        ,  0.        ],\n",
       "       [ 0.        ,  0.        ,  0.        , ...,  0.        ,\n",
       "         0.        ,  0.        ],\n",
       "       [ 0.        ,  0.        ,  0.        , ...,  0.        ,\n",
       "         0.        ,  0.        ]])"
      ]
     },
     "execution_count": 47,
     "metadata": {},
     "output_type": "execute_result"
    }
   ],
   "source": [
    "#LEMBRE -  Produto Cartesiano p_vazio t_frio - prejuízo aquecedor e R8 =  fuzz.fuzzy_not(t_quente)\n",
    "P1 \n",
    "\n"
   ]
  },
  {
   "cell_type": "code",
   "execution_count": 48,
   "metadata": {},
   "outputs": [
    {
     "data": {
      "text/plain": [
       "array([ 1.        ,  1.        ,  1.        ,  1.        ,  1.        ,\n",
       "        1.        ,  1.        ,  1.        ,  1.        ,  1.        ,\n",
       "        1.        ,  1.        ,  1.        ,  1.        ,  1.        ,\n",
       "        1.        ,  1.        ,  1.        ,  1.        ,  1.        ,\n",
       "        1.        ,  1.        ,  1.        ,  1.        ,  1.        ,\n",
       "        1.        ,  1.        ,  1.        ,  1.        ,  1.        ,\n",
       "        1.        ,  1.        ,  1.        ,  1.        ,  1.        ,\n",
       "        0.92307692,  0.84615385,  0.76923077,  0.69230769,  0.61538462,\n",
       "        0.53846154,  0.46153846,  0.38461538,  0.30769231,  0.23076923,\n",
       "        0.15384615])"
      ]
     },
     "execution_count": 48,
     "metadata": {},
     "output_type": "execute_result"
    }
   ],
   "source": [
    "# Função para descrever uma temperatura que não seja quente\n",
    "R8"
   ]
  },
  {
   "cell_type": "code",
   "execution_count": 49,
   "metadata": {
    "collapsed": true
   },
   "outputs": [],
   "source": [
    "C21 = fuzz.maxmin_composition(P1,R8) #levo em consideração que a pertinência do prejuízo sobre as condições mínimas\n"
   ]
  },
  {
   "cell_type": "code",
   "execution_count": 50,
   "metadata": {},
   "outputs": [
    {
     "data": {
      "text/plain": [
       "array([[ 1.   ],\n",
       "       [ 0.975],\n",
       "       [ 0.95 ],\n",
       "       [ 0.925],\n",
       "       [ 0.9  ],\n",
       "       [ 0.875],\n",
       "       [ 0.85 ],\n",
       "       [ 0.825],\n",
       "       [ 0.8  ],\n",
       "       [ 0.775],\n",
       "       [ 0.75 ],\n",
       "       [ 0.725],\n",
       "       [ 0.7  ],\n",
       "       [ 0.675],\n",
       "       [ 0.65 ],\n",
       "       [ 0.625],\n",
       "       [ 0.6  ],\n",
       "       [ 0.575],\n",
       "       [ 0.55 ],\n",
       "       [ 0.525],\n",
       "       [ 0.5  ],\n",
       "       [ 0.475],\n",
       "       [ 0.45 ],\n",
       "       [ 0.425],\n",
       "       [ 0.4  ],\n",
       "       [ 0.375],\n",
       "       [ 0.35 ],\n",
       "       [ 0.325],\n",
       "       [ 0.3  ],\n",
       "       [ 0.275],\n",
       "       [ 0.25 ],\n",
       "       [ 0.225],\n",
       "       [ 0.2  ],\n",
       "       [ 0.175],\n",
       "       [ 0.15 ],\n",
       "       [ 0.125],\n",
       "       [ 0.1  ],\n",
       "       [ 0.075],\n",
       "       [ 0.05 ],\n",
       "       [ 0.025],\n",
       "       [ 0.   ],\n",
       "       [ 0.   ],\n",
       "       [ 0.   ],\n",
       "       [ 0.   ],\n",
       "       [ 0.   ],\n",
       "       [ 0.   ],\n",
       "       [ 0.   ],\n",
       "       [ 0.   ],\n",
       "       [ 0.   ],\n",
       "       [ 0.   ],\n",
       "       [ 0.   ],\n",
       "       [ 0.   ],\n",
       "       [ 0.   ],\n",
       "       [ 0.   ],\n",
       "       [ 0.   ],\n",
       "       [ 0.   ],\n",
       "       [ 0.   ],\n",
       "       [ 0.   ],\n",
       "       [ 0.   ],\n",
       "       [ 0.   ],\n",
       "       [ 0.   ],\n",
       "       [ 0.   ],\n",
       "       [ 0.   ],\n",
       "       [ 0.   ],\n",
       "       [ 0.   ],\n",
       "       [ 0.   ],\n",
       "       [ 0.   ],\n",
       "       [ 0.   ],\n",
       "       [ 0.   ],\n",
       "       [ 0.   ],\n",
       "       [ 0.   ],\n",
       "       [ 0.   ],\n",
       "       [ 0.   ],\n",
       "       [ 0.   ],\n",
       "       [ 0.   ],\n",
       "       [ 0.   ],\n",
       "       [ 0.   ],\n",
       "       [ 0.   ],\n",
       "       [ 0.   ],\n",
       "       [ 0.   ],\n",
       "       [ 0.   ],\n",
       "       [ 0.   ],\n",
       "       [ 0.   ],\n",
       "       [ 0.   ],\n",
       "       [ 0.   ],\n",
       "       [ 0.   ],\n",
       "       [ 0.   ],\n",
       "       [ 0.   ],\n",
       "       [ 0.   ],\n",
       "       [ 0.   ],\n",
       "       [ 0.   ],\n",
       "       [ 0.   ],\n",
       "       [ 0.   ],\n",
       "       [ 0.   ],\n",
       "       [ 0.   ],\n",
       "       [ 0.   ],\n",
       "       [ 0.   ],\n",
       "       [ 0.   ],\n",
       "       [ 0.   ],\n",
       "       [ 0.   ],\n",
       "       [ 0.   ]])"
      ]
     },
     "execution_count": 50,
     "metadata": {},
     "output_type": "execute_result"
    }
   ],
   "source": [
    "C21"
   ]
  },
  {
   "cell_type": "code",
   "execution_count": 51,
   "metadata": {},
   "outputs": [
    {
     "data": {
      "text/plain": [
       "(101, 1)"
      ]
     },
     "execution_count": 51,
     "metadata": {},
     "output_type": "execute_result"
    }
   ],
   "source": [
    "C21.shape"
   ]
  },
  {
   "cell_type": "code",
   "execution_count": 52,
   "metadata": {},
   "outputs": [
    {
     "data": {
      "text/plain": [
       "array([ 0.5])"
      ]
     },
     "execution_count": 52,
     "metadata": {},
     "output_type": "execute_result"
    }
   ],
   "source": [
    "C21[20]"
   ]
  },
  {
   "cell_type": "code",
   "execution_count": 53,
   "metadata": {
    "collapsed": true
   },
   "outputs": [],
   "source": [
    "### Composição MAX-PRODUTO\n",
    "C22 = fuzz.maxprod_composition(P1,R8)\n"
   ]
  },
  {
   "cell_type": "code",
   "execution_count": 54,
   "metadata": {},
   "outputs": [
    {
     "data": {
      "text/plain": [
       "array([[ 1.   ],\n",
       "       [ 0.975],\n",
       "       [ 0.95 ],\n",
       "       [ 0.925],\n",
       "       [ 0.9  ],\n",
       "       [ 0.875],\n",
       "       [ 0.85 ],\n",
       "       [ 0.825],\n",
       "       [ 0.8  ],\n",
       "       [ 0.775],\n",
       "       [ 0.75 ],\n",
       "       [ 0.725],\n",
       "       [ 0.7  ],\n",
       "       [ 0.675],\n",
       "       [ 0.65 ],\n",
       "       [ 0.625],\n",
       "       [ 0.6  ],\n",
       "       [ 0.575],\n",
       "       [ 0.55 ],\n",
       "       [ 0.525],\n",
       "       [ 0.5  ],\n",
       "       [ 0.475],\n",
       "       [ 0.45 ],\n",
       "       [ 0.425],\n",
       "       [ 0.4  ],\n",
       "       [ 0.375],\n",
       "       [ 0.35 ],\n",
       "       [ 0.325],\n",
       "       [ 0.3  ],\n",
       "       [ 0.275],\n",
       "       [ 0.25 ],\n",
       "       [ 0.225],\n",
       "       [ 0.2  ],\n",
       "       [ 0.175],\n",
       "       [ 0.15 ],\n",
       "       [ 0.125],\n",
       "       [ 0.1  ],\n",
       "       [ 0.075],\n",
       "       [ 0.05 ],\n",
       "       [ 0.025],\n",
       "       [ 0.   ],\n",
       "       [ 0.   ],\n",
       "       [ 0.   ],\n",
       "       [ 0.   ],\n",
       "       [ 0.   ],\n",
       "       [ 0.   ],\n",
       "       [ 0.   ],\n",
       "       [ 0.   ],\n",
       "       [ 0.   ],\n",
       "       [ 0.   ],\n",
       "       [ 0.   ],\n",
       "       [ 0.   ],\n",
       "       [ 0.   ],\n",
       "       [ 0.   ],\n",
       "       [ 0.   ],\n",
       "       [ 0.   ],\n",
       "       [ 0.   ],\n",
       "       [ 0.   ],\n",
       "       [ 0.   ],\n",
       "       [ 0.   ],\n",
       "       [ 0.   ],\n",
       "       [ 0.   ],\n",
       "       [ 0.   ],\n",
       "       [ 0.   ],\n",
       "       [ 0.   ],\n",
       "       [ 0.   ],\n",
       "       [ 0.   ],\n",
       "       [ 0.   ],\n",
       "       [ 0.   ],\n",
       "       [ 0.   ],\n",
       "       [ 0.   ],\n",
       "       [ 0.   ],\n",
       "       [ 0.   ],\n",
       "       [ 0.   ],\n",
       "       [ 0.   ],\n",
       "       [ 0.   ],\n",
       "       [ 0.   ],\n",
       "       [ 0.   ],\n",
       "       [ 0.   ],\n",
       "       [ 0.   ],\n",
       "       [ 0.   ],\n",
       "       [ 0.   ],\n",
       "       [ 0.   ],\n",
       "       [ 0.   ],\n",
       "       [ 0.   ],\n",
       "       [ 0.   ],\n",
       "       [ 0.   ],\n",
       "       [ 0.   ],\n",
       "       [ 0.   ],\n",
       "       [ 0.   ],\n",
       "       [ 0.   ],\n",
       "       [ 0.   ],\n",
       "       [ 0.   ],\n",
       "       [ 0.   ],\n",
       "       [ 0.   ],\n",
       "       [ 0.   ],\n",
       "       [ 0.   ],\n",
       "       [ 0.   ],\n",
       "       [ 0.   ],\n",
       "       [ 0.   ],\n",
       "       [ 0.   ]])"
      ]
     },
     "execution_count": 54,
     "metadata": {},
     "output_type": "execute_result"
    }
   ],
   "source": [
    "C22"
   ]
  },
  {
   "cell_type": "code",
   "execution_count": 55,
   "metadata": {},
   "outputs": [
    {
     "data": {
      "text/plain": [
       "(101, 1)"
      ]
     },
     "execution_count": 55,
     "metadata": {},
     "output_type": "execute_result"
    }
   ],
   "source": [
    "C22.shape"
   ]
  },
  {
   "cell_type": "code",
   "execution_count": 56,
   "metadata": {},
   "outputs": [
    {
     "data": {
      "text/plain": [
       "array([ 0.5])"
      ]
     },
     "execution_count": 56,
     "metadata": {},
     "output_type": "execute_result"
    }
   ],
   "source": [
    "C22[20]"
   ]
  },
  {
   "cell_type": "markdown",
   "metadata": {},
   "source": [
    "### MEDIDA DE SIMILARIDADE ENTRE DOIS CONJUNTOS FUZZY"
   ]
  },
  {
   "cell_type": "code",
   "execution_count": 57,
   "metadata": {
    "collapsed": true
   },
   "outputs": [],
   "source": [
    "#Medida de similaridade entre dois conjuntos fuzzy - Verificar a similaridade entre as temperaturas t_frio e t_moder\n"
   ]
  },
  {
   "cell_type": "code",
   "execution_count": 58,
   "metadata": {
    "collapsed": true
   },
   "outputs": [],
   "source": [
    "S11 = fuzz.fuzzy_similarity(t_frio, t_moder, mode='min')\n"
   ]
  },
  {
   "cell_type": "code",
   "execution_count": 59,
   "metadata": {},
   "outputs": [
    {
     "data": {
      "text/plain": [
       "0.18181818181818182"
      ]
     },
     "execution_count": 59,
     "metadata": {},
     "output_type": "execute_result"
    }
   ],
   "source": [
    "S11"
   ]
  },
  {
   "cell_type": "markdown",
   "metadata": {},
   "source": [
    "## EXPOR UM CONJUNTO FUZZY PARTINDO DE UM LIMIAR "
   ]
  },
  {
   "cell_type": "code",
   "execution_count": 60,
   "metadata": {
    "collapsed": true
   },
   "outputs": [],
   "source": [
    "NovoCorte = fuzz.arglcut(t_frio, 0.5)"
   ]
  },
  {
   "cell_type": "code",
   "execution_count": 61,
   "metadata": {},
   "outputs": [
    {
     "data": {
      "text/plain": [
       "(array([0, 1, 2, 3, 4, 5, 6, 7]),)"
      ]
     },
     "execution_count": 61,
     "metadata": {},
     "output_type": "execute_result"
    }
   ],
   "source": [
    "NovoCorte"
   ]
  },
  {
   "cell_type": "code",
   "execution_count": 62,
   "metadata": {},
   "outputs": [
    {
     "data": {
      "text/plain": [
       "array([ 1.        ,  0.93333333,  0.86666667,  0.8       ,  0.73333333,\n",
       "        0.66666667,  0.6       ,  0.53333333,  0.46666667,  0.4       ,\n",
       "        0.33333333,  0.26666667,  0.2       ,  0.13333333,  0.06666667,\n",
       "        0.        ,  0.        ,  0.        ,  0.        ,  0.        ,\n",
       "        0.        ,  0.        ,  0.        ,  0.        ,  0.        ,\n",
       "        0.        ,  0.        ,  0.        ,  0.        ,  0.        ,\n",
       "        0.        ,  0.        ,  0.        ,  0.        ,  0.        ,\n",
       "        0.        ,  0.        ,  0.        ,  0.        ,  0.        ,\n",
       "        0.        ,  0.        ,  0.        ,  0.        ,  0.        ,  0.        ])"
      ]
     },
     "execution_count": 62,
     "metadata": {},
     "output_type": "execute_result"
    }
   ],
   "source": [
    "t_frio"
   ]
  }
 ],
 "metadata": {
  "kernelspec": {
   "display_name": "Python 3",
   "language": "python",
   "name": "python3"
  },
  "language_info": {
   "codemirror_mode": {
    "name": "ipython",
    "version": 3
   },
   "file_extension": ".py",
   "mimetype": "text/x-python",
   "name": "python",
   "nbconvert_exporter": "python",
   "pygments_lexer": "ipython3",
   "version": "3.6.2"
  }
 },
 "nbformat": 4,
 "nbformat_minor": 1
}
