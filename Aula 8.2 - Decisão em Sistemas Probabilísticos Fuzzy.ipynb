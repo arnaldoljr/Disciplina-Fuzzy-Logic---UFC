{
 "cells": [
  {
   "cell_type": "markdown",
   "metadata": {},
   "source": [
    "$$ {\\huge \\text{ Disciplina: Lógica Fuzzy }}\\\\  \\\\  \\text{ Cap 9 - Tomada de Decisão em Sistemas Fuzzy / Redes Bayesianas}\\\\\n",
    "\\ \\  \\ \\ \\ \\ \n",
    "\\\\\n",
    " { \\it  \\text{ Discente: Prof. Dr. João Fernando }  }\n",
    " \\\\\n",
    "\\text{ Monitor: Arnaldo Araújo} \\\\\n",
    "\\text{ Mestrado e Doutorado em Ciências da Computação - UFC }$$\n"
   ]
  },
  {
   "cell_type": "code",
   "execution_count": 1,
   "metadata": {
    "collapsed": true
   },
   "outputs": [],
   "source": [
    "import numpy as np\n",
    "from pandas import DataFrame\n",
    "from numpy import *\n",
    "from IPython.display import Latex\n",
    "import skfuzzy as fuzz\n",
    "import matplotlib\n",
    "import matplotlib.pyplot as plt\n",
    "import matplotlib.lines as mlines\n",
    "from matplotlib.font_manager import FontProperties\n",
    "%matplotlib inline "
   ]
  },
  {
   "cell_type": "markdown",
   "metadata": {},
   "source": [
    "# EXEMPLO 9.9"
   ]
  },
  {
   "cell_type": "markdown",
   "metadata": {},
   "source": [
    "$ {\\large \\text{ Escolha de Placas PCB de acordo com a densidade do circuito }}$\n",
    "<hr/>\n",
    "${\\large \\textit {Tipos de Placas - Single-Layer PCB , Double-Layer PCB, Four-Layer PCB, Six-Layer PCB}}$"
   ]
  },
  {
   "cell_type": "markdown",
   "metadata": {},
   "source": [
    "ESTADOS FUZZY -> $ s = (s_1,s_2,s_3,s_4,s_5) \\ \\ onde\\ \\ i=1...5 \\\\ \\text{ indica cada tipo de placa de acordo com a densidade da mesma.} \\\\ $ \n",
    "\n"
   ]
  },
  {
   "cell_type": "markdown",
   "metadata": {},
   "source": [
    "$$\\text{ Estados definem a\n",
    "densidade da placa onde: }\\\\ s_1 = 20\\% ,s_2=40\\%,s_3=60\\%,s_4=80\\%,s_5=100\\% $$\n",
    "\n"
   ]
  },
  {
   "cell_type": "markdown",
   "metadata": {},
   "source": [
    "TRÊS CONJUNTOS FUZZY DE \"ESTADOS DA NATUREZA\"\"\n",
    " -> $F_1 = \\text{Low-Density PCP},F_2 =\n",
    "\\text{Medium-Density PCP},F_3 = \\text{High-Density PCP} $"
   ]
  },
  {
   "cell_type": "markdown",
   "metadata": {},
   "source": [
    "Alternativas do Modelo: $\\ \\ A_1 = \\text{2-Layer PCB},\\ \\ A_2 = \\text{4-Layer PCB},\\ \\ A_3 = \\text{6-Layer PCB}$"
   ]
  },
  {
   "cell_type": "markdown",
   "metadata": {},
   "source": [
    "Novos Dados: $x=(x_1,x_2,x_3,x_4,x_5) \\ \\ \\text{onde: }x_1=100\\ \\ nós,\\ \\ x_2=200\\ \\ nós,\\ \\ x_3=300\\ \\ nós ,\\ \\ x_4=400\\ \\ nós ,\\ \\ x_5=500\\ \\ nós $"
   ]
  },
  {
   "cell_type": "markdown",
   "metadata": {},
   "source": [
    "Sistema ortogonal de informação fuzzy -> 3 conjuntos linguísticos:\n",
    "\n",
    "$$\\\\ \\\\ M_1,M_2,M_3 \\ \\  \\text{onde: }M_1-\\text{\n",
    "Baixo número de nós(menos que 300) },\\ \\ M_2-\\text{ Médio número de nós(entre 300) },M_3 -\\text{ Alto\n",
    "número de nós(mais que 300)}$$"
   ]
  },
  {
   "cell_type": "markdown",
   "metadata": {},
   "source": [
    "Probabilidade de cada Estado: $p(s_1) = 0.2,p(s_2) = 0.3,p(s_3) = 0.3,p(s_4) = 0.1,p(s_5) = 0.1$\n",
    "\n",
    "    "
   ]
  },
  {
   "cell_type": "code",
   "execution_count": 54,
   "metadata": {},
   "outputs": [
    {
     "data": {
      "text/plain": [
       "array([[ 10.,   3.,   0.],\n",
       "       [  4.,   9.,   6.],\n",
       "       [  1.,   7.,  10.]])"
      ]
     },
     "execution_count": 54,
     "metadata": {},
     "output_type": "execute_result"
    }
   ],
   "source": [
    "#MATRIZ DE UTILIDADE ESTADO Fuzzy ALTERNATIVA (Alternativas_i X SETFUZZY_j)\n",
    "#TABELA 9.9\n",
    "MU= np.array([[10., 3., 0.],[4., 9., 6.],[1.0,7.0,10.0]])\n",
    "MU"
   ]
  },
  {
   "cell_type": "markdown",
   "metadata": {},
   "source": [
    "$$\\large\\text{Vamos definir a matriz de utilidade MU que expressa a utilidade para um A_i dado F_j}$$"
   ]
  },
  {
   "cell_type": "markdown",
   "metadata": {},
   "source": [
    "$$\\large{\\text{Vamos definir a matriz de Pertinência para cada conjunto fuzzy F_i para os estados s_j}}$$"
   ]
  },
  {
   "cell_type": "code",
   "execution_count": 3,
   "metadata": {},
   "outputs": [
    {
     "data": {
      "text/plain": [
       "array([[ 1. ,  0.5,  0. ,  0. ,  0. ],\n",
       "       [ 0. ,  0.5,  1. ,  0.5,  0. ],\n",
       "       [ 0. ,  0. ,  0. ,  0.5,  1. ]])"
      ]
     },
     "execution_count": 3,
     "metadata": {},
     "output_type": "execute_result"
    }
   ],
   "source": [
    "#Matriz ortogonal de conjuntos fuzzy (Fuzzy_i por S_j)\n",
    "#TABELA 9.10\n",
    "FS = np.array([[1.,0.5,0,0,0],[0.,0.5,1,0.5,0],[0.,0.,0.,0.5,1.]])\n",
    "FS"
   ]
  },
  {
   "cell_type": "markdown",
   "metadata": {},
   "source": [
    "$$\\large{\\text{Vamos definir a matriz de Pertinência para cada conjunto de Informação fuzzy M_i para os dados x_j}}$$"
   ]
  },
  {
   "cell_type": "code",
   "execution_count": 4,
   "metadata": {},
   "outputs": [
    {
     "data": {
      "text/plain": [
       "array([[ 1. ,  0.4,  0. ,  0. ,  0. ],\n",
       "       [ 0. ,  0.6,  1. ,  0.6,  0. ],\n",
       "       [ 0. ,  0. ,  0. ,  0.4,  1. ]])"
      ]
     },
     "execution_count": 4,
     "metadata": {},
     "output_type": "execute_result"
    }
   ],
   "source": [
    "#TABELA 9.11\n",
    "#Conjuntos de informação fuzzy ortogonais relaciona os\n",
    "# M's(conjuntos fuzzy de acordo com os nodos +-300) aos x's(qtd exata de nodos)(M_i X DADOX_j)\n",
    "FM = np.array([[1,0.4,0.,0.,0.],[0.,0.6,1.,0.6,0],[0.,0.,0.,0.4,1.]])\n",
    "FM"
   ]
  },
  {
   "cell_type": "markdown",
   "metadata": {},
   "source": [
    "$$\\large{\\text{Vamos definir a matriz de Probabilidade Condicional para informações incertas }\\\\  p(x_j|s_i) \\\\ \\text{Probabilidade(linhas) X Novos Dados(colunas) - Probabilidade de um nós, dado  uma instância}} $$"
   ]
  },
  {
   "cell_type": "code",
   "execution_count": 5,
   "metadata": {},
   "outputs": [
    {
     "data": {
      "text/plain": [
       "array([[ 0.44,  0.35,  0.17,  0.04,  0.  ],\n",
       "       [ 0.26,  0.32,  0.26,  0.13,  0.03],\n",
       "       [ 0.12,  0.23,  0.3 ,  0.23,  0.12],\n",
       "       [ 0.03,  0.13,  0.26,  0.32,  0.26],\n",
       "       [ 0.  ,  0.04,  0.17,  0.35,  0.44]])"
      ]
     },
     "execution_count": 5,
     "metadata": {},
     "output_type": "execute_result"
    }
   ],
   "source": [
    "#TABELA 9.12  -    (p(x_j|s_i)x DATAX_j)\n",
    "CPUnc = np.array([[ 0.44,0.35,0.17,0.04,0 ],[0.26,0.32,0.26,0.13,0.03],\n",
    "[0.12,0.23,0.30,0.23,0.12],[0.03,0.13,0.26,0.32,0.26],[0,0.04,0.17,0.35,0.44]])\n",
    "CPUnc"
   ]
  },
  {
   "cell_type": "markdown",
   "metadata": {},
   "source": [
    "$$\\large{\\text{Probabilidade Condicional para informações PERFEITAS }\\\\  p(x_j|s_i) \\\\ \\text{Probabilidade(linhas) X Novos Dados(colunas) - Probabilidade de um nó, dado  uma instância}} $$"
   ]
  },
  {
   "cell_type": "code",
   "execution_count": 37,
   "metadata": {},
   "outputs": [
    {
     "data": {
      "text/plain": [
       "array([[ 1.,  0.,  0.,  0.,  0.],\n",
       "       [ 0.,  1.,  0.,  0.,  0.],\n",
       "       [ 0.,  0.,  1.,  0.,  0.],\n",
       "       [ 0.,  0.,  0.,  1.,  0.],\n",
       "       [ 0.,  0.,  0.,  0.,  1.]])"
      ]
     },
     "execution_count": 37,
     "metadata": {},
     "output_type": "execute_result"
    }
   ],
   "source": [
    "#TABELA 9.13\n",
    "CPPer = array([[1.0,0.,0.,0.,0.],[0.0,1.,0.,0.,0.],[0.0,0.,1.,0.,0.],\n",
    "[0.0,0.,0.,1.,0.],[0.0,0.,0.,0.,1.]])\n",
    "CPPer"
   ]
  },
  {
   "cell_type": "markdown",
   "metadata": {},
   "source": [
    "<hr/>\n",
    "<hr/>\n",
    "\n",
    "$$\\large{\\text{Agora temos informações suficientes para iniciar as análises probabilísticas e estabelecer uma tomada de decisão}}$$\n",
    "<hr/>\n",
    "<hr/>\n",
    "\n"
   ]
  },
  {
   "cell_type": "markdown",
   "metadata": {},
   "source": [
    "$$\\Large{\\text{CASO 1: Ações e Estados CRISP ( Nítidos / bem definidos / não-fuzzy )}}$$\n",
    "<hr/>\n",
    "___________________________________________________"
   ]
  },
  {
   "cell_type": "markdown",
   "metadata": {},
   "source": [
    "$\\large{\\text{1.1 - Utilidade e melhor opção dada nenhuma informação}}$"
   ]
  },
  {
   "cell_type": "markdown",
   "metadata": {},
   "source": [
    "$\\large{\\text{Primeiramente vamos calcular a utilidade esperada e depois encontrar a opção ótima}}$"
   ]
  },
  {
   "cell_type": "code",
   "execution_count": 6,
   "metadata": {},
   "outputs": [
    {
     "data": {
      "text/plain": [
       "array([ 0.2,  0.3,  0.3,  0.1,  0.1])"
      ]
     },
     "execution_count": 6,
     "metadata": {},
     "output_type": "execute_result"
    }
   ],
   "source": [
    "# Vetor de Probabilidades para os estados \"s\"\n",
    "Ps = np.array([0.2,0.3,0.3,0.1,0.1])\n",
    "Ps"
   ]
  },
  {
   "cell_type": "code",
   "execution_count": 7,
   "metadata": {},
   "outputs": [
    {
     "data": {
      "text/plain": [
       "array([[ 10.,   8.,   6.,   2.,   0.],\n",
       "       [  4.,   6.,   9.,   6.,   4.],\n",
       "       [  1.,   2.,   6.,   8.,  10.]])"
      ]
     },
     "execution_count": 7,
     "metadata": {},
     "output_type": "execute_result"
    }
   ],
   "source": [
    "#Tabela 9.14 ( Valores de utilidade)\n",
    "#depois analisar a tabela de utilidade para cara uma das alternativas Ai\n",
    "#de acordo com os estados s'i\n",
    "Ut = array([[10.,8.,6.,2.,0.],[4.,6.,9.,6.,4.],[1.,2.,6.,8.,10]])\n",
    "Ut"
   ]
  },
  {
   "cell_type": "code",
   "execution_count": 8,
   "metadata": {
    "collapsed": true
   },
   "outputs": [],
   "source": [
    "def UtiEsp1(A,P):\n",
    "    vetUT = np.dot(A,P)\n",
    "    opcao = np.argmax(vetUT)\n",
    "    print(\"A melhor alternativa é :\",opcao+1)\n",
    "    return vetUT\n",
    "    \n",
    "    "
   ]
  },
  {
   "cell_type": "code",
   "execution_count": 9,
   "metadata": {},
   "outputs": [
    {
     "name": "stdout",
     "output_type": "stream",
     "text": [
      "A melhor alternativa é : 1\n"
     ]
    },
    {
     "data": {
      "text/plain": [
       "array([ 6.4,  6.3,  4.4])"
      ]
     },
     "execution_count": 9,
     "metadata": {},
     "output_type": "execute_result"
    }
   ],
   "source": [
    "EUX0 = UtiEsp1(Ut,Ps)\n",
    "EUX0"
   ]
  },
  {
   "cell_type": "code",
   "execution_count": 10,
   "metadata": {},
   "outputs": [
    {
     "data": {
      "text/plain": [
       "6.4000000000000004"
      ]
     },
     "execution_count": 10,
     "metadata": {},
     "output_type": "execute_result"
    }
   ],
   "source": [
    "EUX0[0]"
   ]
  },
  {
   "cell_type": "markdown",
   "metadata": {},
   "source": [
    "$\\large{\\text{1.2 - Utilidade e melhor opção dada incerteza e informação perfeita}}$"
   ]
  },
  {
   "cell_type": "markdown",
   "metadata": {},
   "source": [
    "$\\large{\\text{ a) - Informações Probabilísticas}}$"
   ]
  },
  {
   "cell_type": "code",
   "execution_count": 11,
   "metadata": {},
   "outputs": [
    {
     "data": {
      "text/plain": [
       "array([[ 0.44,  0.35,  0.17,  0.04,  0.  ],\n",
       "       [ 0.26,  0.32,  0.26,  0.13,  0.03],\n",
       "       [ 0.12,  0.23,  0.3 ,  0.23,  0.12],\n",
       "       [ 0.03,  0.13,  0.26,  0.32,  0.26],\n",
       "       [ 0.  ,  0.04,  0.17,  0.35,  0.44]])"
      ]
     },
     "execution_count": 11,
     "metadata": {},
     "output_type": "execute_result"
    }
   ],
   "source": [
    "# PRIMEIRAMENTE É CALCULAR AS PROBABILIDADE MARGINAIS CONDICIONAIS  -  SOMATÓRIO DE CADA VALOR PROBABILÍSTICO INCERTO\n",
    "#ELE NÃO DIZ COMO FAZ\n",
    "# MATRIZ DE PROBABILIDADE CONDICIONAL \n",
    "CPUnc \n"
   ]
  },
  {
   "cell_type": "code",
   "execution_count": 12,
   "metadata": {},
   "outputs": [
    {
     "data": {
      "text/plain": [
       "array([ 0.2,  0.3,  0.3,  0.1,  0.1])"
      ]
     },
     "execution_count": 12,
     "metadata": {},
     "output_type": "execute_result"
    }
   ],
   "source": [
    "#VETOR DE PROBABILIDADE\n",
    "\n",
    "Ps"
   ]
  },
  {
   "cell_type": "markdown",
   "metadata": {},
   "source": [
    "$${\\text{VAMOS ENCONTRAR A \"PROBABILIDADE MARGINAL\" PELO TEOREMA DA PROBABILIDADE TOTAL}}$$"
   ]
  },
  {
   "cell_type": "code",
   "execution_count": 13,
   "metadata": {
    "collapsed": true
   },
   "outputs": [],
   "source": [
    "def ProMarg(Mat,P): \n",
    "    l,c = Mat.shape\n",
    "    Pm = np.zeros((l))\n",
    "    for j in range(l):\n",
    "        for i in range(l):\n",
    "            Pm[j] = Pm[j] + Mat[i,j]*P[i]\n",
    "    return Pm\n",
    "\n",
    "\n",
    "            \n",
    "    "
   ]
  },
  {
   "cell_type": "code",
   "execution_count": 14,
   "metadata": {},
   "outputs": [
    {
     "data": {
      "text/plain": [
       "array([ 0.205,  0.252,  0.245,  0.183,  0.115])"
      ]
     },
     "execution_count": 14,
     "metadata": {},
     "output_type": "execute_result"
    }
   ],
   "source": [
    "#A PROBABILIDADE DE UM ESTADO X_i OCORRER\n",
    "Pm = ProMarg(CPUnc,Ps)\n",
    "Pm"
   ]
  },
  {
   "cell_type": "markdown",
   "metadata": {},
   "source": [
    "$$\\large{\\text{APLICANDO O TEOREMA DE BAYES}}$$"
   ]
  },
  {
   "cell_type": "code",
   "execution_count": 16,
   "metadata": {
    "collapsed": true
   },
   "outputs": [],
   "source": [
    "# Agora vamos calcular as matrizes condicionais. \n",
    "def ProbCond(A,P):\n",
    "    #Vamos Calcular as probabilidades Marginais pelo teorema da probabilidade total.\n",
    "    l,c = A.shape\n",
    "    Pm = np.zeros((l))\n",
    "    for j in range(l):\n",
    "        for i in range(l):\n",
    "            Pm[j] = Pm[j] + A[i,j]*P[i]\n",
    "    ConPr = np.zeros((l,l))\n",
    "    for j in range(l):\n",
    "         for i in range(l):\n",
    "            ConPr[i,j] = ((A[i,j]*P[i])/Pm[j])\n",
    "    return ConPr\n",
    "    \n"
   ]
  },
  {
   "cell_type": "markdown",
   "metadata": {},
   "source": [
    "$$\\Large{\\text{Matriz das probabilidades condicionais}}$$ "
   ]
  },
  {
   "cell_type": "code",
   "execution_count": 19,
   "metadata": {},
   "outputs": [
    {
     "data": {
      "text/plain": [
       "array([[ 0.42926829,  0.27777778,  0.13877551,  0.04371585,  0.        ],\n",
       "       [ 0.3804878 ,  0.38095238,  0.31836735,  0.21311475,  0.07826087],\n",
       "       [ 0.17560976,  0.27380952,  0.36734694,  0.37704918,  0.31304348],\n",
       "       [ 0.01463415,  0.0515873 ,  0.10612245,  0.17486339,  0.22608696],\n",
       "       [ 0.        ,  0.01587302,  0.06938776,  0.19125683,  0.3826087 ]])"
      ]
     },
     "execution_count": 19,
     "metadata": {},
     "output_type": "execute_result"
    }
   ],
   "source": [
    "MPCond = ProbCond(CPUnc,Ps) # X_i X s_j\n",
    "MPCond"
   ]
  },
  {
   "cell_type": "code",
   "execution_count": 20,
   "metadata": {},
   "outputs": [
    {
     "data": {
      "text/plain": [
       "0.99999999999999989"
      ]
     },
     "execution_count": 20,
     "metadata": {},
     "output_type": "execute_result"
    }
   ],
   "source": [
    "sum(MPCond[:,0])"
   ]
  },
  {
   "cell_type": "markdown",
   "metadata": {},
   "source": [
    "$$\\Large{\\text{Vamos determinar o vetor de utilidade esperada }}$$ "
   ]
  },
  {
   "cell_type": "code",
   "execution_count": 22,
   "metadata": {},
   "outputs": [
    {
     "data": {
      "text/plain": [
       "array([[ 10.,   8.,   6.,   2.,   0.],\n",
       "       [  4.,   6.,   9.,   6.,   4.],\n",
       "       [  1.,   2.,   6.,   8.,  10.]])"
      ]
     },
     "execution_count": 22,
     "metadata": {},
     "output_type": "execute_result"
    }
   ],
   "source": [
    "Ut # Alternativas_i X S_j (ESTADOS)"
   ]
  },
  {
   "cell_type": "code",
   "execution_count": 23,
   "metadata": {},
   "outputs": [
    {
     "data": {
      "text/plain": [
       "array([[ 8.4195122 ,  7.57142857,  6.35102041,  4.75409836,  2.95652174],\n",
       "       [ 5.66829268,  6.23412698,  6.68571429,  6.66120219,  6.17391304],\n",
       "       [ 2.36097561,  3.25396825,  4.52244898,  6.04371585,  7.66956522]])"
      ]
     },
     "execution_count": 23,
     "metadata": {},
     "output_type": "execute_result"
    }
   ],
   "source": [
    "MUtil = np.dot(Ut,MPCond)\n",
    "MUtil"
   ]
  },
  {
   "cell_type": "code",
   "execution_count": 27,
   "metadata": {
    "collapsed": true
   },
   "outputs": [],
   "source": [
    "def UtiEsp(A):\n",
    "    l,c = A.shape\n",
    "    VetUti = np.zeros((c))\n",
    "    Alternativas = np.zeros((c))\n",
    "    for j in range(c):\n",
    "        VetUti[j] = np.max(A[:,j])\n",
    "        Alternativas[j] = np.argmax(A[:,j])+1\n",
    "    return VetUti,Alternativas\n",
    "        \n",
    "        \n",
    "        "
   ]
  },
  {
   "cell_type": "code",
   "execution_count": 30,
   "metadata": {
    "collapsed": true
   },
   "outputs": [],
   "source": [
    "Eux,Alter = UtiEsp(MUtil)\n"
   ]
  },
  {
   "cell_type": "code",
   "execution_count": 31,
   "metadata": {},
   "outputs": [
    {
     "data": {
      "text/plain": [
       "array([ 8.4195122 ,  7.57142857,  6.68571429,  6.66120219,  7.66956522])"
      ]
     },
     "execution_count": 31,
     "metadata": {},
     "output_type": "execute_result"
    }
   ],
   "source": [
    "#Vetor de utilidade esperada \n",
    "Eux"
   ]
  },
  {
   "cell_type": "code",
   "execution_count": 137,
   "metadata": {},
   "outputs": [
    {
     "data": {
      "text/plain": [
       "array([ 1.,  1.,  2.,  2.,  3.])"
      ]
     },
     "execution_count": 137,
     "metadata": {},
     "output_type": "execute_result"
    }
   ],
   "source": [
    "#Alternativas\n",
    "Alter"
   ]
  },
  {
   "cell_type": "markdown",
   "metadata": {},
   "source": [
    "Logo, para o dado X1 deve ser escolhida a alternativa A1 (PCB de duas camadas). Para X2 deve ser escolhida a alternativa A2 (PCB de duas camadas). Para X3 o PCB de 4 camadas e assim sucessivamente para os valores do vetor UtiEsp."
   ]
  },
  {
   "cell_type": "markdown",
   "metadata": {},
   "source": [
    "$$\\Large{\\text{Determinar a utilidade total }}$$ "
   ]
  },
  {
   "cell_type": "code",
   "execution_count": 33,
   "metadata": {},
   "outputs": [
    {
     "data": {
      "text/plain": [
       "7.3729999999999993"
      ]
     },
     "execution_count": 33,
     "metadata": {},
     "output_type": "execute_result"
    }
   ],
   "source": [
    "UitTotal = np.dot(Eux,Pm)\n",
    "UitTotal"
   ]
  },
  {
   "cell_type": "markdown",
   "metadata": {},
   "source": [
    "${\\text{Para determinar o valor da informação, analisamos quanto ele diferere do ótimo encontrado com ações e estados bem definidos.  }}$"
   ]
  },
  {
   "cell_type": "code",
   "execution_count": 34,
   "metadata": {},
   "outputs": [
    {
     "data": {
      "text/plain": [
       "0.9728999999999992"
      ]
     },
     "execution_count": 34,
     "metadata": {},
     "output_type": "execute_result"
    }
   ],
   "source": [
    "VALOR = 7.3729 - 6.4\n",
    "VALOR"
   ]
  },
  {
   "cell_type": "markdown",
   "metadata": {},
   "source": [
    "COMO A DIFERENÇA FOI MUITO PEQUENA, NÃO HÁ UMA CONTRIBUIÇÃO SIGNIFICANTE AO MODELO PERANTE ÀS NOVAS INFORMAÇÕES ADICIONADAS."
   ]
  },
  {
   "cell_type": "markdown",
   "metadata": {},
   "source": [
    "$\\large{\\text{ b) - Informações Probabilísticas Perfeitas}}$"
   ]
  },
  {
   "cell_type": "code",
   "execution_count": 35,
   "metadata": {},
   "outputs": [
    {
     "data": {
      "text/plain": [
       "array([[ 10.,   8.,   6.,   2.,   0.],\n",
       "       [  4.,   6.,   9.,   6.,   4.],\n",
       "       [  1.,   2.,   6.,   8.,  10.]])"
      ]
     },
     "execution_count": 35,
     "metadata": {},
     "output_type": "execute_result"
    }
   ],
   "source": [
    "# USA A MESMA UTILIDADE (ALTERNATIVAS_I X S_J)\n",
    "Ut"
   ]
  },
  {
   "cell_type": "code",
   "execution_count": 38,
   "metadata": {},
   "outputs": [
    {
     "data": {
      "text/plain": [
       "array([[ 1.,  0.,  0.,  0.,  0.],\n",
       "       [ 0.,  1.,  0.,  0.,  0.],\n",
       "       [ 0.,  0.,  1.,  0.,  0.],\n",
       "       [ 0.,  0.,  0.,  1.,  0.],\n",
       "       [ 0.,  0.,  0.,  0.,  1.]])"
      ]
     },
     "execution_count": 38,
     "metadata": {},
     "output_type": "execute_result"
    }
   ],
   "source": [
    "#informações probabilísticas perfeitas\n",
    "CPPer"
   ]
  },
  {
   "cell_type": "code",
   "execution_count": 39,
   "metadata": {},
   "outputs": [
    {
     "data": {
      "text/plain": [
       "array([ 0.2,  0.3,  0.3,  0.1,  0.1])"
      ]
     },
     "execution_count": 39,
     "metadata": {},
     "output_type": "execute_result"
    }
   ],
   "source": [
    "# Mesma probabildade sobre os estados\n",
    "Ps"
   ]
  },
  {
   "cell_type": "markdown",
   "metadata": {},
   "source": [
    "$$\\large{\\text{ Determinar a utilidade esperada}}$$"
   ]
  },
  {
   "cell_type": "code",
   "execution_count": 40,
   "metadata": {},
   "outputs": [
    {
     "data": {
      "text/plain": [
       "array([[ 10.,   8.,   6.,   2.,   0.],\n",
       "       [  4.,   6.,   9.,   6.,   4.],\n",
       "       [  1.,   2.,   6.,   8.,  10.]])"
      ]
     },
     "execution_count": 40,
     "metadata": {},
     "output_type": "execute_result"
    }
   ],
   "source": [
    "# Vamos determinar a utilidade Esperada ( Alternativas Fuzzy X Estados)\n",
    "MUtil2 = np.dot(Ut,CPPer)\n",
    "MUtil2"
   ]
  },
  {
   "cell_type": "code",
   "execution_count": 41,
   "metadata": {
    "collapsed": true
   },
   "outputs": [],
   "source": [
    "#Agora determinar a utilidade e as alternativas ótimas\n",
    "Eux2,Alter2 = UtiEsp(MUtil2)\n"
   ]
  },
  {
   "cell_type": "code",
   "execution_count": 42,
   "metadata": {},
   "outputs": [
    {
     "data": {
      "text/plain": [
       "array([ 10.,   8.,   9.,   8.,  10.])"
      ]
     },
     "execution_count": 42,
     "metadata": {},
     "output_type": "execute_result"
    }
   ],
   "source": [
    "Eux2"
   ]
  },
  {
   "cell_type": "code",
   "execution_count": 43,
   "metadata": {},
   "outputs": [
    {
     "data": {
      "text/plain": [
       "array([ 1.,  1.,  2.,  3.,  3.])"
      ]
     },
     "execution_count": 43,
     "metadata": {},
     "output_type": "execute_result"
    }
   ],
   "source": [
    "#Qual alternativa escolher para cada tipo de dado\n",
    "Alter2"
   ]
  },
  {
   "cell_type": "markdown",
   "metadata": {},
   "source": [
    "$$\\large{\\text{Utilidade Máxima Esperada}}$$"
   ]
  },
  {
   "cell_type": "code",
   "execution_count": 44,
   "metadata": {},
   "outputs": [
    {
     "data": {
      "text/plain": [
       "8.8999999999999986"
      ]
     },
     "execution_count": 44,
     "metadata": {},
     "output_type": "execute_result"
    }
   ],
   "source": [
    "UTMAX = np.dot(Eux2,Ps)\n",
    "UTMAX"
   ]
  },
  {
   "cell_type": "markdown",
   "metadata": {},
   "source": [
    "$$\\large{\\text{VALOR DA INFORMAÇÃO PROBABILÍSTA PERFEITA}}$$"
   ]
  },
  {
   "cell_type": "code",
   "execution_count": 45,
   "metadata": {},
   "outputs": [
    {
     "data": {
      "text/plain": [
       "2.4999999999999982"
      ]
     },
     "execution_count": 45,
     "metadata": {},
     "output_type": "execute_result"
    }
   ],
   "source": [
    "VPP = UTMAX - EUX0[0]\n",
    "VPP"
   ]
  },
  {
   "cell_type": "markdown",
   "metadata": {},
   "source": [
    "<hr/>\n",
    "___________________________________________________\n",
    "$$\\Large{\\text{CASO 2: Ações e Estados Fuzzy}}$$\n",
    "<hr/>\n",
    "___________________________________________________"
   ]
  },
  {
   "cell_type": "markdown",
   "metadata": {},
   "source": [
    "$\\large{\\text{ 1) - Utilidade e ótimo dada nenhuma informação}}$"
   ]
  },
  {
   "cell_type": "code",
   "execution_count": 46,
   "metadata": {},
   "outputs": [
    {
     "data": {
      "text/plain": [
       "array([[ 10.,   8.,   6.,   2.,   0.],\n",
       "       [  4.,   6.,   9.,   6.,   4.],\n",
       "       [  1.,   2.,   6.,   8.,  10.]])"
      ]
     },
     "execution_count": 46,
     "metadata": {},
     "output_type": "execute_result"
    }
   ],
   "source": [
    "# Dada a utilidade\n",
    "Ut"
   ]
  },
  {
   "cell_type": "code",
   "execution_count": 49,
   "metadata": {},
   "outputs": [
    {
     "data": {
      "text/plain": [
       "array([[ 1. ,  0.5,  0. ,  0. ,  0. ],\n",
       "       [ 0. ,  0.5,  1. ,  0.5,  0. ],\n",
       "       [ 0. ,  0. ,  0. ,  0.5,  1. ]])"
      ]
     },
     "execution_count": 49,
     "metadata": {},
     "output_type": "execute_result"
    }
   ],
   "source": [
    "# MATRIZ FUZZY PARA O ESTADOS 's' (F_i X S_j) Fuzzy 'F' por estados 's'\n",
    "FS"
   ]
  },
  {
   "cell_type": "code",
   "execution_count": 50,
   "metadata": {},
   "outputs": [
    {
     "data": {
      "text/plain": [
       "array([ 0.2,  0.3,  0.3,  0.1,  0.1])"
      ]
     },
     "execution_count": 50,
     "metadata": {},
     "output_type": "execute_result"
    }
   ],
   "source": [
    "Ps"
   ]
  },
  {
   "cell_type": "code",
   "execution_count": 52,
   "metadata": {},
   "outputs": [
    {
     "data": {
      "text/plain": [
       "array([ 0.35,  0.5 ,  0.15])"
      ]
     },
     "execution_count": 52,
     "metadata": {},
     "output_type": "execute_result"
    }
   ],
   "source": [
    "# PROBABILIDADES DE CADA CONJUNTO FUZZY DE ACORDO COM CADA ESTADO 'S'\n",
    "PPF = np.dot(FS,Ps)\n",
    "PPF"
   ]
  },
  {
   "cell_type": "code",
   "execution_count": 56,
   "metadata": {},
   "outputs": [
    {
     "data": {
      "text/plain": [
       "array([[ 10.,   3.,   0.],\n",
       "       [  4.,   9.,   6.],\n",
       "       [  1.,   7.,  10.]])"
      ]
     },
     "execution_count": 56,
     "metadata": {},
     "output_type": "execute_result"
    }
   ],
   "source": [
    "#MATRIZ DADA  -  RELACIONA A_i X F_j \n",
    "MU"
   ]
  },
  {
   "cell_type": "code",
   "execution_count": 57,
   "metadata": {},
   "outputs": [
    {
     "data": {
      "text/plain": [
       "array([ 5.  ,  6.8 ,  5.35])"
      ]
     },
     "execution_count": 57,
     "metadata": {},
     "output_type": "execute_result"
    }
   ],
   "source": [
    "#VETOR DE UTILIDADE ESPERADA\n",
    "np.dot(MU,PPF)"
   ]
  },
  {
   "cell_type": "code",
   "execution_count": 58,
   "metadata": {},
   "outputs": [
    {
     "name": "stdout",
     "output_type": "stream",
     "text": [
      "A melhor alternativa é : 2\n"
     ]
    },
    {
     "data": {
      "text/plain": [
       "array([ 5.  ,  6.8 ,  5.35])"
      ]
     },
     "execution_count": 58,
     "metadata": {},
     "output_type": "execute_result"
    }
   ],
   "source": [
    "# Utilidade Esperada \n",
    "UtF = UtiEsp1(MU,PPF)\n",
    "UtF"
   ]
  },
  {
   "cell_type": "code",
   "execution_count": 180,
   "metadata": {},
   "outputs": [
    {
     "data": {
      "text/plain": [
       "6.7999999999999998"
      ]
     },
     "execution_count": 180,
     "metadata": {},
     "output_type": "execute_result"
    }
   ],
   "source": [
    "# ÓTIMO\n",
    "UtF[1]"
   ]
  },
  {
   "cell_type": "markdown",
   "metadata": {},
   "source": [
    "$\\large{\\text{ $\\large{\\text{ 2) - Utilidade e ótimo dada informação incerta e perfeita}}$}}$"
   ]
  },
  {
   "cell_type": "markdown",
   "metadata": {},
   "source": [
    "$\\text{a) Informação Probabilística ( INCERTA )}$"
   ]
  },
  {
   "cell_type": "code",
   "execution_count": 181,
   "metadata": {},
   "outputs": [
    {
     "data": {
      "text/plain": [
       "array([[ 1. ,  0.5,  0. ,  0. ,  0. ],\n",
       "       [ 0. ,  0.5,  1. ,  0.5,  0. ],\n",
       "       [ 0. ,  0. ,  0. ,  0.5,  1. ]])"
      ]
     },
     "execution_count": 181,
     "metadata": {},
     "output_type": "execute_result"
    }
   ],
   "source": [
    "# MATRIZ FUZZY PARA O ESTADOS 's' ( F_i X S_j)\n",
    "FS"
   ]
  },
  {
   "cell_type": "code",
   "execution_count": 59,
   "metadata": {},
   "outputs": [
    {
     "data": {
      "text/plain": [
       "array([[ 0.44,  0.35,  0.17,  0.04,  0.  ],\n",
       "       [ 0.26,  0.32,  0.26,  0.13,  0.03],\n",
       "       [ 0.12,  0.23,  0.3 ,  0.23,  0.12],\n",
       "       [ 0.03,  0.13,  0.26,  0.32,  0.26],\n",
       "       [ 0.  ,  0.04,  0.17,  0.35,  0.44]])"
      ]
     },
     "execution_count": 59,
     "metadata": {},
     "output_type": "execute_result"
    }
   ],
   "source": [
    "#MATRIZ DE PROBABILIDADE CONDICIONAL p(x|s)_i X DATAX_j\n",
    "CPUnc"
   ]
  },
  {
   "cell_type": "code",
   "execution_count": 60,
   "metadata": {},
   "outputs": [
    {
     "data": {
      "text/plain": [
       "array([ 0.2,  0.3,  0.3,  0.1,  0.1])"
      ]
     },
     "execution_count": 60,
     "metadata": {},
     "output_type": "execute_result"
    }
   ],
   "source": [
    "Ps"
   ]
  },
  {
   "cell_type": "code",
   "execution_count": 62,
   "metadata": {},
   "outputs": [
    {
     "data": {
      "text/plain": [
       "array([ 0.205,  0.252,  0.245,  0.183,  0.115])"
      ]
     },
     "execution_count": 62,
     "metadata": {},
     "output_type": "execute_result"
    }
   ],
   "source": [
    "Pm"
   ]
  },
  {
   "cell_type": "markdown",
   "metadata": {},
   "source": [
    "$$\\large{\\text{MATRIZ DE PROBABILIDADE POSTERIOR FUZZY}}$$"
   ]
  },
  {
   "cell_type": "markdown",
   "metadata": {},
   "source": [
    "<img src=\"Images/fig952a.png\">"
   ]
  },
  {
   "cell_type": "code",
   "execution_count": 64,
   "metadata": {
    "collapsed": true
   },
   "outputs": [],
   "source": [
    "def PoPrF(F,U,P,PM):\n",
    "    l,c = F.shape\n",
    "    MP = np.zeros((c,l))\n",
    "    for i in range(l):\n",
    "        for k in range(c):\n",
    "            soma = 0\n",
    "            for j in range(c):\n",
    "                soma = soma + (F[i,j]*U[j,k]*P[j])\n",
    "            MP[k,i] = (soma/PM[k])\n",
    "    return MP"
   ]
  },
  {
   "cell_type": "code",
   "execution_count": 65,
   "metadata": {},
   "outputs": [
    {
     "data": {
      "text/plain": [
       "array([[ 0.6195122 ,  0.37317073,  0.00731707],\n",
       "       [ 0.46825397,  0.49007937,  0.04166667],\n",
       "       [ 0.29795918,  0.57959184,  0.12244898],\n",
       "       [ 0.15027322,  0.57103825,  0.27868852],\n",
       "       [ 0.03913043,  0.46521739,  0.49565217]])"
      ]
     },
     "execution_count": 65,
     "metadata": {},
     "output_type": "execute_result"
    }
   ],
   "source": [
    "# VAMOS CALCULAR A MATRIZ DE PROBABILIDADE INCERTA (x_i ) X (F_j)\n",
    "MPInc = PoPrF(FS,CPUnc,Ps,Pm)\n",
    "MPInc"
   ]
  },
  {
   "cell_type": "markdown",
   "metadata": {},
   "source": [
    "Agora vamos calcular a utilidade esperada para cada alternativa fuzzy com informação probabilística\n",
    "<hr\\>"
   ]
  },
  {
   "cell_type": "code",
   "execution_count": 67,
   "metadata": {},
   "outputs": [
    {
     "data": {
      "text/plain": [
       "array([[ 0.6195122 ,  0.37317073,  0.00731707],\n",
       "       [ 0.46825397,  0.49007937,  0.04166667],\n",
       "       [ 0.29795918,  0.57959184,  0.12244898],\n",
       "       [ 0.15027322,  0.57103825,  0.27868852],\n",
       "       [ 0.03913043,  0.46521739,  0.49565217]])"
      ]
     },
     "execution_count": 67,
     "metadata": {},
     "output_type": "execute_result"
    }
   ],
   "source": [
    "MPInc"
   ]
  },
  {
   "cell_type": "code",
   "execution_count": 69,
   "metadata": {},
   "outputs": [
    {
     "data": {
      "text/plain": [
       "array([[ 7.31463415,  5.8804878 ,  3.30487805],\n",
       "       [ 6.15277778,  6.53373016,  4.31547619],\n",
       "       [ 4.71836735,  7.14285714,  5.57959184],\n",
       "       [ 3.21584699,  7.41256831,  6.93442623],\n",
       "       [ 1.78695652,  7.3173913 ,  8.25217391]])"
      ]
     },
     "execution_count": 69,
     "metadata": {},
     "output_type": "execute_result"
    }
   ],
   "source": [
    "Multi3 = np.dot(MPInc,MU.T)# (x_i) X(A_j)\n",
    "Multi3"
   ]
  },
  {
   "cell_type": "markdown",
   "metadata": {},
   "source": [
    "### AGORA AS LINHAS QUE SÃO AS OPÇÕES- Preciso avaliar a \"melhor opção\" sobre as linhas e não sobre as colunas"
   ]
  },
  {
   "cell_type": "code",
   "execution_count": 70,
   "metadata": {
    "collapsed": true
   },
   "outputs": [],
   "source": [
    "def UtiEspX(A):\n",
    "    l,c = A.shape\n",
    "    VetUti = np.zeros((l))\n",
    "    Alternativas = np.zeros((l))\n",
    "    for j in range(l):\n",
    "        VetUti[j] = np.max(A[j,:])\n",
    "        Alternativas[j] = np.argmax(A[j,:])+1\n",
    "    return VetUti,Alternativas\n"
   ]
  },
  {
   "cell_type": "code",
   "execution_count": 71,
   "metadata": {},
   "outputs": [
    {
     "data": {
      "text/plain": [
       "array([ 7.31463415,  6.53373016,  7.14285714,  7.41256831,  8.25217391])"
      ]
     },
     "execution_count": 71,
     "metadata": {},
     "output_type": "execute_result"
    }
   ],
   "source": [
    "Eux1,Alter1 = UtiEspX(Multi3)\n",
    "Eux1"
   ]
  },
  {
   "cell_type": "code",
   "execution_count": 72,
   "metadata": {},
   "outputs": [
    {
     "data": {
      "text/plain": [
       "array([ 1.,  2.,  2.,  2.,  3.])"
      ]
     },
     "execution_count": 72,
     "metadata": {},
     "output_type": "execute_result"
    }
   ],
   "source": [
    "Alter1"
   ]
  },
  {
   "cell_type": "markdown",
   "metadata": {},
   "source": [
    "$\\normalsize{\\text{Há vários modos de interpretar \"A MELHOR OPÇÃO\"}}$"
   ]
  },
  {
   "cell_type": "markdown",
   "metadata": {},
   "source": [
    "$$\\large{\\text{AGORA VAMOS ENCONTRAR O ÓTIMO GLOBAL}}$$"
   ]
  },
  {
   "cell_type": "code",
   "execution_count": 73,
   "metadata": {},
   "outputs": [
    {
     "data": {
      "text/plain": [
       "7.2015000000000002"
      ]
     },
     "execution_count": 73,
     "metadata": {},
     "output_type": "execute_result"
    }
   ],
   "source": [
    "Otimo= np.dot(Eux1,Pm)\n",
    "Otimo"
   ]
  },
  {
   "cell_type": "markdown",
   "metadata": {},
   "source": [
    "$$\\large{\\text{Por fim, o valor da informação probabilística incerta }}$$"
   ]
  },
  {
   "cell_type": "code",
   "execution_count": 74,
   "metadata": {},
   "outputs": [
    {
     "data": {
      "text/plain": [
       "array([ 5.  ,  6.8 ,  5.35])"
      ]
     },
     "execution_count": 74,
     "metadata": {},
     "output_type": "execute_result"
    }
   ],
   "source": [
    "#Matriz de ótimos para as alternivas fuzzy\n",
    "#uso o maior dela\n",
    "UtF"
   ]
  },
  {
   "cell_type": "code",
   "execution_count": 75,
   "metadata": {},
   "outputs": [
    {
     "data": {
      "text/plain": [
       "0.40150000000000041"
      ]
     },
     "execution_count": 75,
     "metadata": {},
     "output_type": "execute_result"
    }
   ],
   "source": [
    "VALORInF = Otimo - UtF[1]\n",
    "VALORInF"
   ]
  },
  {
   "cell_type": "markdown",
   "metadata": {},
   "source": [
    "## Cálculo da Probabilidade da Informação perfeita"
   ]
  },
  {
   "cell_type": "code",
   "execution_count": 103,
   "metadata": {},
   "outputs": [
    {
     "data": {
      "text/plain": [
       "array([[ 1. ,  0.5,  0. ,  0. ,  0. ],\n",
       "       [ 0. ,  0.5,  1. ,  0.5,  0. ],\n",
       "       [ 0. ,  0. ,  0. ,  0.5,  1. ]])"
      ]
     },
     "execution_count": 103,
     "metadata": {},
     "output_type": "execute_result"
    }
   ],
   "source": [
    "#matriz dos conjuntos fuzzy para os estados(F_i)X(s_j)\n",
    "FS"
   ]
  },
  {
   "cell_type": "code",
   "execution_count": 142,
   "metadata": {},
   "outputs": [
    {
     "data": {
      "text/plain": [
       "array([[ 1. ,  0. ,  0. ],\n",
       "       [ 0.5,  0.5,  0. ],\n",
       "       [ 0. ,  1. ,  0. ],\n",
       "       [ 0. ,  0.5,  0.5],\n",
       "       [ 0. ,  0. ,  1. ]])"
      ]
     },
     "execution_count": 142,
     "metadata": {},
     "output_type": "execute_result"
    }
   ],
   "source": [
    "FS.T"
   ]
  },
  {
   "cell_type": "code",
   "execution_count": 104,
   "metadata": {},
   "outputs": [
    {
     "data": {
      "text/plain": [
       "array([[ 1.,  0.,  0.,  0.,  0.],\n",
       "       [ 0.,  1.,  0.,  0.,  0.],\n",
       "       [ 0.,  0.,  1.,  0.,  0.],\n",
       "       [ 0.,  0.,  0.,  1.,  0.],\n",
       "       [ 0.,  0.,  0.,  0.,  1.]])"
      ]
     },
     "execution_count": 104,
     "metadata": {},
     "output_type": "execute_result"
    }
   ],
   "source": [
    "#informações probabilísticas perfeitas(p(x_i|s_i)X (DADO-X_j))\n",
    "CPPer"
   ]
  },
  {
   "cell_type": "code",
   "execution_count": 105,
   "metadata": {},
   "outputs": [
    {
     "data": {
      "text/plain": [
       "array([ 0.2,  0.3,  0.3,  0.1,  0.1])"
      ]
     },
     "execution_count": 105,
     "metadata": {},
     "output_type": "execute_result"
    }
   ],
   "source": [
    "# probabilidade para os estados\n",
    "Ps"
   ]
  },
  {
   "cell_type": "code",
   "execution_count": 106,
   "metadata": {},
   "outputs": [
    {
     "data": {
      "text/plain": [
       "array([ 0.205,  0.252,  0.245,  0.183,  0.115])"
      ]
     },
     "execution_count": 106,
     "metadata": {},
     "output_type": "execute_result"
    }
   ],
   "source": [
    "#probabilidade marginal\n",
    "Pm"
   ]
  },
  {
   "cell_type": "code",
   "execution_count": 107,
   "metadata": {},
   "outputs": [
    {
     "data": {
      "text/plain": [
       "array([ 4.87804878,  3.96825397,  4.08163265,  5.46448087,  8.69565217])"
      ]
     },
     "execution_count": 107,
     "metadata": {},
     "output_type": "execute_result"
    }
   ],
   "source": [
    "Pm1 = 1/Pm\n",
    "Pm1"
   ]
  },
  {
   "cell_type": "code",
   "execution_count": 111,
   "metadata": {},
   "outputs": [
    {
     "data": {
      "text/plain": [
       "array([[ 1. ,  0. ,  0. ],\n",
       "       [ 0.5,  0.5,  0. ],\n",
       "       [ 0. ,  1. ,  0. ],\n",
       "       [ 0. ,  0.5,  0.5],\n",
       "       [ 0. ,  0. ,  1. ]])"
      ]
     },
     "execution_count": 111,
     "metadata": {},
     "output_type": "execute_result"
    }
   ],
   "source": [
    "# Estados x_i por F_j\n",
    "MPrPerInf = (np.dot(CPPer,FS.T))\n",
    "MPrPerInf"
   ]
  },
  {
   "cell_type": "code",
   "execution_count": 112,
   "metadata": {},
   "outputs": [
    {
     "data": {
      "text/plain": [
       "array([[ 10.,   3.,   0.],\n",
       "       [  4.,   9.,   6.],\n",
       "       [  1.,   7.,  10.]])"
      ]
     },
     "execution_count": 112,
     "metadata": {},
     "output_type": "execute_result"
    }
   ],
   "source": [
    "# A_i X F_j ( VOU USAR O TRANSPOSTA DESSE CARA)\n",
    "MU"
   ]
  },
  {
   "cell_type": "code",
   "execution_count": 114,
   "metadata": {},
   "outputs": [
    {
     "data": {
      "text/plain": [
       "array([[ 10. ,   4. ,   1. ],\n",
       "       [  6.5,   6.5,   4. ],\n",
       "       [  3. ,   9. ,   7. ],\n",
       "       [  1.5,   7.5,   8.5],\n",
       "       [  0. ,   6. ,  10. ]])"
      ]
     },
     "execution_count": 114,
     "metadata": {},
     "output_type": "execute_result"
    }
   ],
   "source": [
    "# x_i por A_j\n",
    "UtFA = np.dot(MPrPerInf,MU.T)\n",
    "UtFA"
   ]
  },
  {
   "cell_type": "code",
   "execution_count": 116,
   "metadata": {},
   "outputs": [
    {
     "data": {
      "text/plain": [
       "(array([ 10. ,   6.5,   9. ,   8.5,  10. ]), array([ 1.,  1.,  2.,  3.,  3.]))"
      ]
     },
     "execution_count": 116,
     "metadata": {},
     "output_type": "execute_result"
    }
   ],
   "source": [
    "#A melhor utilidade para cada x_i\n",
    "UTPerInf = UtiEspX(UtFA)\n",
    "UTPerInf"
   ]
  },
  {
   "cell_type": "code",
   "execution_count": 122,
   "metadata": {},
   "outputs": [
    {
     "data": {
      "text/plain": [
       "8.5"
      ]
     },
     "execution_count": 122,
     "metadata": {},
     "output_type": "execute_result"
    }
   ],
   "source": [
    "# POR FIM A UTILIDADE ESPERADA\n",
    "OTIM =  np.dot(UTPerInf[0],Ps)\n",
    "OTIM"
   ]
  },
  {
   "cell_type": "markdown",
   "metadata": {},
   "source": [
    "$$\\large{\\text{Agora vamos calcular o valor de informação probabilística perfeita}}$$"
   ]
  },
  {
   "cell_type": "code",
   "execution_count": 123,
   "metadata": {},
   "outputs": [
    {
     "data": {
      "text/plain": [
       "1.7000000000000002"
      ]
     },
     "execution_count": 123,
     "metadata": {},
     "output_type": "execute_result"
    }
   ],
   "source": [
    "VALORInFPP = OTIM -UtF[1]\n",
    "VALORInFPP"
   ]
  },
  {
   "cell_type": "markdown",
   "metadata": {},
   "source": [
    "## c) Informação Fuzzy"
   ]
  },
  {
   "cell_type": "markdown",
   "metadata": {},
   "source": [
    "$\\normalsize{\\text{Matriz de probabilidade para os estados fuzzy de acordo com as informações\n",
    "fuzzy}}$"
   ]
  },
  {
   "cell_type": "markdown",
   "metadata": {},
   "source": [
    "$$\\normalsize{\\text{PROBLEMA -  ELE NÃO DIZ COMO ACHAR UMA MATRIZ DE ESTADOS FUZZY SOBRE ALTERNATIVAS FUZZY}}$$"
   ]
  },
  {
   "cell_type": "markdown",
   "metadata": {},
   "source": [
    "<hr\\>\n",
    "<hr\\>\n",
    "$$\\Large{\\text{MATRIZ DE ESTADOS FUZZY SOBRE ALTERNATIVAS FUZZY}}$$\n",
    "<hr\\>\n",
    "<hr\\>"
   ]
  },
  {
   "cell_type": "markdown",
   "metadata": {},
   "source": [
    "<img src=\"Images/fig952B.png\">"
   ]
  },
  {
   "cell_type": "code",
   "execution_count": 151,
   "metadata": {},
   "outputs": [
    {
     "data": {
      "text/plain": [
       "array([[ 1. ,  0.5,  0. ,  0. ,  0. ],\n",
       "       [ 0. ,  0.5,  1. ,  0.5,  0. ],\n",
       "       [ 0. ,  0. ,  0. ,  0.5,  1. ]])"
      ]
     },
     "execution_count": 151,
     "metadata": {},
     "output_type": "execute_result"
    }
   ],
   "source": [
    "FS"
   ]
  },
  {
   "cell_type": "code",
   "execution_count": 152,
   "metadata": {},
   "outputs": [
    {
     "data": {
      "text/plain": [
       "array([[ 1. ,  0.4,  0. ,  0. ,  0. ],\n",
       "       [ 0. ,  0.6,  1. ,  0.6,  0. ],\n",
       "       [ 0. ,  0. ,  0. ,  0.4,  1. ]])"
      ]
     },
     "execution_count": 152,
     "metadata": {},
     "output_type": "execute_result"
    }
   ],
   "source": [
    "FM"
   ]
  },
  {
   "cell_type": "code",
   "execution_count": 164,
   "metadata": {},
   "outputs": [
    {
     "data": {
      "text/plain": [
       "array([ 0.2,  0.3,  0.3,  0.1,  0.1])"
      ]
     },
     "execution_count": 164,
     "metadata": {},
     "output_type": "execute_result"
    }
   ],
   "source": [
    "Ps"
   ]
  },
  {
   "cell_type": "code",
   "execution_count": 153,
   "metadata": {},
   "outputs": [
    {
     "data": {
      "text/plain": [
       "array([ 0.205,  0.252,  0.245,  0.183,  0.115])"
      ]
     },
     "execution_count": 153,
     "metadata": {},
     "output_type": "execute_result"
    }
   ],
   "source": [
    "Pm"
   ]
  },
  {
   "cell_type": "code",
   "execution_count": 154,
   "metadata": {},
   "outputs": [
    {
     "data": {
      "text/plain": [
       "array([[ 0.44,  0.35,  0.17,  0.04,  0.  ],\n",
       "       [ 0.26,  0.32,  0.26,  0.13,  0.03],\n",
       "       [ 0.12,  0.23,  0.3 ,  0.23,  0.12],\n",
       "       [ 0.03,  0.13,  0.26,  0.32,  0.26],\n",
       "       [ 0.  ,  0.04,  0.17,  0.35,  0.44]])"
      ]
     },
     "execution_count": 154,
     "metadata": {},
     "output_type": "execute_result"
    }
   ],
   "source": [
    "#(p(x_j|s_i)x DATAX_j)\n",
    "CPUnc"
   ]
  },
  {
   "cell_type": "code",
   "execution_count": 165,
   "metadata": {},
   "outputs": [
    {
     "data": {
      "text/plain": [
       "array([[ 0.088,  0.07 ,  0.034,  0.008,  0.   ],\n",
       "       [ 0.052,  0.064,  0.052,  0.026,  0.006],\n",
       "       [ 0.024,  0.046,  0.06 ,  0.046,  0.024],\n",
       "       [ 0.006,  0.026,  0.052,  0.064,  0.052],\n",
       "       [ 0.   ,  0.008,  0.034,  0.07 ,  0.088]])"
      ]
     },
     "execution_count": 165,
     "metadata": {},
     "output_type": "execute_result"
    }
   ],
   "source": [
    "l,c = CPUnc.shape\n",
    "TR = np.zeros((l,c))\n",
    "for i in range(l):\n",
    "    TR[i,:] = CPUnc[i,:]*Ps[0]\n",
    "TR"
   ]
  },
  {
   "cell_type": "code",
   "execution_count": 166,
   "metadata": {},
   "outputs": [
    {
     "data": {
      "text/plain": [
       "array([[ 1. ,  0.4,  0. ,  0. ,  0. ],\n",
       "       [ 0. ,  0.6,  1. ,  0.6,  0. ],\n",
       "       [ 0. ,  0. ,  0. ,  0.4,  1. ]])"
      ]
     },
     "execution_count": 166,
     "metadata": {},
     "output_type": "execute_result"
    }
   ],
   "source": [
    "FM"
   ]
  },
  {
   "cell_type": "code",
   "execution_count": 167,
   "metadata": {},
   "outputs": [
    {
     "data": {
      "text/plain": [
       "array([[ 0.1088,  0.0956,  0.0548,  0.0184,  0.0024],\n",
       "       [ 0.0588,  0.1   ,  0.1224,  0.1   ,  0.0588],\n",
       "       [ 0.0024,  0.0184,  0.0548,  0.0956,  0.1088]])"
      ]
     },
     "execution_count": 167,
     "metadata": {},
     "output_type": "execute_result"
    }
   ],
   "source": [
    "TR2 = np.dot(FM,TR)\n",
    "TR2"
   ]
  },
  {
   "cell_type": "code",
   "execution_count": 168,
   "metadata": {},
   "outputs": [
    {
     "data": {
      "text/plain": [
       "array([[ 1. ,  0.5,  0. ,  0. ,  0. ],\n",
       "       [ 0. ,  0.5,  1. ,  0.5,  0. ],\n",
       "       [ 0. ,  0. ,  0. ,  0.5,  1. ]])"
      ]
     },
     "execution_count": 168,
     "metadata": {},
     "output_type": "execute_result"
    }
   ],
   "source": [
    "FS"
   ]
  },
  {
   "cell_type": "code",
   "execution_count": 169,
   "metadata": {},
   "outputs": [
    {
     "data": {
      "text/plain": [
       "array([[ 0.1566,  0.1088,  0.0116],\n",
       "       [ 0.1118,  0.2224,  0.1118],\n",
       "       [ 0.0116,  0.1088,  0.1566]])"
      ]
     },
     "execution_count": 169,
     "metadata": {},
     "output_type": "execute_result"
    }
   ],
   "source": [
    "TR3 = np.dot(FS,TR2.T)\n",
    "TR3"
   ]
  },
  {
   "cell_type": "code",
   "execution_count": 170,
   "metadata": {},
   "outputs": [
    {
     "data": {
      "text/plain": [
       "array([ 0.3058,  0.506 ,  0.1882])"
      ]
     },
     "execution_count": 170,
     "metadata": {},
     "output_type": "execute_result"
    }
   ],
   "source": [
    "divid"
   ]
  },
  {
   "cell_type": "code",
   "execution_count": 173,
   "metadata": {},
   "outputs": [
    {
     "data": {
      "text/plain": [
       "array([[ 0.51209941,  0.21501976,  0.06163656],\n",
       "       [ 0.36559843,  0.43952569,  0.59404888],\n",
       "       [ 0.03793329,  0.21501976,  0.83209352]])"
      ]
     },
     "execution_count": 173,
     "metadata": {},
     "output_type": "execute_result"
    }
   ],
   "source": [
    "l,c = TR3.shape\n",
    "Mfinal = np.zeros((l,c))\n",
    "for i in range(l):\n",
    "    Mfinal[:,i] = TR3[:,i]/divid[i]\n",
    "Mfinal\n",
    "    "
   ]
  },
  {
   "cell_type": "code",
   "execution_count": null,
   "metadata": {
    "collapsed": true
   },
   "outputs": [],
   "source": []
  },
  {
   "cell_type": "code",
   "execution_count": null,
   "metadata": {
    "collapsed": true
   },
   "outputs": [],
   "source": []
  },
  {
   "cell_type": "code",
   "execution_count": null,
   "metadata": {
    "collapsed": true
   },
   "outputs": [],
   "source": []
  }
 ],
 "metadata": {
  "kernelspec": {
   "display_name": "Python 3",
   "language": "python",
   "name": "python3"
  },
  "language_info": {
   "codemirror_mode": {
    "name": "ipython",
    "version": 3
   },
   "file_extension": ".py",
   "mimetype": "text/x-python",
   "name": "python",
   "nbconvert_exporter": "python",
   "pygments_lexer": "ipython3",
   "version": "3.6.2"
  }
 },
 "nbformat": 4,
 "nbformat_minor": 2
}
