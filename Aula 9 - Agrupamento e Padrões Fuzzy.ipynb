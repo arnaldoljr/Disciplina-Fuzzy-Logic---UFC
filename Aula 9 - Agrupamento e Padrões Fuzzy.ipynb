{
 "cells": [
  {
   "cell_type": "markdown",
   "metadata": {},
   "source": [
    "$$ {\\huge \\text{ Disciplina: Lógica Fuzzy }}\\\\  \\\\  \\text{ Cap 10/11 - Agrupamento Fuzzy e Reconhecimento de Padrões}\\\\\n",
    "\\ \\  \\ \\ \\ \\ \n",
    "\\\\\n",
    " { \\it  \\text{ Discente: Prof. Dr. João Fernando }  }\n",
    " \\\\\n",
    "\\text{ Monitor: Arnaldo Araújo} \\\\\n",
    "\\text{ Mestrado e Doutorado em Ciências da Computação - UFC }$$\n"
   ]
  },
  {
   "cell_type": "markdown",
   "metadata": {},
   "source": [
    "## Exemplo 10.8"
   ]
  },
  {
   "cell_type": "markdown",
   "metadata": {},
   "source": [
    "<img src=\"Images/exem1081.png\">"
   ]
  },
  {
   "cell_type": "markdown",
   "metadata": {},
   "source": [
    "<img src=\"Images/exem1082.png\">"
   ]
  },
  {
   "cell_type": "markdown",
   "metadata": {},
   "source": [
    "<img src=\"Images/exem1083.png\">"
   ]
  },
  {
   "cell_type": "code",
   "execution_count": 21,
   "metadata": {},
   "outputs": [],
   "source": [
    "import scipy\n"
   ]
  },
  {
   "cell_type": "code",
   "execution_count": 37,
   "metadata": {},
   "outputs": [],
   "source": [
    "import numpy as np\n",
    "import math\n",
    "import scipy\n",
    "from sympy import *\n",
    "from numpy import *\n",
    "from scipy import *\n",
    "from IPython.display import Latex\n",
    "import skfuzzy as fuzz\n",
    "import matplotlib\n",
    "import matplotlib.pyplot as plt\n",
    "import matplotlib.lines as mlines\n",
    "from matplotlib.font_manager import FontProperties\n",
    "%matplotlib inline \n",
    "from __future__ import division\n",
    "import numpy as np\n",
    "import math\n",
    "import scipy\n",
    "from sympy import *\n",
    "from numpy import *\n",
    "from IPython.display import Latex\n",
    "import skfuzzy as fuzz\n",
    "import matplotlib\n",
    "import matplotlib.pyplot as plt\n",
    "import matplotlib.lines as mlines\n",
    "from matplotlib.font_manager import FontProperties\n",
    "%matplotlib inline \n",
    "from __future__ import division"
   ]
  },
  {
   "cell_type": "code",
   "execution_count": 14,
   "metadata": {},
   "outputs": [],
   "source": [
    "pontos= np.array([[1, 3],[1.5, 3.2] ,[ 1.3, 2.8],[3, 1]])\n"
   ]
  },
  {
   "cell_type": "code",
   "execution_count": 15,
   "metadata": {},
   "outputs": [
    {
     "data": {
      "text/plain": [
       "array([[ 1. ,  3. ],\n",
       "       [ 1.5,  3.2],\n",
       "       [ 1.3,  2.8],\n",
       "       [ 3. ,  1. ]])"
      ]
     },
     "execution_count": 15,
     "metadata": {},
     "output_type": "execute_result"
    }
   ],
   "source": [
    "pontos"
   ]
  },
  {
   "cell_type": "code",
   "execution_count": 16,
   "metadata": {},
   "outputs": [
    {
     "data": {
      "image/png": "[encoded data removed]",
      "text/plain": [
       "<matplotlib.figure.Figure at 0x7f8180ab43c8>"
      ]
     },
     "metadata": {},
     "output_type": "display_data"
    }
   ],
   "source": [
    "fig,ax = plt.subplots()\n",
    "\n",
    "ax.plot(pontos[0,0], pontos[0,1],'ro',label='C1')\n",
    "ax.plot(pontos[1:4,0],pontos[1:4,1],'bo',label='C2')\n",
    "ax.axis([0, 4, 0, 4])\n",
    "ax.legend(loc='upper right')\n",
    "ax.legend(bbox_to_anchor=(1.30, 1.05))\n",
    "ax.grid(True)\n",
    "plt.show()"
   ]
  },
  {
   "cell_type": "code",
   "execution_count": 23,
   "metadata": {},
   "outputs": [
    {
     "data": {
      "text/plain": [
       "7.0"
      ]
     },
     "execution_count": 23,
     "metadata": {},
     "output_type": "execute_result"
    }
   ],
   "source": [
    "#Equação 10.13\n",
    "c=2 #quantidade de clusters\n",
    "n=4 #qtd de pontos\n",
    "\n",
    "soma = 0 \n",
    "for i in range(1,c+1):\n",
    "    soma =  soma + scipy.special.binom(c,i)*(-1)**(c-i)*i**(n)\n",
    "\n",
    "Nmc = (1 /math.factorial(c))*soma\n",
    "Nmc"
   ]
  },
  {
   "cell_type": "markdown",
   "metadata": {},
   "source": [
    "## Temos então 7 possíveis combinações"
   ]
  },
  {
   "cell_type": "code",
   "execution_count": 24,
   "metadata": {},
   "outputs": [
    {
     "data": {
      "text/plain": [
       "array([[1, 0, 0, 0],\n",
       "       [0, 1, 1, 1]])"
      ]
     },
     "execution_count": 24,
     "metadata": {},
     "output_type": "execute_result"
    }
   ],
   "source": [
    "#matriz de classificação\n",
    "U = array([[1,0,0,0],[0,1,1,1]])\n",
    "U"
   ]
  },
  {
   "cell_type": "code",
   "execution_count": 25,
   "metadata": {},
   "outputs": [
    {
     "data": {
      "text/plain": [
       "array([[ 0.,  0.],\n",
       "       [ 0.,  0.]])"
      ]
     },
     "execution_count": 25,
     "metadata": {},
     "output_type": "execute_result"
    }
   ],
   "source": [
    "# matriz de coordenadas para os centroídes.\n",
    "m=2\n",
    "v = np.zeros((i,m))\n",
    "v"
   ]
  },
  {
   "cell_type": "code",
   "execution_count": 27,
   "metadata": {},
   "outputs": [
    {
     "name": "stdout",
     "output_type": "stream",
     "text": [
      "1.0\n",
      "3.0\n",
      "1.93333333333\n",
      "2.33333333333\n"
     ]
    }
   ],
   "source": [
    "#temos que achar as coordenadas x e y para cada um dos valoes\n",
    "#O primeiro elemento está em C1\n",
    "#Os outros 3 em C2\n",
    "v[0,0] = (1 * pontos[0,0])/sum(U[0,:])\n",
    "print(v[0,0])\n",
    "v[0,1] = (1 * pontos[0,1])/sum(U[0,:])\n",
    "print(v[0,1])\n",
    "v[1,0] = sum(pontos[1:4,0]) /sum(U[1,:])\n",
    "print(v[1,0])\n",
    "v[1,1] = sum(pontos[1:4,1])/sum(U[1,:])\n",
    "print(v[1,1])"
   ]
  },
  {
   "cell_type": "code",
   "execution_count": 28,
   "metadata": {},
   "outputs": [
    {
     "data": {
      "text/plain": [
       "array([[ 1.        ,  3.        ],\n",
       "       [ 1.93333333,  2.33333333]])"
      ]
     },
     "execution_count": 28,
     "metadata": {},
     "output_type": "execute_result"
    }
   ],
   "source": [
    "#TEMOS OS SEGUINTES CENTROIDES\n",
    "v"
   ]
  },
  {
   "cell_type": "code",
   "execution_count": 29,
   "metadata": {},
   "outputs": [],
   "source": [
    "#Vamos definir uma função para calcular distância.\n",
    "#passa as coordenadas do ponto (x,y) e as coordenadas do centro (cx,cy)\n",
    "def distancia(x,y,cx,cy):\n",
    "    return math.sqrt((x-cx)**2 + (y-cy)**2)"
   ]
  },
  {
   "cell_type": "code",
   "execution_count": 30,
   "metadata": {},
   "outputs": [],
   "source": [
    "#para cada um dos pontos vamos calcular a sua distância aos centroídes\n",
    "d = np.zeros((2,4))\n",
    "d\n",
    "for l in range(2):\n",
    "    for c in range(4):\n",
    "        d[l,c] = distancia(pontos[c,0],pontos[c,1],v[l,0],v[l,1])"
   ]
  },
  {
   "cell_type": "code",
   "execution_count": 31,
   "metadata": {},
   "outputs": [
    {
     "data": {
      "text/plain": [
       "array([[ 0.        ,  0.53851648,  0.36055513,  2.82842712],\n",
       "       [ 1.1469767 ,  0.96896279,  0.78669491,  1.7074998 ]])"
      ]
     },
     "execution_count": 31,
     "metadata": {},
     "output_type": "execute_result"
    }
   ],
   "source": [
    "d"
   ]
  },
  {
   "cell_type": "code",
   "execution_count": 32,
   "metadata": {},
   "outputs": [
    {
     "data": {
      "text/plain": [
       "array([[ 1.,  1.,  1.,  0.],\n",
       "       [ 0.,  0.,  0.,  1.]])"
      ]
     },
     "execution_count": 32,
     "metadata": {},
     "output_type": "execute_result"
    }
   ],
   "source": [
    "#vamos calcular a nova matriz U1\n",
    "U1 =  np.zeros((2,4))\n",
    "for l in range(4):\n",
    "    c = argmin(d[:,l])\n",
    "    U1[c,l] = 1\n",
    "    \n",
    "U1"
   ]
  },
  {
   "cell_type": "markdown",
   "metadata": {},
   "source": [
    "## Como as matrizes U e U1 são diferentes, precisamos calcular os novos centroídes.\n"
   ]
  },
  {
   "cell_type": "code",
   "execution_count": 33,
   "metadata": {},
   "outputs": [
    {
     "name": "stdout",
     "output_type": "stream",
     "text": [
      "1.26666666667\n",
      "3.0\n",
      "3.0\n",
      "1.0\n"
     ]
    }
   ],
   "source": [
    "v[0,0] = sum(pontos[0:3,0])/sum(U1[0,:])\n",
    "print(v[0,0])\n",
    "v[0,1] = sum(pontos[0:3,1])/sum(U1[0,:])\n",
    "print (v[0,1])\n",
    "v[1,0] = pontos[3,0] /sum(U1[1,:])\n",
    "print (v[1,0])\n",
    "v[1,1] = (pontos[3,1])/sum(U1[1,:])\n",
    "print (v[1,1])"
   ]
  },
  {
   "cell_type": "code",
   "execution_count": 34,
   "metadata": {},
   "outputs": [
    {
     "data": {
      "text/plain": [
       "array([[ 0.26666667,  0.30731815,  0.20275875,  2.6465911 ],\n",
       "       [ 2.82842712,  2.66270539,  2.47588368,  0.        ]])"
      ]
     },
     "execution_count": 34,
     "metadata": {},
     "output_type": "execute_result"
    }
   ],
   "source": [
    "#vamos agora calcular as novas distâncias aos centróides\n",
    "for l in range(2):\n",
    "    for c in range(4):\n",
    "        d[l,c] = distancia(pontos[c,0],pontos[c,1],v[l,0],v[l,1])\n",
    "d"
   ]
  },
  {
   "cell_type": "code",
   "execution_count": 35,
   "metadata": {},
   "outputs": [
    {
     "data": {
      "text/plain": [
       "array([[ 1.,  1.,  1.,  0.],\n",
       "       [ 0.,  0.,  0.,  1.]])"
      ]
     },
     "execution_count": 35,
     "metadata": {},
     "output_type": "execute_result"
    }
   ],
   "source": [
    "#vamos calcular a nova matriz U2\n",
    "U2 =  np.zeros((2,4))\n",
    "for l in range(4):\n",
    "    c = argmin(d[:,l])\n",
    "    U2[c,l] = 1\n",
    "    \n",
    "U2"
   ]
  },
  {
   "cell_type": "markdown",
   "metadata": {},
   "source": [
    "Como as partições U1 e U2 são identicas, chegamos ao nosso conjunto de partição ótimo"
   ]
  },
  {
   "cell_type": "markdown",
   "metadata": {},
   "source": [
    "# Exemplo 10.11"
   ]
  },
  {
   "cell_type": "markdown",
   "metadata": {},
   "source": [
    "<img src=\"Images/exem102112.png\">"
   ]
  },
  {
   "cell_type": "code",
   "execution_count": 39,
   "metadata": {},
   "outputs": [],
   "source": [
    "pontos= np.array([[1, 3],[1.5, 3.2] ,[ 1.3, 2.8],[3, 1]])"
   ]
  },
  {
   "cell_type": "code",
   "execution_count": 40,
   "metadata": {},
   "outputs": [
    {
     "data": {
      "text/plain": [
       "array([[ 1. ,  3. ],\n",
       "       [ 1.5,  3.2],\n",
       "       [ 1.3,  2.8],\n",
       "       [ 3. ,  1. ]])"
      ]
     },
     "execution_count": 40,
     "metadata": {},
     "output_type": "execute_result"
    }
   ],
   "source": [
    "pontos"
   ]
  },
  {
   "cell_type": "code",
   "execution_count": 41,
   "metadata": {},
   "outputs": [
    {
     "data": {
      "text/plain": [
       "array([[1, 1, 1, 0],\n",
       "       [0, 0, 0, 1]])"
      ]
     },
     "execution_count": 41,
     "metadata": {},
     "output_type": "execute_result"
    }
   ],
   "source": [
    "#Primeiro vamos definir a matriz de agrupamento inicial\n",
    "#matriz de classificação\n",
    "U = array([[1,1,1,0],[0,0,0,1]])\n",
    "U"
   ]
  },
  {
   "cell_type": "code",
   "execution_count": 42,
   "metadata": {},
   "outputs": [
    {
     "data": {
      "image/png": "[encoded data removed]",
      "text/plain": [
       "<matplotlib.figure.Figure at 0x7f817d36fd68>"
      ]
     },
     "metadata": {},
     "output_type": "display_data"
    }
   ],
   "source": [
    "fig,ax = plt.subplots()\n",
    "ax.plot(pontos[0:3,0], pontos[0:3,1],'ro',label='C1')\n",
    "ax.plot(pontos[3,0],pontos[3,1],'bo',label='C2')\n",
    "ax.axis([0, 4, 0, 4])\n",
    "ax.legend(loc='upper right')\n",
    "ax.legend(bbox_to_anchor=(1.30, 1.05))\n",
    "ax.grid(True)\n",
    "plt.show()"
   ]
  },
  {
   "cell_type": "code",
   "execution_count": 44,
   "metadata": {},
   "outputs": [],
   "source": [
    "# matriz de coordenadas para os centroides.\n",
    "m=2\n",
    "c=2\n",
    "v = np.zeros((c,m))\n",
    "#agora vamos calcular a posição dos centros iniciais dos clusters\n",
    "for l in range(v.shape[0]):\n",
    "        for k in range(v.shape[1]):\n",
    "            dividendo = 0\n",
    "            divisor = 0\n",
    "            for i in range(pontos.shape[0]):\n",
    "                dividendo = dividendo + ((U[l,i])**2)*(pontos[i,k])\n",
    "                divisor = divisor + (U[l,i]**2)\n",
    "            v[l,k] = dividendo/divisor"
   ]
  },
  {
   "cell_type": "code",
   "execution_count": 45,
   "metadata": {},
   "outputs": [
    {
     "data": {
      "text/plain": [
       "array([[ 1.26666667,  3.        ],\n",
       "       [ 3.        ,  1.        ]])"
      ]
     },
     "execution_count": 45,
     "metadata": {},
     "output_type": "execute_result"
    }
   ],
   "source": [
    "v"
   ]
  },
  {
   "cell_type": "code",
   "execution_count": 46,
   "metadata": {},
   "outputs": [
    {
     "data": {
      "image/png": "[encoded data removed]",
      "text/plain": [
       "<matplotlib.figure.Figure at 0x7f8182b4b5f8>"
      ]
     },
     "metadata": {},
     "output_type": "display_data"
    }
   ],
   "source": [
    "fig,ax = plt.subplots()\n",
    "ax.plot(pontos[0:3,0], pontos[0:3,1],'ro',markersize=9,label='C1')\n",
    "ax.plot(v[0,0],v[0,1],'ko',label='Centro do Grupo 1')\n",
    "ax.plot(pontos[3,0],pontos[3,1],'bo',markersize=9,label='C2')\n",
    "ax.plot(v[1,0],v[1,1],'yo',label='Centro do Grupo 2')\n",
    "ax.axis([0, 4, 0, 4])\n",
    "ax.legend(loc='upper right')\n",
    "ax.legend(bbox_to_anchor=(1.30, 1.05))\n",
    "ax.grid(True)\n",
    "plt.show()"
   ]
  },
  {
   "cell_type": "code",
   "execution_count": 47,
   "metadata": {},
   "outputs": [],
   "source": [
    "#Vamos definir uma função para calcular a distância.\n",
    "#passa as coordenadas do ponto (x,y) e as coordenadas do centro (cx,cy)\n",
    "def distancia(x,y,cx,cy):\n",
    "    return math.sqrt((x-cx)**2 + (y-cy)**2)"
   ]
  },
  {
   "cell_type": "code",
   "execution_count": 48,
   "metadata": {},
   "outputs": [
    {
     "data": {
      "text/plain": [
       "array([[ 0.26666667,  0.30731815,  0.20275875,  2.6465911 ],\n",
       "       [ 2.82842712,  2.66270539,  2.47588368,  0.        ]])"
      ]
     },
     "execution_count": 48,
     "metadata": {},
     "output_type": "execute_result"
    }
   ],
   "source": [
    "#Agora vamos calcular a distância de cada ponto até os centroides\n",
    "d = np.zeros((2,4))\n",
    "for l in range(2):\n",
    "    for c in range(4):\n",
    "        d[l,c] = distancia(pontos[c,0],pontos[c,1],v[l,0],v[l,1])\n",
    "d"
   ]
  },
  {
   "cell_type": "code",
   "execution_count": 49,
   "metadata": {},
   "outputs": [
    {
     "name": "stderr",
     "output_type": "stream",
     "text": [
      "/usr/local/lib/python3.5/dist-packages/ipykernel_launcher.py:5: RuntimeWarning: divide by zero encountered in double_scalars\n",
      "  \"\"\"\n",
      "/usr/local/lib/python3.5/dist-packages/ipykernel_launcher.py:5: RuntimeWarning: invalid value encountered in double_scalars\n",
      "  \"\"\"\n"
     ]
    },
    {
     "data": {
      "text/plain": [
       "array([[ 0.99118943,  0.98685431,  0.99333813,  0.        ],\n",
       "       [ 0.00881057,  0.01314569,  0.00666187,         nan]])"
      ]
     },
     "execution_count": 49,
     "metadata": {},
     "output_type": "execute_result"
    }
   ],
   "source": [
    "U1 = np.zeros((2,4))\n",
    "#Agora vamos determinar quão pertinente é cada elemento aos 2 clusters\n",
    "for l in range(2):\n",
    "    for c in range(4):\n",
    "        U1[l,c] = (( d[l,c]/d[0,c] )**2 + (d[l,c]/d[1,c])**2)**(-1)\n",
    "U1"
   ]
  },
  {
   "cell_type": "markdown",
   "metadata": {},
   "source": [
    "## OBSERVAÇÃO -> Há uma restrição de integridade sobre os dados diante dos valores que expressam a perniência nas classes. A soma destes valores deve ser 1, logo o campo U[1,3] deve receber diretamente 1.}}"
   ]
  },
  {
   "cell_type": "code",
   "execution_count": 50,
   "metadata": {},
   "outputs": [],
   "source": [
    "U1[1,3] = 1"
   ]
  },
  {
   "cell_type": "code",
   "execution_count": 51,
   "metadata": {},
   "outputs": [
    {
     "data": {
      "text/plain": [
       "array([[ 0.99118943,  0.98685431,  0.99333813,  0.        ],\n",
       "       [ 0.00881057,  0.01314569,  0.00666187,  1.        ]])"
      ]
     },
     "execution_count": 51,
     "metadata": {},
     "output_type": "execute_result"
    }
   ],
   "source": [
    "U1"
   ]
  },
  {
   "cell_type": "code",
   "execution_count": 52,
   "metadata": {},
   "outputs": [
    {
     "data": {
      "text/plain": [
       "array([[1, 1, 1, 0],\n",
       "       [0, 0, 0, 1]])"
      ]
     },
     "execution_count": 52,
     "metadata": {},
     "output_type": "execute_result"
    }
   ],
   "source": [
    "#matriz de classificação\n",
    "U = array([[1,1,1,0],[0,0,0,1]])\n",
    "U"
   ]
  },
  {
   "cell_type": "markdown",
   "metadata": {},
   "source": [
    "De posse da matriz de agrupamento, vamos avaliar o critérios de convergência."
   ]
  },
  {
   "cell_type": "code",
   "execution_count": 53,
   "metadata": {},
   "outputs": [
    {
     "name": "stdout",
     "output_type": "stream",
     "text": [
      "0.0131456851222\n"
     ]
    }
   ],
   "source": [
    "maior = 0\n",
    "for l in range(2):\n",
    "    for c in range(4):\n",
    "        var = np.abs(U1[l,c] - U[l,c])\n",
    "        if var > maior:\n",
    "            maior = var\n",
    "            maxi = maior\n",
    "print(maxi)"
   ]
  },
  {
   "cell_type": "markdown",
   "metadata": {},
   "source": [
    "Como o valor encontrado é maior que o critério de convergência, 0.001, devemos continuar o processo de clusterização."
   ]
  },
  {
   "cell_type": "code",
   "execution_count": 54,
   "metadata": {},
   "outputs": [
    {
     "data": {
      "text/plain": [
       "array([[ 1.26666667,  3.        ],\n",
       "       [ 3.        ,  1.        ]])"
      ]
     },
     "execution_count": 54,
     "metadata": {},
     "output_type": "execute_result"
    }
   ],
   "source": [
    "v"
   ]
  },
  {
   "cell_type": "code",
   "execution_count": 55,
   "metadata": {},
   "outputs": [
    {
     "data": {
      "text/plain": [
       "array([[ 0.99118943,  0.98685431,  0.99333813,  0.        ],\n",
       "       [ 0.00881057,  0.01314569,  0.00666187,  1.        ]])"
      ]
     },
     "execution_count": 55,
     "metadata": {},
     "output_type": "execute_result"
    }
   ],
   "source": [
    "U1"
   ]
  },
  {
   "cell_type": "code",
   "execution_count": 57,
   "metadata": {},
   "outputs": [
    {
     "data": {
      "text/plain": [
       "array([[ 1. ,  3. ],\n",
       "       [ 1.5,  3.2],\n",
       "       [ 1.3,  2.8],\n",
       "       [ 3. ,  1. ]])"
      ]
     },
     "execution_count": 57,
     "metadata": {},
     "output_type": "execute_result"
    }
   ],
   "source": [
    "pontos"
   ]
  },
  {
   "cell_type": "code",
   "execution_count": 58,
   "metadata": {},
   "outputs": [
    {
     "data": {
      "text/plain": [
       "array([[ 1.26603511,  2.99912749],\n",
       "       [ 2.99951023,  1.00061514]])"
      ]
     },
     "execution_count": 58,
     "metadata": {},
     "output_type": "execute_result"
    }
   ],
   "source": [
    "v1 = np.zeros((2,2))\n",
    "for j in range(2):\n",
    "    for i in range(2):\n",
    "        soma1 = 0\n",
    "        soma2 = 0\n",
    "        for k in range(4):\n",
    "            soma1 = soma1 + ((U1[j,k])**2)*pontos[k,i]\n",
    "            soma2 = soma2 + ((U1[j,k])**2)\n",
    "        v1[j,i] = soma1/soma2\n",
    "v1"
   ]
  },
  {
   "cell_type": "code",
   "execution_count": 59,
   "metadata": {},
   "outputs": [
    {
     "data": {
      "text/plain": [
       "array([[ 1.26666667,  3.        ],\n",
       "       [ 3.        ,  1.        ]])"
      ]
     },
     "execution_count": 59,
     "metadata": {},
     "output_type": "execute_result"
    }
   ],
   "source": [
    "v"
   ]
  },
  {
   "cell_type": "code",
   "execution_count": 60,
   "metadata": {},
   "outputs": [
    {
     "data": {
      "image/png": "[encoded data removed]",
      "text/plain": [
       "<matplotlib.figure.Figure at 0x7f817d31e860>"
      ]
     },
     "metadata": {},
     "output_type": "display_data"
    }
   ],
   "source": [
    "fig,ax = plt.subplots()\n",
    "ax.plot(pontos[0:3,0], pontos[0:3,1],'ro',markersize=9,label='C1')\n",
    "ax.plot(v1[0,0],v1[0,1],'ko',label='Centro do Grupo 1')\n",
    "ax.plot(pontos[3,0],pontos[3,1],'bo',markersize=9,label='C2')\n",
    "ax.plot(v1[1,0],v1[1,1],'yo',label='Centro do Grupo 2')\n",
    "ax.axis([0, 4, 0, 4])\n",
    "ax.legend(loc='upper right')\n",
    "ax.legend(bbox_to_anchor=(1.30, 1.05))\n",
    "ax.grid(True)\n",
    "plt.show()"
   ]
  },
  {
   "cell_type": "markdown",
   "metadata": {},
   "source": [
    "Como v e v1 são praticamente idênticos, temos que o conjunto U1 é a melhor matriz\n",
    "de clusterização."
   ]
  },
  {
   "cell_type": "markdown",
   "metadata": {},
   "source": [
    "# Exemplo 10.12"
   ]
  },
  {
   "cell_type": "markdown",
   "metadata": {},
   "source": [
    "<img src=\"Images/exem10121.png\">"
   ]
  },
  {
   "cell_type": "markdown",
   "metadata": {},
   "source": [
    "<img src=\"Images/exem10122.png\">"
   ]
  },
  {
   "cell_type": "markdown",
   "metadata": {},
   "source": [
    "<img src=\"Images/exem10123.png\">"
   ]
  },
  {
   "cell_type": "markdown",
   "metadata": {},
   "source": [
    "<img src=\"Images/exem10124.png\">"
   ]
  },
  {
   "cell_type": "code",
   "execution_count": 65,
   "metadata": {},
   "outputs": [
    {
     "data": {
      "text/plain": [
       "array([[ 0.   ,  0.973,  0.998,  0.   ,  0.976,  0.998],\n",
       "       [ 1.   ,  0.027,  0.002,  1.   ,  0.024,  0.002]])"
      ]
     },
     "execution_count": 65,
     "metadata": {},
     "output_type": "execute_result"
    }
   ],
   "source": [
    "#U1\n",
    "U1 = np.array([[0.000,0.973,0.998,0.000,0.976,0.998],[1.000,0.027,0.002,1.000,0.024,0.002]])\n",
    "U1"
   ]
  },
  {
   "cell_type": "code",
   "execution_count": 66,
   "metadata": {},
   "outputs": [
    {
     "data": {
      "text/plain": [
       "array([[0, 0, 1, 0, 0, 1],\n",
       "       [0, 1, 0, 0, 1, 0],\n",
       "       [1, 0, 0, 1, 0, 0]])"
      ]
     },
     "execution_count": 66,
     "metadata": {},
     "output_type": "execute_result"
    }
   ],
   "source": [
    "U2 = array([[0,0,1,0,0,1],[0,1,0,0,1,0],[1,0,0,1,0,0]])\n",
    "U2"
   ]
  },
  {
   "cell_type": "code",
   "execution_count": 67,
   "metadata": {},
   "outputs": [
    {
     "data": {
      "text/plain": [
       "0.98210433333333336"
      ]
     },
     "execution_count": 67,
     "metadata": {},
     "output_type": "execute_result"
    }
   ],
   "source": [
    "U1tr = U1.transpose()\n",
    "ResU1 = np.dot(U1,U1tr)\n",
    "FU1 = ResU1.trace()/6\n",
    "FU1"
   ]
  },
  {
   "cell_type": "code",
   "execution_count": 68,
   "metadata": {},
   "outputs": [
    {
     "data": {
      "text/plain": [
       "1.0"
      ]
     },
     "execution_count": 68,
     "metadata": {},
     "output_type": "execute_result"
    }
   ],
   "source": [
    "U2tr = U2.transpose()\n",
    "ResU2 = np.dot(U2,U2tr)\n",
    "FU2 = ResU2.trace()/6\n",
    "FU2"
   ]
  },
  {
   "cell_type": "markdown",
   "metadata": {},
   "source": [
    "A medida que o valor de F(U) aumenta, melhor a clusterização dos dados."
   ]
  },
  {
   "cell_type": "markdown",
   "metadata": {},
   "source": [
    "## Exemplo 10.13"
   ]
  },
  {
   "cell_type": "markdown",
   "metadata": {},
   "source": [
    "<img src=\"Images/exem1013.png\">"
   ]
  },
  {
   "cell_type": "code",
   "execution_count": 70,
   "metadata": {},
   "outputs": [
    {
     "data": {
      "text/plain": [
       "array([[ 0.991 ,  0.986 ,  0.0993,  0.    ],\n",
       "       [ 0.009 ,  0.014 ,  0.007 ,  1.    ]])"
      ]
     },
     "execution_count": 70,
     "metadata": {},
     "output_type": "execute_result"
    }
   ],
   "source": [
    "# Método da maior pertinência\n",
    "U = array([[0.991,0.986,.0993,0],[0.009,0.014,0.007,1]])\n",
    "U"
   ]
  },
  {
   "cell_type": "code",
   "execution_count": 71,
   "metadata": {},
   "outputs": [
    {
     "data": {
      "text/plain": [
       "array([[ 0.,  0.,  0.,  0.],\n",
       "       [ 0.,  0.,  0.,  0.]])"
      ]
     },
     "execution_count": 71,
     "metadata": {},
     "output_type": "execute_result"
    }
   ],
   "source": [
    "Umax = np.zeros((2,4))\n",
    "Umax"
   ]
  },
  {
   "cell_type": "code",
   "execution_count": 72,
   "metadata": {},
   "outputs": [
    {
     "data": {
      "text/plain": [
       "array([[ 1.,  1.,  1.,  0.],\n",
       "       [ 0.,  0.,  0.,  1.]])"
      ]
     },
     "execution_count": 72,
     "metadata": {},
     "output_type": "execute_result"
    }
   ],
   "source": [
    "for i in range(4):\n",
    "    c = argmax(U[:,i])\n",
    "    Umax[c,i] = 1\n",
    "Umax"
   ]
  },
  {
   "cell_type": "code",
   "execution_count": 73,
   "metadata": {},
   "outputs": [
    {
     "data": {
      "text/plain": [
       "array([[ 0.26,  0.31,  0.2 ,  2.65],\n",
       "       [ 2.82,  2.66,  2.47,  0.  ]])"
      ]
     },
     "execution_count": 73,
     "metadata": {},
     "output_type": "execute_result"
    }
   ],
   "source": [
    "d = array([[0.26,0.31,0.20,2.65],[2.82,2.66,2.47,0]])\n",
    "d"
   ]
  },
  {
   "cell_type": "code",
   "execution_count": 74,
   "metadata": {},
   "outputs": [
    {
     "data": {
      "text/plain": [
       "array([[ 0.,  0.,  0.,  0.],\n",
       "       [ 0.,  0.,  0.,  0.]])"
      ]
     },
     "execution_count": 74,
     "metadata": {},
     "output_type": "execute_result"
    }
   ],
   "source": [
    "Umin = np.zeros((2,4))\n",
    "Umin"
   ]
  },
  {
   "cell_type": "code",
   "execution_count": 75,
   "metadata": {},
   "outputs": [
    {
     "data": {
      "text/plain": [
       "array([[ 1.,  1.,  1.,  0.],\n",
       "       [ 0.,  0.,  0.,  1.]])"
      ]
     },
     "execution_count": 75,
     "metadata": {},
     "output_type": "execute_result"
    }
   ],
   "source": [
    "for i in range(4):\n",
    "    c = argmin(d[:,i])\n",
    "    Umin[c,i] = 1\n",
    "Umin"
   ]
  },
  {
   "cell_type": "markdown",
   "metadata": {},
   "source": [
    "## Exemplo 10.14"
   ]
  },
  {
   "cell_type": "markdown",
   "metadata": {},
   "source": [
    "<img src=\"Images/exem1014.png\">"
   ]
  },
  {
   "cell_type": "code",
   "execution_count": 76,
   "metadata": {},
   "outputs": [
    {
     "data": {
      "text/plain": [
       "array([[ 0.91,  0.09],\n",
       "       [ 0.58,  0.42],\n",
       "       [ 0.13,  0.87]])"
      ]
     },
     "execution_count": 76,
     "metadata": {},
     "output_type": "execute_result"
    }
   ],
   "source": [
    "U = array([[0.91,0.58,0.13],[0.09,0.42,0.87]])\n",
    "UT = U.transpose()\n",
    "UT"
   ]
  },
  {
   "cell_type": "code",
   "execution_count": 78,
   "metadata": {},
   "outputs": [
    {
     "data": {
      "text/plain": [
       "array([[ 1.  ,  0.67,  0.22],\n",
       "       [ 0.67,  1.  ,  0.55],\n",
       "       [ 0.22,  0.55,  1.  ]])"
      ]
     },
     "execution_count": 78,
     "metadata": {},
     "output_type": "execute_result"
    }
   ],
   "source": [
    "r = np.zeros((3,3))\n",
    "for i in range(3):\n",
    "        k = i\n",
    "        while k<3:\n",
    "            soma = 0\n",
    "            soma = soma + min(UT[i,0],UT[k,0]) + min(UT[i,1],UT[k,1])\n",
    "            r[i,k] = soma\n",
    "            r[k,i] = soma\n",
    "            k = k+1\n",
    "r"
   ]
  }
 ],
 "metadata": {
  "kernelspec": {
   "display_name": "Python 3",
   "language": "python",
   "name": "python3"
  },
  "language_info": {
   "codemirror_mode": {
    "name": "ipython",
    "version": 3
   },
   "file_extension": ".py",
   "mimetype": "text/x-python",
   "name": "python",
   "nbconvert_exporter": "python",
   "pygments_lexer": "ipython3",
   "version": "3.5.2"
  }
 },
 "nbformat": 4,
 "nbformat_minor": 2
}
